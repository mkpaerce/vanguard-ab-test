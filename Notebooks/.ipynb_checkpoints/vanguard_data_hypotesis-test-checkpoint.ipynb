{
 "cells": [
  {
   "cell_type": "markdown",
   "id": "4214cac0-cb94-448c-9f5c-be7318681f83",
   "metadata": {
    "jp-MarkdownHeadingCollapsed": true
   },
   "source": [
    "## **Import the libraries** ##"
   ]
  },
  {
   "cell_type": "code",
   "execution_count": null,
   "id": "b5bfbaf4-5e7f-4242-8752-8c142c1260e0",
   "metadata": {},
   "outputs": [],
   "source": [
    "import pandas as pd\n",
    "import matplotlib.pyplot as plt\n",
    "import seaborn as sns\n",
    "import numpy as np\n",
    "\n",
    "%matplotlib inline\n",
    "df_web_test=pd.read_csv(\"../Data/Clean/df_final_web_data_test_clean.txt\")\n",
    "df_web_control=pd.read_csv(\"../Data/Clean/df_final_web_data_control_clean.txt\")"
   ]
  },
  {
   "cell_type": "markdown",
   "id": "d8bf8ad8-3919-4245-a0bb-d10e4c0c72a9",
   "metadata": {
    "jp-MarkdownHeadingCollapsed": true
   },
   "source": [
    "## **Analysis** ##"
   ]
  },
  {
   "cell_type": "markdown",
   "id": "1bf9c5d6-829f-43ef-84c9-408927d5ec03",
   "metadata": {
    "jp-MarkdownHeadingCollapsed": true
   },
   "source": [
    "## **Device - Test** ##"
   ]
  },
  {
   "cell_type": "code",
   "execution_count": null,
   "id": "3ac3cf63-cec7-4350-96a7-20e4542c19f1",
   "metadata": {},
   "outputs": [],
   "source": [
    "#Create a new date_frame to see the use of device\n",
    "df_web_test_device=df_web_test[[\"client_id\",\"visitor_id\"]]\n",
    "df_web_test_device=df_web_test_device.drop_duplicates()\n",
    "df_web_test_device=pd.DataFrame(df_web_test_device.groupby(\"client_id\")[\"visitor_id\"].count())\n",
    "df_web_test_device=df_web_test_device.rename(columns={\"visitor_id\":\"num_devices\"})\n",
    "df_web_test_device=df_web_test_device.reset_index()\n",
    "df_web_test_device"
   ]
  },
  {
   "cell_type": "code",
   "execution_count": null,
   "id": "8b79ae63-49aa-4668-81bf-3eaf258e6800",
   "metadata": {},
   "outputs": [],
   "source": [
    "device_stat_test=df_web_test_device[\"num_devices\"].describe()\n",
    "device_mode_test=df_web_test_device[\"num_devices\"].mode()[0]\n",
    "\n",
    "print(f\"The stadictical for the number of device per client is {device_stat_test}\")\n",
    "print(f\"The mode for the number of device pero cliente is {device_mode_test}\")"
   ]
  },
  {
   "cell_type": "code",
   "execution_count": null,
   "id": "4bd2ebdb-1509-4d5f-865b-149926e945cd",
   "metadata": {},
   "outputs": [],
   "source": [
    "sns.histplot(df_web_test_device['num_devices'], kde=True, bins=15, color=\"orange\")\n",
    "plt.show()"
   ]
  },
  {
   "cell_type": "markdown",
   "id": "de3f2881-580d-422c-b4d1-e27f9578a6cc",
   "metadata": {},
   "source": [
    "**Analysis**: from all the almost 27.000 clients, almost 75% of the customer only use 1 device to get into our portal.There is some clients who use more than 4 devices that we can consider outliners."
   ]
  },
  {
   "cell_type": "code",
   "execution_count": null,
   "id": "788e5a34-a7f9-4504-86f4-0fa6c995da9a",
   "metadata": {},
   "outputs": [],
   "source": [
    "sns.boxplot(df_web_test_device['num_devices'], color=\"lightblue\")\n",
    "plt.show()"
   ]
  },
  {
   "cell_type": "markdown",
   "id": "e3ebb874-4000-4892-8f8b-237485356b47",
   "metadata": {
    "jp-MarkdownHeadingCollapsed": true
   },
   "source": [
    "## **Device - Control** ##"
   ]
  },
  {
   "cell_type": "code",
   "execution_count": null,
   "id": "83fa3124-817b-404f-969c-99df1860ce3f",
   "metadata": {},
   "outputs": [],
   "source": [
    "#Create a new date_frame to see the use of device\n",
    "df_web_control_device=df_web_control[[\"client_id\",\"visitor_id\"]]\n",
    "df_web_control_device=df_web_control_device.drop_duplicates()\n",
    "df_web_control_device=pd.DataFrame(df_web_control_device.groupby(\"client_id\")[\"visitor_id\"].count())\n",
    "df_web_control_device=df_web_control_device.rename(columns={\"visitor_id\":\"num_devices\"})\n",
    "df_web_control_device=df_web_control_device.reset_index()\n",
    "df_web_control_device"
   ]
  },
  {
   "cell_type": "code",
   "execution_count": null,
   "id": "a100befb-d348-4c55-a02e-ac98db8ff319",
   "metadata": {},
   "outputs": [],
   "source": [
    "device_stat_control=df_web_control_device[\"num_devices\"].describe()\n",
    "device_mode_control=df_web_control_device[\"num_devices\"].mode()[0]\n",
    "\n",
    "print(f\"The stadictical for the number of device per client is {device_stat_control}\")\n",
    "print(f\"The mode for the number of device pero cliente is {device_mode_control}\")"
   ]
  },
  {
   "cell_type": "code",
   "execution_count": null,
   "id": "340cf159-c11d-4996-8f70-6b36b092986c",
   "metadata": {},
   "outputs": [],
   "source": [
    "sns.histplot(df_web_control_device['num_devices'], kde=True, bins=15, color=\"orange\")\n",
    "plt.show()"
   ]
  },
  {
   "cell_type": "code",
   "execution_count": null,
   "id": "bab9f763-af42-47eb-b28d-94084e7e5e70",
   "metadata": {},
   "outputs": [],
   "source": [
    "sns.boxplot(df_web_control_device['num_devices'], color=\"lightblue\")\n",
    "plt.show()"
   ]
  },
  {
   "cell_type": "markdown",
   "id": "702720d7-154a-4a4f-a600-7a01425d02e5",
   "metadata": {
    "jp-MarkdownHeadingCollapsed": true
   },
   "source": [
    "## **Connection times - Test** ##"
   ]
  },
  {
   "cell_type": "code",
   "execution_count": null,
   "id": "3dbfb850-2ea7-40da-837a-8560f1b0bdd4",
   "metadata": {},
   "outputs": [],
   "source": [
    "#Create a new date_frame to see how many interaction has been made for each client\n",
    "df_web_test_visit=df_web_test[[\"client_id\",\"visit_id\"]]\n",
    "df_web_test_visit=df_web_test_visit.drop_duplicates()\n",
    "df_web_test_visit=pd.DataFrame(df_web_test_visit.groupby(\"client_id\")[\"visit_id\"].count())\n",
    "df_web_test_visit=df_web_test_visit.rename(columns={\"visit_id\":\"num_visits\"})\n",
    "df_web_test_visit=df_web_test_visit.reset_index()\n",
    "df_web_test_visit"
   ]
  },
  {
   "cell_type": "code",
   "execution_count": null,
   "id": "79381da7-081d-416b-9fa2-89b4b98c0f55",
   "metadata": {},
   "outputs": [],
   "source": [
    "visit_stat_test=df_web_test_visit[\"num_visits\"].describe()\n",
    "visit_mode_test=df_web_test_visit[\"num_visits\"].mode()[0]\n",
    "\n",
    "print(f\"The stadictical for the number of device per client is {visit_stat_test}\")\n",
    "print(f\"The mode for the number of device pero cliente is {visit_mode_test}\")"
   ]
  },
  {
   "cell_type": "code",
   "execution_count": null,
   "id": "6cecdfa4-18ab-4667-8a9d-79f2c236af5b",
   "metadata": {},
   "outputs": [],
   "source": [
    "sns.histplot(df_web_test_visit['num_visits'], kde=True, bins=15, color=\"red\")\n",
    "plt.show()"
   ]
  },
  {
   "cell_type": "code",
   "execution_count": null,
   "id": "108d1a8b-8df4-4f2c-8dd4-82c359a44ec3",
   "metadata": {},
   "outputs": [],
   "source": [
    "sns.boxplot(df_web_test_visit['num_visits'], color=\"red\")\n",
    "plt.show()"
   ]
  },
  {
   "cell_type": "markdown",
   "id": "e21279dc-f26e-4824-822e-eff7e62728a4",
   "metadata": {},
   "source": [
    "**Analysis**: The test clients have only interact one time with the new web. As we can see the mean of interactions is 1.37 and only 25% of the total clients have interact with the web, at least, 2 times. We also see some outliner which has interact with the web more than 4 times."
   ]
  },
  {
   "cell_type": "markdown",
   "id": "858aa414-9211-474d-9e85-53227efa970b",
   "metadata": {
    "jp-MarkdownHeadingCollapsed": true
   },
   "source": [
    "## **Connection times - Control** ##"
   ]
  },
  {
   "cell_type": "code",
   "execution_count": null,
   "id": "60c63a3b-c5fe-4049-8d3b-8fbc7142d26a",
   "metadata": {},
   "outputs": [],
   "source": [
    "#Create a new date_frame to see how many interaction has been made for each client\n",
    "df_web_control_visit=df_web_control[[\"client_id\",\"visit_id\"]]\n",
    "df_web_control_visit=df_web_control_visit.drop_duplicates()\n",
    "df_web_control_visit=pd.DataFrame(df_web_control_visit.groupby(\"client_id\")[\"visit_id\"].count())\n",
    "df_web_control_visit=df_web_control_visit.rename(columns={\"visit_id\":\"num_visits\"})\n",
    "df_web_control_visit=df_web_control_visit.reset_index()\n",
    "df_web_control_visit"
   ]
  },
  {
   "cell_type": "code",
   "execution_count": null,
   "id": "cbdffdf3-a5b9-4884-af62-3c66751fadf4",
   "metadata": {},
   "outputs": [],
   "source": [
    "visit_stat_control=df_web_control_visit[\"num_visits\"].describe()\n",
    "visit_mode_control=df_web_control_visit[\"num_visits\"].mode()[0]\n",
    "\n",
    "print(f\"The stadictical for the number of device per client is {visit_stat_control}\")\n",
    "print(f\"The mode for the number of device pero cliente is {visit_mode_control}\")"
   ]
  },
  {
   "cell_type": "code",
   "execution_count": null,
   "id": "4c92a058-b10e-4bf3-b05f-107dd3fc64df",
   "metadata": {},
   "outputs": [],
   "source": [
    "sns.histplot(df_web_control_visit['num_visits'], kde=True, bins=15, color=\"red\")\n",
    "plt.show()"
   ]
  },
  {
   "cell_type": "code",
   "execution_count": null,
   "id": "ecabbb8d-5737-41f5-b88c-e26a3068c9d4",
   "metadata": {},
   "outputs": [],
   "source": [
    "sns.boxplot(df_web_control_visit['num_visits'], color=\"red\")\n",
    "plt.show()"
   ]
  },
  {
   "cell_type": "markdown",
   "id": "5eab2fa8-637f-42a6-99fc-20e944f133d5",
   "metadata": {
    "jp-MarkdownHeadingCollapsed": true
   },
   "source": [
    "## **STEPS - Test**"
   ]
  },
  {
   "cell_type": "code",
   "execution_count": null,
   "id": "def17fc3-6a8a-4661-a796-a6c3c36c31ab",
   "metadata": {},
   "outputs": [],
   "source": [
    "df_web_test[\"process_step\"].describe()"
   ]
  },
  {
   "cell_type": "code",
   "execution_count": null,
   "id": "ad82fd81-20f5-4e70-8f1e-5f4248175a7c",
   "metadata": {},
   "outputs": [],
   "source": [
    "sns.histplot(df_web_test['process_step'], kde=True, bins=30, color=\"green\")\n",
    "plt.show()"
   ]
  },
  {
   "cell_type": "markdown",
   "id": "76e5ea70-936c-4fc1-b3f7-63904501a2bd",
   "metadata": {},
   "source": [
    "**Analysis**: The web is a little bit confusing. The clients, as average, do not reach the second step and they get stack in the step 1. Less than 25% of the clients reach the final step. But all the clients which reach the setp 3 get to finish the whole process. So the more confusing part are in order to get to step 1 as we can see more difference in the histoplot. The difficulty decrese as the steps go ahead."
   ]
  },
  {
   "cell_type": "markdown",
   "id": "b3e93d65-ad40-4508-bcb0-2ed6378be76c",
   "metadata": {
    "jp-MarkdownHeadingCollapsed": true
   },
   "source": [
    "## **STEPS - Control**"
   ]
  },
  {
   "cell_type": "code",
   "execution_count": null,
   "id": "5804abb6-d468-4072-87cc-e310ba475909",
   "metadata": {},
   "outputs": [],
   "source": [
    "df_web_control[\"process_step\"].describe()"
   ]
  },
  {
   "cell_type": "code",
   "execution_count": null,
   "id": "343e2406-d354-4fe0-a079-bb7471eb06c2",
   "metadata": {},
   "outputs": [],
   "source": [
    "sns.histplot(df_web_control['process_step'], kde=True, bins=60, color=\"green\")\n",
    "plt.show()"
   ]
  },
  {
   "cell_type": "markdown",
   "id": "e56ab21d-4a05-48ad-8f4e-98071ec864d9",
   "metadata": {
    "jp-MarkdownHeadingCollapsed": true
   },
   "source": [
    "## **Hour - Test**"
   ]
  },
  {
   "cell_type": "code",
   "execution_count": null,
   "id": "f1aead12-d9a6-4879-9b40-85542bf67c80",
   "metadata": {},
   "outputs": [],
   "source": [
    "df_web_test_hour=df_web_test.sort_values(\"hour\", ascending=True)\n",
    "df_web_test_hour=df_web_test_hour[[\"visit_id\",\"hour\"]]\n",
    "df_web_test_hour=df_web_test_hour.drop_duplicates()\n",
    "df_web_test_hour"
   ]
  },
  {
   "cell_type": "code",
   "execution_count": null,
   "id": "2d39e472-9b73-4146-af3d-a84e222cfb0b",
   "metadata": {},
   "outputs": [],
   "source": [
    "df_web_test_hour[\"hour\"].describe()"
   ]
  },
  {
   "cell_type": "code",
   "execution_count": null,
   "id": "c342b00f-cbe5-4ab8-96f2-2bc2122cc409",
   "metadata": {},
   "outputs": [],
   "source": [
    "sns.histplot(df_web_test_hour['hour'], kde=True, bins=20, color=\"green\")\n",
    "plt.show()"
   ]
  },
  {
   "cell_type": "code",
   "execution_count": null,
   "id": "ef65de19-3b68-487c-8939-6f2a8b492a90",
   "metadata": {},
   "outputs": [],
   "source": [
    "sns.boxplot(df_web_test_hour['hour'], color=\"lightgreen\")\n",
    "plt.show()"
   ]
  },
  {
   "cell_type": "markdown",
   "id": "101acf95-7d78-48ef-829a-13a6cf4d7246",
   "metadata": {},
   "source": [
    "**Analysis**: More of the interactis has been made between 10 am to 15 pm. There is just some outlines which access to the 12 am "
   ]
  },
  {
   "cell_type": "markdown",
   "id": "419c0ccd-dd5e-45cd-994f-b15cb2f0548d",
   "metadata": {
    "jp-MarkdownHeadingCollapsed": true
   },
   "source": [
    "## **Hour - Control**"
   ]
  },
  {
   "cell_type": "code",
   "execution_count": null,
   "id": "ca3fab11-9127-4f81-9c03-b35482aa17e8",
   "metadata": {},
   "outputs": [],
   "source": [
    "df_web_control_hour=df_web_control.sort_values(\"hour\", ascending=True)\n",
    "df_web_control_hour=df_web_control_hour[[\"visit_id\",\"hour\"]]\n",
    "df_web_control_hour=df_web_control_hour.drop_duplicates()\n",
    "df_web_control_hour"
   ]
  },
  {
   "cell_type": "code",
   "execution_count": null,
   "id": "a6a0ba62-b4f3-43d8-a1ba-55478a9e569f",
   "metadata": {},
   "outputs": [],
   "source": [
    "df_web_control_hour[\"hour\"].describe()"
   ]
  },
  {
   "cell_type": "code",
   "execution_count": null,
   "id": "e9ca6ca7-f4a0-45eb-b787-4585b6db9c16",
   "metadata": {},
   "outputs": [],
   "source": [
    "sns.histplot(df_web_control_hour['hour'], kde=True, bins=20, color=\"green\")\n",
    "plt.show()"
   ]
  },
  {
   "cell_type": "code",
   "execution_count": null,
   "id": "c4872a37-0734-4aab-8c6d-917db9328d9f",
   "metadata": {},
   "outputs": [],
   "source": [
    "sns.boxplot(df_web_control_hour['hour'], color=\"lightgreen\")\n",
    "plt.show()"
   ]
  },
  {
   "cell_type": "markdown",
   "id": "4441bc23-2b70-4d34-8d2d-bd508e17e2a9",
   "metadata": {
    "jp-MarkdownHeadingCollapsed": true
   },
   "source": [
    "## **Time between steps -Test** ##"
   ]
  },
  {
   "cell_type": "code",
   "execution_count": null,
   "id": "39f80d3b-c00a-409a-94e8-8fc53d0036ed",
   "metadata": {},
   "outputs": [],
   "source": [
    "#Filter what we want: control condition 1, steps forward 0-1;1-2;2-3;3-4. keep_control=YES\n",
    "condition_control=df_web_test[\"control\"]==1\n",
    "df_web_test_dif_time=df_web_test[condition_control]\n",
    "condition_step=(df_web_test_dif_time[\"step_jump\"]==\"0-1\") | (df_web_test_dif_time[\"step_jump\"]==\"1-2\") | (df_web_test_dif_time[\"step_jump\"]==\"2-3\") | (df_web_test_dif_time[\"step_jump\"]==\"3-4\")\n",
    "df_web_test_dif_time=df_web_test_dif_time[condition_step]\n",
    "condition_keep=df_web_test_dif_time[\"keep_contol\"]==\"YES\"\n",
    "df_web_test_dif_time=df_web_test_dif_time[condition_keep]\n",
    "df_web_test_dif_time\n",
    "df_web_test_dif_time"
   ]
  },
  {
   "cell_type": "code",
   "execution_count": null,
   "id": "51c88cb9-165b-4ff0-82bd-7c3733787864",
   "metadata": {},
   "outputs": [],
   "source": [
    "df_web_test_dif_time[\"total_seg\"].describe()"
   ]
  },
  {
   "cell_type": "code",
   "execution_count": null,
   "id": "ae772a20-1f54-4e90-a21d-0fbe28630fc4",
   "metadata": {},
   "outputs": [],
   "source": [
    "time_stat=df_web_test_dif_time.groupby(\"step_jump\")[\"total_seg\"].agg([\"count\",\"median\",\"std\"])\n",
    "time_stat"
   ]
  },
  {
   "cell_type": "code",
   "execution_count": null,
   "id": "441dcd55-5b00-43e5-90fe-4a13e7b5ddf1",
   "metadata": {},
   "outputs": [],
   "source": [
    "df_web_test"
   ]
  },
  {
   "cell_type": "code",
   "execution_count": null,
   "id": "d09976ba-5e9c-4ef0-850e-a2948348cba9",
   "metadata": {},
   "outputs": [],
   "source": [
    "sns.histplot(df_web_test_dif_time['total_seg'], kde=True, bins=60, color=\"green\")\n",
    "plt.show()"
   ]
  },
  {
   "cell_type": "code",
   "execution_count": null,
   "id": "8fe1f888-edb9-4871-8e32-db1fed144f74",
   "metadata": {},
   "outputs": [],
   "source": [
    "sns.histplot(df_web_test_dif_time['dif_time'], kde=True, bins=60, color=\"green\")\n",
    "plt.show()"
   ]
  },
  {
   "cell_type": "code",
   "execution_count": null,
   "id": "e20ddca0-8faa-4afb-bb53-9a7592d7a182",
   "metadata": {},
   "outputs": [],
   "source": [
    "sns.boxplot(df_web_test_dif_time['total_seg'], color=\"lightgreen\")\n",
    "plt.show()"
   ]
  },
  {
   "cell_type": "markdown",
   "id": "08ba464d-e5bb-448e-a682-908771cd4096",
   "metadata": {},
   "source": [
    "**Analysis**: As there is lot of outliners which we considers clients who did not not close the session and remain the PC open, we are going to use the median instead of mean. \n",
    "The total process, as median, it takes 152 minutes, being the first step the faster one with 10 seconds and the longest is number 2 with 66 seconds."
   ]
  },
  {
   "cell_type": "markdown",
   "id": "2bd357ed-ccd9-4c0d-b1cd-0d4692f6b7b9",
   "metadata": {
    "jp-MarkdownHeadingCollapsed": true
   },
   "source": [
    "## **Time between steps -Control** ##"
   ]
  },
  {
   "cell_type": "code",
   "execution_count": null,
   "id": "554d93bf-4cd7-4377-828e-ffce4d3530b9",
   "metadata": {},
   "outputs": [],
   "source": [
    "#Filter what we want: control condition 1, steps forward 0-1;1-2;2-3;3-4. keep_control=YES\n",
    "condition_control=df_web_control[\"control\"]==1\n",
    "df_web_control_dif_time=df_web_control[condition_control]\n",
    "condition_step=(df_web_control_dif_time[\"step_jump\"]==\"0-1\") | (df_web_control_dif_time[\"step_jump\"]==\"1-2\") | (df_web_control_dif_time[\"step_jump\"]==\"2-3\") | (df_web_control_dif_time[\"step_jump\"]==\"3-4\")\n",
    "df_web_control_dif_time=df_web_control_dif_time[condition_step]\n",
    "condition_keep=df_web_control_dif_time[\"keep_contol\"]==\"YES\"\n",
    "df_web_control_dif_time=df_web_control_dif_time[condition_keep]\n",
    "df_web_control_dif_time\n",
    "df_web_control_dif_time"
   ]
  },
  {
   "cell_type": "code",
   "execution_count": null,
   "id": "e08daaa5-10e9-43d5-aa0a-856786f5d4f8",
   "metadata": {},
   "outputs": [],
   "source": [
    "df_web_control_dif_time[\"total_seg\"].describe()"
   ]
  },
  {
   "cell_type": "code",
   "execution_count": null,
   "id": "a70dd1a5-4054-4f0e-a0f2-68a441283a11",
   "metadata": {},
   "outputs": [],
   "source": [
    "time_stat=df_web_control_dif_time.groupby(\"step_jump\")[\"total_seg\"].agg([\"count\",\"median\",\"std\"])\n",
    "time_stat"
   ]
  },
  {
   "cell_type": "code",
   "execution_count": null,
   "id": "4423b92b-954b-4138-a041-3dd02dae7fde",
   "metadata": {},
   "outputs": [],
   "source": [
    "df_web_control"
   ]
  },
  {
   "cell_type": "code",
   "execution_count": null,
   "id": "60e0a978-aded-4e23-bf9e-abfb19e726b2",
   "metadata": {},
   "outputs": [],
   "source": [
    "sns.histplot(df_web_control_dif_time['total_seg'], kde=True, bins=60, color=\"green\")\n",
    "plt.show()"
   ]
  },
  {
   "cell_type": "code",
   "execution_count": null,
   "id": "7a0b8a07-6859-4f8d-8b3c-078f80e0faf6",
   "metadata": {},
   "outputs": [],
   "source": [
    "sns.boxplot(df_web_control_dif_time['total_seg'], color=\"lightgreen\")\n",
    "plt.show()"
   ]
  },
  {
   "cell_type": "markdown",
   "id": "feca7f6d-316b-4b23-b8c0-c577cc487723",
   "metadata": {
    "jp-MarkdownHeadingCollapsed": true
   },
   "source": [
    "## **Completion ratio -Test** ##"
   ]
  },
  {
   "cell_type": "code",
   "execution_count": null,
   "id": "069a43fe-d79e-4435-9a1e-f3aebfc91ef2",
   "metadata": {},
   "outputs": [],
   "source": [
    "#The completion ratio is the number of clients who made it to step 4 out of the total number of visist\n",
    "#Calculate the number of clients who made it to step 4\n",
    "step_4_test=(df_web_test[\"process_step\"]==4).value_counts()\n",
    "step_4_test\n"
   ]
  },
  {
   "cell_type": "code",
   "execution_count": null,
   "id": "bdd6a958-f909-476f-92ee-3b350a06ddb0",
   "metadata": {},
   "outputs": [],
   "source": [
    "completion_ratio_test=(step_4_test[True])/(df_web_test.visit_id.nunique())\n",
    "\n",
    "print(f\"The completion ratio is {completion_ratio_test}. That means, out of {df_web_test.visit_id.nunique()}, a total of {completion_ratio_test * 100}% has made it to the final step\")"
   ]
  },
  {
   "cell_type": "markdown",
   "id": "c55fbe28-1e34-4546-b8c3-7305927ad9f9",
   "metadata": {
    "jp-MarkdownHeadingCollapsed": true
   },
   "source": [
    "## **Completion ratio -Control** ##"
   ]
  },
  {
   "cell_type": "code",
   "execution_count": null,
   "id": "310861ae-3465-48c8-a266-c810475e05a6",
   "metadata": {},
   "outputs": [],
   "source": [
    "#The completion ratio is the number of clients who made it to step 4 out of the total number of visist\n",
    "#Calculate the number of clients who made it to step 4\n",
    "step_4_control=(df_web_control[\"process_step\"]==4).value_counts()\n",
    "step_4_control\n"
   ]
  },
  {
   "cell_type": "code",
   "execution_count": null,
   "id": "37e65531-97ad-43ae-8d94-cdc0ac8407c3",
   "metadata": {},
   "outputs": [],
   "source": [
    "completion_ratio_control=(step_4_control[True])/(df_web_control.visit_id.nunique())\n",
    "\n",
    "print(f\"The completion ratio is {completion_ratio_control}. That means, out of {df_web_control.visit_id.nunique()}, a total of {completion_ratio_control * 100}% has made it to the final step\")"
   ]
  },
  {
   "cell_type": "markdown",
   "id": "60afd771-4c06-4798-9c5d-af51748e4bf9",
   "metadata": {
    "jp-MarkdownHeadingCollapsed": true
   },
   "source": [
    "## **Error rates -Test**"
   ]
  },
  {
   "cell_type": "markdown",
   "id": "e2bd23aa-5477-4e32-80c6-09579fa061e8",
   "metadata": {},
   "source": [
    "We consider an error when the client go backwards in the logical step process, that means if the client from process 1 to 0, from 2 to 1 or from 3 to 2. \n",
    "We will caculate first the total amount of these errors and for the rate we will take into account the total number movements. That means, if 1 client made it to step 4 it will count as 4 movemnets: from 0 to 1, from 1 to 2, for 2 to 3 and from 3 to 4."
   ]
  },
  {
   "cell_type": "code",
   "execution_count": null,
   "id": "e2a9baa6-1da6-4e98-b89f-0b561da99a9d",
   "metadata": {},
   "outputs": [],
   "source": [
    "#First we filter the values that we are going to use. Filter: Control=1; Keep=YES.\n",
    "#We only want the errors in the process. \n",
    "condition_control=df_web_test[\"control\"]==1\n",
    "df_error_rate_test=df_web_test[condition_control]\n",
    "condition_keep=df_error_rate_test[\"keep_contol\"]==\"YES\"\n",
    "df_error_rate_test=df_error_rate_test[condition_keep]\n",
    "condition_step=(df_error_rate_test[\"step_jump\"]==\"1-0\") | (df_error_rate_test[\"step_jump\"]==\"2-1\") | (df_error_rate_test[\"step_jump\"]==\"3-2\") | (df_error_rate_test[\"step_jump\"]==\"4-3\")\n",
    "df_error_rate_test=df_error_rate_test[condition_step]\n",
    "df_error_rate_test"
   ]
  },
  {
   "cell_type": "code",
   "execution_count": null,
   "id": "b0f7e2ed-b4eb-4c44-bf0d-0b68484f7d3a",
   "metadata": {},
   "outputs": [],
   "source": [
    "sns.histplot(df_error_rate_test['step_jump'], kde=True, bins=15, color=\"blue\")\n",
    "plt.show()"
   ]
  },
  {
   "cell_type": "code",
   "execution_count": null,
   "id": "8c9a81c0-990c-4dff-b0c7-136626f14498",
   "metadata": {},
   "outputs": [],
   "source": [
    "#We display the number of errors per steps\n",
    "error_counts_test=pd.DataFrame(df_error_rate_test[\"step_jump\"].value_counts())\n",
    "error_counts_test=error_counts_test.reset_index()\n",
    "error_counts_test[\"ratio\"]=(error_counts_test[\"count\"])/(error_counts_test[\"count\"].sum())\n",
    "error_counts_test"
   ]
  },
  {
   "cell_type": "code",
   "execution_count": null,
   "id": "2af67685-7d45-46dd-965a-e766c43244fd",
   "metadata": {},
   "outputs": [],
   "source": [
    "sns.histplot(df_error_rate_test.sort_values(\"step_jump\")['step_jump'], kde=True, bins=20, color=\"green\")\n",
    "plt.show()"
   ]
  },
  {
   "cell_type": "code",
   "execution_count": null,
   "id": "1785f3c2-48fa-472b-89ef-687cfe79abb4",
   "metadata": {},
   "outputs": [],
   "source": [
    "sns.boxplot(df_error_rate_test.sort_values(\"step_jump\")['step_jump'], color=\"lightgreen\")\n",
    "plt.show()"
   ]
  },
  {
   "cell_type": "code",
   "execution_count": null,
   "id": "a459a3d7-a3cb-4009-8076-224de91296be",
   "metadata": {},
   "outputs": [],
   "source": [
    "fig, axes = plt.subplots(1, 2, figsize=(12, 5)) \n",
    "sns.histplot(df_web_test['process_step'], kde=True,ax=axes[0], bins=15, color=\"blue\")\n",
    "sns.histplot(df_error_rate_test.sort_values(\"step_jump\")['step_jump'], kde=True,ax=axes[1], bins=20, color=\"green\")\n",
    "plt.tight_layout()\n",
    "plt.show()"
   ]
  },
  {
   "cell_type": "code",
   "execution_count": null,
   "id": "41ed82a9-7fc4-49a7-8196-3c9df0ca8b9a",
   "metadata": {},
   "outputs": [],
   "source": [
    "#Number of error\n",
    "error_counts_test[\"count\"].sum()"
   ]
  },
  {
   "cell_type": "code",
   "execution_count": null,
   "id": "5047fbdd-51a0-438a-810a-794225d97437",
   "metadata": {},
   "outputs": [],
   "source": [
    "#Total number of steps jump\n",
    "(df_web_test[\"visit_id\"].value_counts()).sum()"
   ]
  },
  {
   "cell_type": "code",
   "execution_count": null,
   "id": "15df3779-9005-45f6-adc3-c5f3173036fa",
   "metadata": {},
   "outputs": [],
   "source": [
    "ratio_error_test=((df_error_rate_test[\"step_jump\"].value_counts()).sum())/((df_web_test[\"visit_id\"].value_counts()).sum())\n",
    "\n",
    "print(f\"The ratio erros is {ratio_error_test}, that means that out of the {(df_web_test[\"visit_id\"].value_counts()).sum()} step jumps, {ratio_error_test *100}% have been error\")"
   ]
  },
  {
   "cell_type": "markdown",
   "id": "ad6cf507-86b8-40e2-b61c-acd3ca6ca723",
   "metadata": {
    "jp-MarkdownHeadingCollapsed": true
   },
   "source": [
    "## **Error rates -Control**"
   ]
  },
  {
   "cell_type": "code",
   "execution_count": null,
   "id": "1b3701f1-9ff9-434c-8a32-909589a16c58",
   "metadata": {},
   "outputs": [],
   "source": [
    "#First we filter the values that we are going to use. Filter: Control=1; Keep=YES.\n",
    "#We only want the errors in the process. \n",
    "condition_control=df_web_control[\"control\"]==1\n",
    "df_error_rate_control=df_web_control[condition_control]\n",
    "condition_keep=df_error_rate_control[\"keep_contol\"]==\"YES\"\n",
    "df_error_rate_control=df_error_rate_control[condition_keep]\n",
    "condition_step=(df_error_rate_control[\"step_jump\"]==\"1-0\") | (df_error_rate_control[\"step_jump\"]==\"2-1\") | (df_error_rate_control[\"step_jump\"]==\"3-2\") | (df_error_rate_control[\"step_jump\"]==\"4-3\")\n",
    "df_error_rate_control=df_error_rate_control[condition_step]\n",
    "df_error_rate_control"
   ]
  },
  {
   "cell_type": "code",
   "execution_count": null,
   "id": "120b90b1-c669-4531-9e7d-b7f45656d949",
   "metadata": {},
   "outputs": [],
   "source": [
    "sns.histplot(df_error_rate_control['step_jump'], kde=True, bins=15, color=\"blue\")\n",
    "plt.show()"
   ]
  },
  {
   "cell_type": "code",
   "execution_count": null,
   "id": "7f6c665b-3ee7-4fe2-8245-89511ef0aa25",
   "metadata": {},
   "outputs": [],
   "source": [
    "#We display the number of errors per steps\n",
    "error_counts_control=pd.DataFrame(df_error_rate_control[\"step_jump\"].value_counts())\n",
    "error_counts_control\n",
    "error_counts_control1=error_counts_control.reset_index()\n",
    "error_counts_control[\"ratio\"]=(error_counts_control[\"count\"])/(error_counts_control[\"count\"].sum())\n",
    "error_counts_control"
   ]
  },
  {
   "cell_type": "code",
   "execution_count": null,
   "id": "52612431-e566-4e18-b269-b4727659f8b9",
   "metadata": {},
   "outputs": [],
   "source": [
    "sns.histplot(df_error_rate_control.sort_values(\"step_jump\")['step_jump'], kde=True, bins=20, color=\"green\")\n",
    "plt.show()"
   ]
  },
  {
   "cell_type": "code",
   "execution_count": null,
   "id": "2e9b2431-7812-44ad-8830-e1a362b3859c",
   "metadata": {},
   "outputs": [],
   "source": [
    "sns.boxplot(df_error_rate_control.sort_values(\"step_jump\")['step_jump'], color=\"lightgreen\")\n",
    "plt.show()"
   ]
  },
  {
   "cell_type": "markdown",
   "id": "3cc6f430-ffef-4371-b812-271420299e3c",
   "metadata": {},
   "source": [
    "**Analysis**: we can see that there is only 1 outliner, which is going back from step 4, so the clients do understand that the process is finished once they get to number 4. The steps that have more rate of error is from step 1 to 0 and that number decrease as the client continues in the process. That make sense as the number of clients which complete each step also decrease in the same trend. \n",
    "\n",
    "We compare the both histoplot bellow. "
   ]
  },
  {
   "cell_type": "code",
   "execution_count": null,
   "id": "2644ab18-563c-418f-8d29-62ddf6b3b500",
   "metadata": {},
   "outputs": [],
   "source": [
    "fig, axes = plt.subplots(1, 2, figsize=(12, 5)) \n",
    "sns.histplot(df_web_control['process_step'], kde=True,ax=axes[0], bins=15, color=\"blue\")\n",
    "sns.histplot(df_error_rate_control.sort_values(\"step_jump\")['step_jump'], kde=True,ax=axes[1], bins=20, color=\"green\")\n",
    "plt.tight_layout()\n",
    "plt.show()"
   ]
  },
  {
   "cell_type": "code",
   "execution_count": null,
   "id": "519ce0f3-92bc-490a-89a3-7be01f138219",
   "metadata": {},
   "outputs": [],
   "source": [
    "#Number of error\n",
    "error_counts_control[\"count\"].sum()"
   ]
  },
  {
   "cell_type": "code",
   "execution_count": null,
   "id": "01d629b6-7bf0-473e-bc3d-a943c87b8b38",
   "metadata": {},
   "outputs": [],
   "source": [
    "#Total number of steps jump\n",
    "(df_web_control[\"visit_id\"].value_counts()).sum()"
   ]
  },
  {
   "cell_type": "code",
   "execution_count": null,
   "id": "8bd2a845-39d3-428b-b58f-70a1873bd5bd",
   "metadata": {},
   "outputs": [],
   "source": [
    "ratio_error_control=((df_error_rate_control[\"step_jump\"].value_counts()).sum())/((df_web_control[\"visit_id\"].value_counts()).sum())\n",
    "\n",
    "print(f\"The ratio erros is {ratio_error_control}, that means that out of the {(df_web_control[\"visit_id\"].value_counts()).sum()} step jumps, {ratio_error_control *100}% have been error\")"
   ]
  },
  {
   "cell_type": "markdown",
   "id": "678671de-c068-4a4a-be53-2f6a87232005",
   "metadata": {
    "jp-MarkdownHeadingCollapsed": true
   },
   "source": [
    "## **Hypotesis test** \n",
    "**Completion rate**"
   ]
  },
  {
   "cell_type": "code",
   "execution_count": null,
   "id": "a38fb2ed-2dca-44dc-9084-a4fd24391e8e",
   "metadata": {},
   "outputs": [],
   "source": [
    "# Option 1: Based on total users to reached step 0"
   ]
  },
  {
   "cell_type": "code",
   "execution_count": null,
   "id": "8782f26a-9358-41b9-be5d-050c87d93497",
   "metadata": {},
   "outputs": [],
   "source": [
    "counts_control = df_web_control['process_step'].value_counts()\n",
    "\n",
    "counts_control"
   ]
  },
  {
   "cell_type": "code",
   "execution_count": null,
   "id": "ae288c31-bf5d-443f-b8a0-78940c67186b",
   "metadata": {},
   "outputs": [],
   "source": [
    "#Completion ratio: number of visit in steo 0 / number of visit in step 4\n",
    "\n",
    "from statsmodels.stats.proportion import proportions_ztest\n",
    "\n",
    "x_test = 25721  # Number of completions in test group\n",
    "n_test = 56474 # Total users in test group\n",
    "\n",
    "x_control = 17505  # Number of completions in control group\n",
    "n_control = 47607 # Total users in control group\n",
    "\n",
    "completion_rate_test = x_test/n_test\n",
    "completion_rate_control = x_control/n_control\n",
    "completion_rate_test, completion_rate_control"
   ]
  },
  {
   "cell_type": "code",
   "execution_count": null,
   "id": "e90f4e82-d922-4e8c-b982-cfbaa695238f",
   "metadata": {},
   "outputs": [],
   "source": [
    "# Define alternative hypothesis (\"larger\" means one-tailed test)\n",
    "count = np.array([x_test, x_control])  # Number of successes\n",
    "nobs = np.array([n_test, n_control])  # Number of trials\n",
    "z_stat, p_value = proportions_ztest(count, nobs, alternative=\"larger\")\n",
    "\n",
    "print(f\"Z-statistic: {z_stat:.4f}\")\n",
    "print(f\"P-value: {p_value:.4f}\")\n",
    "\n",
    "if p_value < 0.05:\n",
    "    print(\"Reject the null hypothesis: The test group has a higher completion rate.\")\n",
    "else:\n",
    "    print(\"Fail to reject the null hypothesis: No significant difference in completion rates.\")"
   ]
  },
  {
   "cell_type": "code",
   "execution_count": null,
   "id": "ee20cd7a-f557-404c-b2b9-70cc515f4ef9",
   "metadata": {},
   "outputs": [],
   "source": [
    "# Option 2: Based on unique visitors (visit_id)"
   ]
  },
  {
   "cell_type": "code",
   "execution_count": null,
   "id": "00401406-7f68-4065-a8fe-d1df014a4256",
   "metadata": {},
   "outputs": [],
   "source": [
    "df_web_control.visit_id.nunique()"
   ]
  },
  {
   "cell_type": "code",
   "execution_count": null,
   "id": "1ad2e14e-87f7-4e4a-9c7e-6b83cb2c52ae",
   "metadata": {},
   "outputs": [],
   "source": [
    "#Completion ratio: number of visit in steo 0 / number of visit in step 4\n",
    "\n",
    "from statsmodels.stats.proportion import proportions_ztest\n",
    "\n",
    "x_test = 25721  # Number of completions in test group\n",
    "n_test = 37136 # Total users in test group\n",
    "\n",
    "x_control = 17505  # Number of completions in control group\n",
    "n_control = 32188 # Total users in control group\n",
    "\n",
    "completion_rate_test = x_test/n_test\n",
    "completion_rate_control = x_control/n_control\n",
    "completion_rate_test, completion_rate_control"
   ]
  },
  {
   "cell_type": "code",
   "execution_count": null,
   "id": "d7394644-216b-442b-be28-38482a5c3909",
   "metadata": {},
   "outputs": [],
   "source": [
    "# Define alternative hypothesis (\"larger\" means one-tailed test)\n",
    "count = np.array([x_test, x_control])  # Number of successes\n",
    "nobs = np.array([n_test, n_control])  # Number of trials\n",
    "z_stat, p_value = proportions_ztest(count, nobs, alternative=\"larger\")\n",
    "\n",
    "print(f\"Z-statistic: {z_stat:.4f}\")\n",
    "print(f\"P-value: {p_value:.4f}\")\n",
    "\n",
    "if p_value < 0.05:\n",
    "    print(\"Reject the null hypothesis: The test group has a higher completion rate.\")\n",
    "else:\n",
    "    print(\"Fail to reject the null hypothesis: No significant difference in completion rates.\")"
   ]
  },
  {
   "cell_type": "markdown",
   "id": "78d59f53-9a7b-4a89-93b7-d4305d054500",
   "metadata": {},
   "source": [
    "**Error rate**"
   ]
  },
  {
   "cell_type": "code",
   "execution_count": null,
   "id": "d81a1862-d281-424f-9b4d-a897299c0a7a",
   "metadata": {},
   "outputs": [],
   "source": [
    "from statsmodels.stats.proportion import proportions_ztest\n",
    "\n",
    "x_test = 11738  # Number of errors in test group df_error_rate.count()\n",
    "n_test = 177846 # Total number of step jumps in test group based on df_web_test.count()\n",
    "\n",
    "x_control = 6239  # Number of errors in control group df_error_rate.count()\n",
    "n_control = 143461 # Total number of step jumps in control group based on df_web_control.count()\n",
    "\n",
    "error_rate_test = x_test/n_test\n",
    "error_rate_control = x_control/n_control\n",
    "error_rate_test, error_rate_control"
   ]
  },
  {
   "cell_type": "code",
   "execution_count": null,
   "id": "94de0d4e-e883-44b1-87eb-ec790e31be90",
   "metadata": {},
   "outputs": [],
   "source": [
    "# Define alternative hypothesis (\"smaller\" means one-tailed test)\n",
    "count = np.array([x_test, x_control])  # Number of errors\n",
    "nobs = np.array([n_test, n_control])  # Number of step jumps\n",
    "z_stat, p_value = proportions_ztest(count, nobs, alternative=\"smaller\")\n",
    "\n",
    "print(f\"Z-statistic: {z_stat:.4f}\")\n",
    "print(f\"P-value: {p_value:.4f}\")\n",
    "\n",
    "if p_value < 0.05:\n",
    "    print(\"Reject the null hypothesis: The test group has a lower error rate.\")\n",
    "else:\n",
    "    print(\"Fail to reject the null hypothesis: No significant difference in error rates.\")"
   ]
  },
  {
   "cell_type": "code",
   "execution_count": null,
   "id": "a5294337-9798-44a2-b270-3fbc7850aed3",
   "metadata": {},
   "outputs": [],
   "source": []
  },
  {
   "cell_type": "code",
   "execution_count": null,
   "id": "639d5d32-503b-42db-8a20-aa22aa96db7e",
   "metadata": {},
   "outputs": [],
   "source": []
  },
  {
   "cell_type": "code",
   "execution_count": null,
   "id": "312b5691-d677-4956-9adc-9a0d28234ead",
   "metadata": {},
   "outputs": [],
   "source": [
    "df_web_test_dif_time[\"total_seg\"]=df_web_test_dif_time[\"total_seg\"].abs()\n",
    "condition_box=df_web_test_dif_time[\"total_seg\"]!=0\n",
    "df_web_test_dif_time_box=df_web_test_dif_time[condition_box]\n",
    "df_web_test_dif_time_box"
   ]
  },
  {
   "cell_type": "markdown",
   "id": "1e1dedbf-a4c5-4fd2-9d6c-7ba941c42a4a",
   "metadata": {
    "jp-MarkdownHeadingCollapsed": true
   },
   "source": [
    "## **Boxcox transformation**"
   ]
  },
  {
   "cell_type": "code",
   "execution_count": null,
   "id": "1f29bc23-47cb-438f-b1d8-22590c861f25",
   "metadata": {},
   "outputs": [],
   "source": [
    "from scipy.stats import boxcox\n",
    "import numpy as np\n",
    "\n",
    "# Applying Box-Cox transformation to 'LotArea'\n",
    "df_web_test_dif_time_box['total_seg'],_ = boxcox(df_web_test_dif_time_box['total_seg'])\n",
    "\n",
    "# Plotting the transformed distributions\n",
    "plt.figure(figsize=(10,5))\n",
    "\n",
    "# Box-Cox transformed 'LotArea'\n",
    "sns.histplot(df_web_test_dif_time_box['total_seg'], kde=True)\n",
    "plt.title('Box-Cox Transformed total_seg')\n",
    "plt.show()"
   ]
  },
  {
   "cell_type": "code",
   "execution_count": null,
   "id": "be059fa6-e68d-4710-90ac-3a5b99030a09",
   "metadata": {},
   "outputs": [],
   "source": [
    "import pandas as pd\n",
    "from scipy import stats\n",
    "# Conducting the Shapiro-Wilk test for normality on 'SalePrice'\n",
    "shapiro_test_statistic, shapiro_p_value = stats.shapiro(df_web_test_dif_time_box['total_seg'])\n",
    "\n",
    "shapiro_test_statistic, shapiro_p_value"
   ]
  },
  {
   "cell_type": "code",
   "execution_count": null,
   "id": "e5a1b3db-30cf-437d-a52d-6060bce4282a",
   "metadata": {},
   "outputs": [],
   "source": [
    "import statsmodels.api as sm\n",
    "\n",
    "sm.qqplot(df_web_test_dif_time_box['total_seg'].values, fit=True, line='45')\n",
    "plt.show()"
   ]
  },
  {
   "cell_type": "code",
   "execution_count": null,
   "id": "3199cf14-e2c2-4bd4-a094-2d431b714625",
   "metadata": {},
   "outputs": [],
   "source": [
    "df_web_control_dif_time[\"total_seg\"]=df_web_control_dif_time[\"total_seg\"].abs()\n",
    "condition_box2=df_web_control_dif_time[\"total_seg\"]!=0\n",
    "df_web_control_dif_time_box=df_web_control_dif_time[condition_box2]\n",
    "df_web_control_dif_time_box"
   ]
  },
  {
   "cell_type": "code",
   "execution_count": null,
   "id": "215b8c27-5281-4087-a726-8642c6bebcee",
   "metadata": {},
   "outputs": [],
   "source": [
    "from scipy.stats import boxcox\n",
    "import numpy as np\n",
    "\n",
    "# Applying Box-Cox transformation to 'LotArea'\n",
    "df_web_control_dif_time_box['total_seg'],_ = boxcox(df_web_control_dif_time_box['total_seg'])\n",
    "\n",
    "# Plotting the transformed distributions\n",
    "plt.figure(figsize=(10,5))\n",
    "\n",
    "# Box-Cox transformed 'LotArea'\n",
    "sns.histplot(df_web_control_dif_time_box['total_seg'], kde=True)\n",
    "plt.title('Box-Cox Transformed total_seg')\n",
    "plt.show()"
   ]
  },
  {
   "cell_type": "code",
   "execution_count": null,
   "id": "5e2407c1-7406-4b7d-8bdd-d30622658276",
   "metadata": {},
   "outputs": [],
   "source": [
    "import pandas as pd\n",
    "from scipy import stats\n",
    "# Conducting the Shapiro-Wilk test for normality on 'SalePrice'\n",
    "shapiro_test_statistic, shapiro_p_value = stats.shapiro(df_web_control_dif_time_box['total_seg'])\n",
    "\n",
    "shapiro_test_statistic, shapiro_p_value"
   ]
  },
  {
   "cell_type": "code",
   "execution_count": null,
   "id": "aa4e6eac-6e77-4372-aeba-b19d0d5f832c",
   "metadata": {},
   "outputs": [],
   "source": [
    "import statsmodels.api as sm\n",
    "\n",
    "sm.qqplot(df_web_control_dif_time_box['total_seg'].values, fit=True, line='45')\n",
    "plt.show()"
   ]
  },
  {
   "cell_type": "code",
   "execution_count": null,
   "id": "c6153c43-2a15-4b2f-96d6-76217844ec14",
   "metadata": {},
   "outputs": [],
   "source": []
  },
  {
   "cell_type": "markdown",
   "id": "76ce7109-0a71-40db-82a0-24748eba73cc",
   "metadata": {
    "jp-MarkdownHeadingCollapsed": true
   },
   "source": [
    "## **Ratio-error (pero step)**"
   ]
  },
  {
   "cell_type": "code",
   "execution_count": null,
   "id": "b7c5b71a-818d-47cb-967f-b52232f38c63",
   "metadata": {},
   "outputs": [],
   "source": [
    "#Control Step 1\n",
    "condition_control=df_web_control[\"control\"]==1\n",
    "df_error_rate_control_step1=df_web_control[condition_control]\n",
    "condition_keep=df_error_rate_control_step1[\"keep_contol\"]==\"YES\"\n",
    "df_error_rate_control_step1=df_error_rate_control_step1[condition_keep]\n",
    "condition_step=(df_error_rate_control_step1[\"step_jump\"]==\"1-0\") | (df_error_rate_control_step1[\"step_jump\"]==\"0-1\") \n",
    "df_error_rate_control_step1=df_error_rate_control_step1[condition_step]\n",
    "df_error_rate_control_step1"
   ]
  },
  {
   "cell_type": "code",
   "execution_count": null,
   "id": "09a4f940-943b-433f-a1c7-c0d1e48cd02b",
   "metadata": {},
   "outputs": [],
   "source": [
    "#test Step 1\n",
    "condition_test=df_web_test[\"control\"]==1\n",
    "df_error_rate_test_step1=df_web_test[condition_test]\n",
    "condition_keep=df_error_rate_test_step1[\"keep_contol\"]==\"YES\"\n",
    "df_error_rate_test_step1=df_error_rate_test_step1[condition_keep]\n",
    "condition_step=(df_error_rate_test_step1[\"step_jump\"]==\"1-0\") | (df_error_rate_test_step1[\"step_jump\"]==\"0-1\") \n",
    "df_error_rate_test_step1=df_error_rate_test_step1[condition_step]\n",
    "df_error_rate_test_step1"
   ]
  },
  {
   "cell_type": "code",
   "execution_count": null,
   "id": "ceb2fa6c-501a-4765-b6c0-123942f38abd",
   "metadata": {},
   "outputs": [],
   "source": [
    "counts_error1_control=df_error_rate_control_step1.groupby(\"step_jump\")[\"step_jump\"].value_counts()\n",
    "counts_error1_control"
   ]
  },
  {
   "cell_type": "code",
   "execution_count": null,
   "id": "2cae6201-6c19-4f71-8408-0bdf5fd1aa89",
   "metadata": {},
   "outputs": [],
   "source": [
    "counts_error1_test=df_error_rate_test_step1.groupby(\"step_jump\")[\"step_jump\"].value_counts()\n",
    "counts_error1_test"
   ]
  },
  {
   "cell_type": "code",
   "execution_count": null,
   "id": "a11e0ba4-de56-45b9-b63f-ec9b7ce3341c",
   "metadata": {},
   "outputs": [],
   "source": [
    "#Control Step 2\n",
    "condition_control=df_web_control[\"control\"]==1\n",
    "df_error_rate_control_step2=df_web_control[condition_control]\n",
    "condition_keep=df_error_rate_control_step2[\"keep_contol\"]==\"YES\"\n",
    "df_error_rate_control_step2=df_error_rate_control_step2[condition_keep]\n",
    "condition_step=(df_error_rate_control_step2[\"step_jump\"]==\"2-1\") | (df_error_rate_control_step2[\"step_jump\"]==\"1-2\") \n",
    "df_error_rate_control_step2=df_error_rate_control_step2[condition_step]\n",
    "df_error_rate_control_step2"
   ]
  },
  {
   "cell_type": "code",
   "execution_count": null,
   "id": "12cdd412-2b9e-4834-9d56-fc1c718e5c88",
   "metadata": {},
   "outputs": [],
   "source": [
    "#test Step 2\n",
    "condition_test=df_web_test[\"control\"]==1\n",
    "df_error_rate_test_step2=df_web_test[condition_test]\n",
    "condition_keep=df_error_rate_test_step2[\"keep_contol\"]==\"YES\"\n",
    "df_error_rate_test_step2=df_error_rate_test_step2[condition_keep]\n",
    "condition_step=(df_error_rate_test_step2[\"step_jump\"]==\"2-1\") | (df_error_rate_test_step2[\"step_jump\"]==\"1-2\") \n",
    "df_error_rate_test_step2=df_error_rate_test_step2[condition_step]\n",
    "df_error_rate_test_step2"
   ]
  },
  {
   "cell_type": "code",
   "execution_count": null,
   "id": "717f0384-55d4-4af2-a36a-46150c7854fa",
   "metadata": {},
   "outputs": [],
   "source": [
    "counts_error2_control=df_error_rate_control_step2.groupby(\"step_jump\")[\"step_jump\"].value_counts()\n",
    "counts_error2_control"
   ]
  },
  {
   "cell_type": "code",
   "execution_count": null,
   "id": "697996a2-e52f-4fe0-9eb8-3e6fad9e410f",
   "metadata": {},
   "outputs": [],
   "source": [
    "counts_error_test2=df_error_rate_test_step2.groupby(\"step_jump\")[\"step_jump\"].value_counts()\n",
    "counts_error_test2"
   ]
  },
  {
   "cell_type": "code",
   "execution_count": null,
   "id": "5af30e75-da89-4c47-8819-36fdf246fb37",
   "metadata": {},
   "outputs": [],
   "source": [
    "#Control Step 3\n",
    "condition_control=df_web_control[\"control\"]==1\n",
    "df_error_rate_control_step3=df_web_control[condition_control]\n",
    "condition_keep=df_error_rate_control_step3[\"keep_contol\"]==\"YES\"\n",
    "df_error_rate_control_step3=df_error_rate_control_step3[condition_keep]\n",
    "condition_step=(df_error_rate_control_step3[\"step_jump\"]==\"3-2\") | (df_error_rate_control_step3[\"step_jump\"]==\"2-3\") \n",
    "df_error_rate_control_step3=df_error_rate_control_step3[condition_step]\n",
    "df_error_rate_control_step3"
   ]
  },
  {
   "cell_type": "code",
   "execution_count": null,
   "id": "90ada26c-ded3-4ee4-8e95-2338ba0f652f",
   "metadata": {},
   "outputs": [],
   "source": [
    "#test Step 3\n",
    "condition_test=df_web_test[\"control\"]==1\n",
    "df_error_rate_test_step3=df_web_test[condition_test]\n",
    "condition_keep=df_error_rate_test_step3[\"keep_contol\"]==\"YES\"\n",
    "df_error_rate_test_step3=df_error_rate_test_step3[condition_keep]\n",
    "condition_step=(df_error_rate_test_step3[\"step_jump\"]==\"3-2\") | (df_error_rate_test_step3[\"step_jump\"]==\"2-3\") \n",
    "df_error_rate_test_step3=df_error_rate_test_step3[condition_step]\n",
    "df_error_rate_test_step3"
   ]
  },
  {
   "cell_type": "code",
   "execution_count": null,
   "id": "a07aa540-29b3-422c-b1f1-97725fd0c105",
   "metadata": {},
   "outputs": [],
   "source": [
    "counts_error3_control=df_error_rate_control_step3.groupby(\"step_jump\")[\"step_jump\"].value_counts()\n",
    "counts_error3_control"
   ]
  },
  {
   "cell_type": "code",
   "execution_count": null,
   "id": "c879e660-dea2-4e1f-acdc-fc78c43dae8a",
   "metadata": {},
   "outputs": [],
   "source": [
    "counts_error3_test=df_error_rate_test_step3.groupby(\"step_jump\")[\"step_jump\"].value_counts()\n",
    "counts_error3_test"
   ]
  },
  {
   "cell_type": "code",
   "execution_count": null,
   "id": "06fd6845-3fad-40c0-834b-d604be21993a",
   "metadata": {},
   "outputs": [],
   "source": [
    "#Control Step 4\n",
    "condition_control=df_web_control[\"control\"]==1\n",
    "df_error_rate_control_step4=df_web_control[condition_control]\n",
    "condition_keep=df_error_rate_control_step4[\"keep_contol\"]==\"YES\"\n",
    "df_error_rate_control_step4=df_error_rate_control_step4[condition_keep]\n",
    "condition_step=(df_error_rate_control_step4[\"step_jump\"]==\"4-3\") | (df_error_rate_control_step4[\"step_jump\"]==\"3-4\") \n",
    "df_error_rate_control_step4=df_error_rate_control_step4[condition_step]\n",
    "df_error_rate_control_step4"
   ]
  },
  {
   "cell_type": "code",
   "execution_count": null,
   "id": "19d9cd04-1053-4092-8680-ecfc4a41b104",
   "metadata": {},
   "outputs": [],
   "source": [
    "#test Step 4\n",
    "condition_test=df_web_test[\"control\"]==1\n",
    "df_error_rate_test_step4=df_web_test[condition_test]\n",
    "condition_keep=df_error_rate_test_step4[\"keep_contol\"]==\"YES\"\n",
    "df_error_rate_test_step4=df_error_rate_test_step4[condition_keep]\n",
    "condition_step=(df_error_rate_test_step4[\"step_jump\"]==\"4-3\") | (df_error_rate_test_step4[\"step_jump\"]==\"3-4\") \n",
    "df_error_rate_test_step4=df_error_rate_test_step4[condition_step]\n",
    "df_error_rate_test_step4"
   ]
  },
  {
   "cell_type": "code",
   "execution_count": null,
   "id": "abe34ef9-fce3-46ca-a999-142f2ecdbac9",
   "metadata": {},
   "outputs": [],
   "source": [
    "counts_error4_control=df_error_rate_control_step4.groupby(\"step_jump\")[\"step_jump\"].value_counts()\n",
    "counts_error4_control"
   ]
  },
  {
   "cell_type": "code",
   "execution_count": null,
   "id": "9bdaacf5-5ce6-4f24-bb9b-5e89e27acf36",
   "metadata": {},
   "outputs": [],
   "source": [
    "counts_error4_test=df_error_rate_test_step4.groupby(\"step_jump\")[\"step_jump\"].value_counts()\n",
    "counts_error4_test"
   ]
  },
  {
   "cell_type": "code",
   "execution_count": null,
   "id": "1355ed83-50e5-4d78-a6a5-a5e48ca039ee",
   "metadata": {},
   "outputs": [],
   "source": []
  }
 ],
 "metadata": {
  "kernelspec": {
   "display_name": "Python [conda env:base] *",
   "language": "python",
   "name": "conda-base-py"
  },
  "language_info": {
   "codemirror_mode": {
    "name": "ipython",
    "version": 3
   },
   "file_extension": ".py",
   "mimetype": "text/x-python",
   "name": "python",
   "nbconvert_exporter": "python",
   "pygments_lexer": "ipython3",
   "version": "3.12.7"
  }
 },
 "nbformat": 4,
 "nbformat_minor": 5
}
