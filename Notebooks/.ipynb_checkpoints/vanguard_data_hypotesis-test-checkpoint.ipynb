{
 "cells": [
  {
   "cell_type": "markdown",
   "id": "4214cac0-cb94-448c-9f5c-be7318681f83",
   "metadata": {},
   "source": [
    "## **Import the libraries** ##"
   ]
  },
  {
   "cell_type": "code",
   "execution_count": 110,
   "id": "b5bfbaf4-5e7f-4242-8752-8c142c1260e0",
   "metadata": {},
   "outputs": [],
   "source": [
    "import pandas as pd\n",
    "import matplotlib.pyplot as plt\n",
    "import seaborn as sns\n",
    "import numpy as np\n",
    "\n",
    "%matplotlib inline\n",
    "df_web_test=pd.read_csv(\"../Data/Clean/df_final_web_data_test_clean.txt\")\n",
    "df_web_control=pd.read_csv(\"../Data/Clean/df_final_web_data_control_clean.txt\")"
   ]
  },
  {
   "cell_type": "markdown",
   "id": "d8bf8ad8-3919-4245-a0bb-d10e4c0c72a9",
   "metadata": {},
   "source": [
    "## **Analysis** ##"
   ]
  },
  {
   "cell_type": "markdown",
   "id": "1bf9c5d6-829f-43ef-84c9-408927d5ec03",
   "metadata": {},
   "source": [
    "## **Device - Test** ##"
   ]
  },
  {
   "cell_type": "code",
   "execution_count": 113,
   "id": "3ac3cf63-cec7-4350-96a7-20e4542c19f1",
   "metadata": {},
   "outputs": [
    {
     "data": {
      "text/html": [
       "<div>\n",
       "<style scoped>\n",
       "    .dataframe tbody tr th:only-of-type {\n",
       "        vertical-align: middle;\n",
       "    }\n",
       "\n",
       "    .dataframe tbody tr th {\n",
       "        vertical-align: top;\n",
       "    }\n",
       "\n",
       "    .dataframe thead th {\n",
       "        text-align: right;\n",
       "    }\n",
       "</style>\n",
       "<table border=\"1\" class=\"dataframe\">\n",
       "  <thead>\n",
       "    <tr style=\"text-align: right;\">\n",
       "      <th></th>\n",
       "      <th>client_id</th>\n",
       "      <th>num_devices</th>\n",
       "    </tr>\n",
       "  </thead>\n",
       "  <tbody>\n",
       "    <tr>\n",
       "      <th>0</th>\n",
       "      <td>555</td>\n",
       "      <td>1</td>\n",
       "    </tr>\n",
       "    <tr>\n",
       "      <th>1</th>\n",
       "      <td>647</td>\n",
       "      <td>1</td>\n",
       "    </tr>\n",
       "    <tr>\n",
       "      <th>2</th>\n",
       "      <td>934</td>\n",
       "      <td>1</td>\n",
       "    </tr>\n",
       "    <tr>\n",
       "      <th>3</th>\n",
       "      <td>1336</td>\n",
       "      <td>1</td>\n",
       "    </tr>\n",
       "    <tr>\n",
       "      <th>4</th>\n",
       "      <td>1346</td>\n",
       "      <td>1</td>\n",
       "    </tr>\n",
       "    <tr>\n",
       "      <th>...</th>\n",
       "      <td>...</td>\n",
       "      <td>...</td>\n",
       "    </tr>\n",
       "    <tr>\n",
       "      <th>26963</th>\n",
       "      <td>9999150</td>\n",
       "      <td>1</td>\n",
       "    </tr>\n",
       "    <tr>\n",
       "      <th>26964</th>\n",
       "      <td>9999400</td>\n",
       "      <td>1</td>\n",
       "    </tr>\n",
       "    <tr>\n",
       "      <th>26965</th>\n",
       "      <td>9999626</td>\n",
       "      <td>1</td>\n",
       "    </tr>\n",
       "    <tr>\n",
       "      <th>26966</th>\n",
       "      <td>9999729</td>\n",
       "      <td>3</td>\n",
       "    </tr>\n",
       "    <tr>\n",
       "      <th>26967</th>\n",
       "      <td>9999832</td>\n",
       "      <td>1</td>\n",
       "    </tr>\n",
       "  </tbody>\n",
       "</table>\n",
       "<p>26968 rows × 2 columns</p>\n",
       "</div>"
      ],
      "text/plain": [
       "       client_id  num_devices\n",
       "0            555            1\n",
       "1            647            1\n",
       "2            934            1\n",
       "3           1336            1\n",
       "4           1346            1\n",
       "...          ...          ...\n",
       "26963    9999150            1\n",
       "26964    9999400            1\n",
       "26965    9999626            1\n",
       "26966    9999729            3\n",
       "26967    9999832            1\n",
       "\n",
       "[26968 rows x 2 columns]"
      ]
     },
     "execution_count": 113,
     "metadata": {},
     "output_type": "execute_result"
    }
   ],
   "source": [
    "#Create a new date_frame to see the use of device\n",
    "df_web_test_device=df_web_test[[\"client_id\",\"visitor_id\"]]\n",
    "df_web_test_device=df_web_test_device.drop_duplicates()\n",
    "df_web_test_device=pd.DataFrame(df_web_test_device.groupby(\"client_id\")[\"visitor_id\"].count())\n",
    "df_web_test_device=df_web_test_device.rename(columns={\"visitor_id\":\"num_devices\"})\n",
    "df_web_test_device=df_web_test_device.reset_index()\n",
    "df_web_test_device"
   ]
  },
  {
   "cell_type": "code",
   "execution_count": 114,
   "id": "8b79ae63-49aa-4668-81bf-3eaf258e6800",
   "metadata": {},
   "outputs": [
    {
     "name": "stdout",
     "output_type": "stream",
     "text": [
      "The stadictical for the number of device per client is count    26968.000000\n",
      "mean         1.113023\n",
      "std          0.407203\n",
      "min          1.000000\n",
      "25%          1.000000\n",
      "50%          1.000000\n",
      "75%          1.000000\n",
      "max         11.000000\n",
      "Name: num_devices, dtype: float64\n",
      "The mode for the number of device pero cliente is 1\n"
     ]
    }
   ],
   "source": [
    "device_stat_test=df_web_test_device[\"num_devices\"].describe()\n",
    "device_mode_test=df_web_test_device[\"num_devices\"].mode()[0]\n",
    "\n",
    "print(f\"The stadictical for the number of device per client is {device_stat_test}\")\n",
    "print(f\"The mode for the number of device pero cliente is {device_mode_test}\")"
   ]
  },
  {
   "cell_type": "code",
   "execution_count": 115,
   "id": "4bd2ebdb-1509-4d5f-865b-149926e945cd",
   "metadata": {},
   "outputs": [
    {
     "data": {
      "image/png": "[encoded data removed]",
      "text/plain": [
       "<Figure size 640x480 with 1 Axes>"
      ]
     },
     "metadata": {},
     "output_type": "display_data"
    }
   ],
   "source": [
    "sns.histplot(df_web_test_device['num_devices'], kde=True, bins=15, color=\"orange\")\n",
    "plt.show()"
   ]
  },
  {
   "cell_type": "markdown",
   "id": "de3f2881-580d-422c-b4d1-e27f9578a6cc",
   "metadata": {},
   "source": [
    "**Analysis**: from all the almost 27.000 clients, almost 75% of the customer only use 1 device to get into our portal.There is some clients who use more than 4 devices that we can consider outliners."
   ]
  },
  {
   "cell_type": "code",
   "execution_count": 117,
   "id": "788e5a34-a7f9-4504-86f4-0fa6c995da9a",
   "metadata": {},
   "outputs": [
    {
     "data": {
      "image/png": "[encoded data removed]",
      "text/plain": [
       "<Figure size 640x480 with 1 Axes>"
      ]
     },
     "metadata": {},
     "output_type": "display_data"
    }
   ],
   "source": [
    "sns.boxplot(df_web_test_device['num_devices'], color=\"lightblue\")\n",
    "plt.show()"
   ]
  },
  {
   "cell_type": "markdown",
   "id": "e3ebb874-4000-4892-8f8b-237485356b47",
   "metadata": {},
   "source": [
    "## **Device - Control** ##"
   ]
  },
  {
   "cell_type": "code",
   "execution_count": 119,
   "id": "83fa3124-817b-404f-969c-99df1860ce3f",
   "metadata": {},
   "outputs": [
    {
     "data": {
      "text/html": [
       "<div>\n",
       "<style scoped>\n",
       "    .dataframe tbody tr th:only-of-type {\n",
       "        vertical-align: middle;\n",
       "    }\n",
       "\n",
       "    .dataframe tbody tr th {\n",
       "        vertical-align: top;\n",
       "    }\n",
       "\n",
       "    .dataframe thead th {\n",
       "        text-align: right;\n",
       "    }\n",
       "</style>\n",
       "<table border=\"1\" class=\"dataframe\">\n",
       "  <thead>\n",
       "    <tr style=\"text-align: right;\">\n",
       "      <th></th>\n",
       "      <th>client_id</th>\n",
       "      <th>num_devices</th>\n",
       "    </tr>\n",
       "  </thead>\n",
       "  <tbody>\n",
       "    <tr>\n",
       "      <th>0</th>\n",
       "      <td>1028</td>\n",
       "      <td>1</td>\n",
       "    </tr>\n",
       "    <tr>\n",
       "      <th>1</th>\n",
       "      <td>1104</td>\n",
       "      <td>1</td>\n",
       "    </tr>\n",
       "    <tr>\n",
       "      <th>2</th>\n",
       "      <td>1186</td>\n",
       "      <td>1</td>\n",
       "    </tr>\n",
       "    <tr>\n",
       "      <th>3</th>\n",
       "      <td>1195</td>\n",
       "      <td>1</td>\n",
       "    </tr>\n",
       "    <tr>\n",
       "      <th>4</th>\n",
       "      <td>1197</td>\n",
       "      <td>1</td>\n",
       "    </tr>\n",
       "    <tr>\n",
       "      <th>...</th>\n",
       "      <td>...</td>\n",
       "      <td>...</td>\n",
       "    </tr>\n",
       "    <tr>\n",
       "      <th>23526</th>\n",
       "      <td>9997125</td>\n",
       "      <td>1</td>\n",
       "    </tr>\n",
       "    <tr>\n",
       "      <th>23527</th>\n",
       "      <td>9997391</td>\n",
       "      <td>1</td>\n",
       "    </tr>\n",
       "    <tr>\n",
       "      <th>23528</th>\n",
       "      <td>9997470</td>\n",
       "      <td>2</td>\n",
       "    </tr>\n",
       "    <tr>\n",
       "      <th>23529</th>\n",
       "      <td>9998346</td>\n",
       "      <td>1</td>\n",
       "    </tr>\n",
       "    <tr>\n",
       "      <th>23530</th>\n",
       "      <td>9998921</td>\n",
       "      <td>1</td>\n",
       "    </tr>\n",
       "  </tbody>\n",
       "</table>\n",
       "<p>23531 rows × 2 columns</p>\n",
       "</div>"
      ],
      "text/plain": [
       "       client_id  num_devices\n",
       "0           1028            1\n",
       "1           1104            1\n",
       "2           1186            1\n",
       "3           1195            1\n",
       "4           1197            1\n",
       "...          ...          ...\n",
       "23526    9997125            1\n",
       "23527    9997391            1\n",
       "23528    9997470            2\n",
       "23529    9998346            1\n",
       "23530    9998921            1\n",
       "\n",
       "[23531 rows x 2 columns]"
      ]
     },
     "execution_count": 119,
     "metadata": {},
     "output_type": "execute_result"
    }
   ],
   "source": [
    "#Create a new date_frame to see the use of device\n",
    "df_web_control_device=df_web_control[[\"client_id\",\"visitor_id\"]]\n",
    "df_web_control_device=df_web_control_device.drop_duplicates()\n",
    "df_web_control_device=pd.DataFrame(df_web_control_device.groupby(\"client_id\")[\"visitor_id\"].count())\n",
    "df_web_control_device=df_web_control_device.rename(columns={\"visitor_id\":\"num_devices\"})\n",
    "df_web_control_device=df_web_control_device.reset_index()\n",
    "df_web_control_device"
   ]
  },
  {
   "cell_type": "code",
   "execution_count": 120,
   "id": "a100befb-d348-4c55-a02e-ac98db8ff319",
   "metadata": {},
   "outputs": [
    {
     "name": "stdout",
     "output_type": "stream",
     "text": [
      "The stadictical for the number of device per client is count    23531.000000\n",
      "mean         1.120054\n",
      "std          0.424387\n",
      "min          1.000000\n",
      "25%          1.000000\n",
      "50%          1.000000\n",
      "75%          1.000000\n",
      "max         14.000000\n",
      "Name: num_devices, dtype: float64\n",
      "The mode for the number of device pero cliente is 1\n"
     ]
    }
   ],
   "source": [
    "device_stat_control=df_web_control_device[\"num_devices\"].describe()\n",
    "device_mode_control=df_web_control_device[\"num_devices\"].mode()[0]\n",
    "\n",
    "print(f\"The stadictical for the number of device per client is {device_stat_control}\")\n",
    "print(f\"The mode for the number of device pero cliente is {device_mode_control}\")"
   ]
  },
  {
   "cell_type": "code",
   "execution_count": 121,
   "id": "340cf159-c11d-4996-8f70-6b36b092986c",
   "metadata": {},
   "outputs": [
    {
     "data": {
      "image/png": "[encoded data removed]",
      "text/plain": [
       "<Figure size 640x480 with 1 Axes>"
      ]
     },
     "metadata": {},
     "output_type": "display_data"
    }
   ],
   "source": [
    "sns.histplot(df_web_control_device['num_devices'], kde=True, bins=15, color=\"orange\")\n",
    "plt.show()"
   ]
  },
  {
   "cell_type": "code",
   "execution_count": 122,
   "id": "bab9f763-af42-47eb-b28d-94084e7e5e70",
   "metadata": {},
   "outputs": [
    {
     "data": {
      "image/png": "[encoded data removed]",
      "text/plain": [
       "<Figure size 640x480 with 1 Axes>"
      ]
     },
     "metadata": {},
     "output_type": "display_data"
    }
   ],
   "source": [
    "sns.boxplot(df_web_control_device['num_devices'], color=\"lightblue\")\n",
    "plt.show()"
   ]
  },
  {
   "cell_type": "markdown",
   "id": "702720d7-154a-4a4f-a600-7a01425d02e5",
   "metadata": {},
   "source": [
    "## **Connection times - Test** ##"
   ]
  },
  {
   "cell_type": "code",
   "execution_count": 124,
   "id": "3dbfb850-2ea7-40da-837a-8560f1b0bdd4",
   "metadata": {},
   "outputs": [
    {
     "data": {
      "text/html": [
       "<div>\n",
       "<style scoped>\n",
       "    .dataframe tbody tr th:only-of-type {\n",
       "        vertical-align: middle;\n",
       "    }\n",
       "\n",
       "    .dataframe tbody tr th {\n",
       "        vertical-align: top;\n",
       "    }\n",
       "\n",
       "    .dataframe thead th {\n",
       "        text-align: right;\n",
       "    }\n",
       "</style>\n",
       "<table border=\"1\" class=\"dataframe\">\n",
       "  <thead>\n",
       "    <tr style=\"text-align: right;\">\n",
       "      <th></th>\n",
       "      <th>client_id</th>\n",
       "      <th>num_visits</th>\n",
       "    </tr>\n",
       "  </thead>\n",
       "  <tbody>\n",
       "    <tr>\n",
       "      <th>0</th>\n",
       "      <td>555</td>\n",
       "      <td>1</td>\n",
       "    </tr>\n",
       "    <tr>\n",
       "      <th>1</th>\n",
       "      <td>647</td>\n",
       "      <td>1</td>\n",
       "    </tr>\n",
       "    <tr>\n",
       "      <th>2</th>\n",
       "      <td>934</td>\n",
       "      <td>1</td>\n",
       "    </tr>\n",
       "    <tr>\n",
       "      <th>3</th>\n",
       "      <td>1336</td>\n",
       "      <td>2</td>\n",
       "    </tr>\n",
       "    <tr>\n",
       "      <th>4</th>\n",
       "      <td>1346</td>\n",
       "      <td>1</td>\n",
       "    </tr>\n",
       "    <tr>\n",
       "      <th>...</th>\n",
       "      <td>...</td>\n",
       "      <td>...</td>\n",
       "    </tr>\n",
       "    <tr>\n",
       "      <th>26963</th>\n",
       "      <td>9999150</td>\n",
       "      <td>1</td>\n",
       "    </tr>\n",
       "    <tr>\n",
       "      <th>26964</th>\n",
       "      <td>9999400</td>\n",
       "      <td>1</td>\n",
       "    </tr>\n",
       "    <tr>\n",
       "      <th>26965</th>\n",
       "      <td>9999626</td>\n",
       "      <td>1</td>\n",
       "    </tr>\n",
       "    <tr>\n",
       "      <th>26966</th>\n",
       "      <td>9999729</td>\n",
       "      <td>3</td>\n",
       "    </tr>\n",
       "    <tr>\n",
       "      <th>26967</th>\n",
       "      <td>9999832</td>\n",
       "      <td>1</td>\n",
       "    </tr>\n",
       "  </tbody>\n",
       "</table>\n",
       "<p>26968 rows × 2 columns</p>\n",
       "</div>"
      ],
      "text/plain": [
       "       client_id  num_visits\n",
       "0            555           1\n",
       "1            647           1\n",
       "2            934           1\n",
       "3           1336           2\n",
       "4           1346           1\n",
       "...          ...         ...\n",
       "26963    9999150           1\n",
       "26964    9999400           1\n",
       "26965    9999626           1\n",
       "26966    9999729           3\n",
       "26967    9999832           1\n",
       "\n",
       "[26968 rows x 2 columns]"
      ]
     },
     "execution_count": 124,
     "metadata": {},
     "output_type": "execute_result"
    }
   ],
   "source": [
    "#Create a new date_frame to see how many interaction has been made for each client\n",
    "df_web_test_visit=df_web_test[[\"client_id\",\"visit_id\"]]\n",
    "df_web_test_visit=df_web_test_visit.drop_duplicates()\n",
    "df_web_test_visit=pd.DataFrame(df_web_test_visit.groupby(\"client_id\")[\"visit_id\"].count())\n",
    "df_web_test_visit=df_web_test_visit.rename(columns={\"visit_id\":\"num_visits\"})\n",
    "df_web_test_visit=df_web_test_visit.reset_index()\n",
    "df_web_test_visit"
   ]
  },
  {
   "cell_type": "code",
   "execution_count": 125,
   "id": "79381da7-081d-416b-9fa2-89b4b98c0f55",
   "metadata": {},
   "outputs": [
    {
     "name": "stdout",
     "output_type": "stream",
     "text": [
      "The stadictical for the number of device per client is count    26968.000000\n",
      "mean         1.379561\n",
      "std          0.811504\n",
      "min          1.000000\n",
      "25%          1.000000\n",
      "50%          1.000000\n",
      "75%          2.000000\n",
      "max         14.000000\n",
      "Name: num_visits, dtype: float64\n",
      "The mode for the number of device pero cliente is 1\n"
     ]
    }
   ],
   "source": [
    "visit_stat_test=df_web_test_visit[\"num_visits\"].describe()\n",
    "visit_mode_test=df_web_test_visit[\"num_visits\"].mode()[0]\n",
    "\n",
    "print(f\"The stadictical for the number of device per client is {visit_stat_test}\")\n",
    "print(f\"The mode for the number of device pero cliente is {visit_mode_test}\")"
   ]
  },
  {
   "cell_type": "code",
   "execution_count": 126,
   "id": "6cecdfa4-18ab-4667-8a9d-79f2c236af5b",
   "metadata": {},
   "outputs": [
    {
     "data": {
      "image/png": "[encoded data removed]",
      "text/plain": [
       "<Figure size 640x480 with 1 Axes>"
      ]
     },
     "metadata": {},
     "output_type": "display_data"
    }
   ],
   "source": [
    "sns.histplot(df_web_test_visit['num_visits'], kde=True, bins=15, color=\"red\")\n",
    "plt.show()"
   ]
  },
  {
   "cell_type": "code",
   "execution_count": 127,
   "id": "108d1a8b-8df4-4f2c-8dd4-82c359a44ec3",
   "metadata": {},
   "outputs": [
    {
     "data": {
      "image/png": "[encoded data removed]",
      "text/plain": [
       "<Figure size 640x480 with 1 Axes>"
      ]
     },
     "metadata": {},
     "output_type": "display_data"
    }
   ],
   "source": [
    "sns.boxplot(df_web_test_visit['num_visits'], color=\"red\")\n",
    "plt.show()"
   ]
  },
  {
   "cell_type": "markdown",
   "id": "e21279dc-f26e-4824-822e-eff7e62728a4",
   "metadata": {},
   "source": [
    "**Analysis**: The test clients have only interact one time with the new web. As we can see the mean of interactions is 1.37 and only 25% of the total clients have interact with the web, at least, 2 times. We also see some outliner which has interact with the web more than 4 times."
   ]
  },
  {
   "cell_type": "markdown",
   "id": "858aa414-9211-474d-9e85-53227efa970b",
   "metadata": {},
   "source": [
    "## **Connection times - Control** ##"
   ]
  },
  {
   "cell_type": "code",
   "execution_count": 130,
   "id": "60c63a3b-c5fe-4049-8d3b-8fbc7142d26a",
   "metadata": {},
   "outputs": [
    {
     "data": {
      "text/html": [
       "<div>\n",
       "<style scoped>\n",
       "    .dataframe tbody tr th:only-of-type {\n",
       "        vertical-align: middle;\n",
       "    }\n",
       "\n",
       "    .dataframe tbody tr th {\n",
       "        vertical-align: top;\n",
       "    }\n",
       "\n",
       "    .dataframe thead th {\n",
       "        text-align: right;\n",
       "    }\n",
       "</style>\n",
       "<table border=\"1\" class=\"dataframe\">\n",
       "  <thead>\n",
       "    <tr style=\"text-align: right;\">\n",
       "      <th></th>\n",
       "      <th>client_id</th>\n",
       "      <th>num_visits</th>\n",
       "    </tr>\n",
       "  </thead>\n",
       "  <tbody>\n",
       "    <tr>\n",
       "      <th>0</th>\n",
       "      <td>1028</td>\n",
       "      <td>1</td>\n",
       "    </tr>\n",
       "    <tr>\n",
       "      <th>1</th>\n",
       "      <td>1104</td>\n",
       "      <td>2</td>\n",
       "    </tr>\n",
       "    <tr>\n",
       "      <th>2</th>\n",
       "      <td>1186</td>\n",
       "      <td>2</td>\n",
       "    </tr>\n",
       "    <tr>\n",
       "      <th>3</th>\n",
       "      <td>1195</td>\n",
       "      <td>1</td>\n",
       "    </tr>\n",
       "    <tr>\n",
       "      <th>4</th>\n",
       "      <td>1197</td>\n",
       "      <td>1</td>\n",
       "    </tr>\n",
       "    <tr>\n",
       "      <th>...</th>\n",
       "      <td>...</td>\n",
       "      <td>...</td>\n",
       "    </tr>\n",
       "    <tr>\n",
       "      <th>23526</th>\n",
       "      <td>9997125</td>\n",
       "      <td>1</td>\n",
       "    </tr>\n",
       "    <tr>\n",
       "      <th>23527</th>\n",
       "      <td>9997391</td>\n",
       "      <td>1</td>\n",
       "    </tr>\n",
       "    <tr>\n",
       "      <th>23528</th>\n",
       "      <td>9997470</td>\n",
       "      <td>3</td>\n",
       "    </tr>\n",
       "    <tr>\n",
       "      <th>23529</th>\n",
       "      <td>9998346</td>\n",
       "      <td>1</td>\n",
       "    </tr>\n",
       "    <tr>\n",
       "      <th>23530</th>\n",
       "      <td>9998921</td>\n",
       "      <td>1</td>\n",
       "    </tr>\n",
       "  </tbody>\n",
       "</table>\n",
       "<p>23531 rows × 2 columns</p>\n",
       "</div>"
      ],
      "text/plain": [
       "       client_id  num_visits\n",
       "0           1028           1\n",
       "1           1104           2\n",
       "2           1186           2\n",
       "3           1195           1\n",
       "4           1197           1\n",
       "...          ...         ...\n",
       "23526    9997125           1\n",
       "23527    9997391           1\n",
       "23528    9997470           3\n",
       "23529    9998346           1\n",
       "23530    9998921           1\n",
       "\n",
       "[23531 rows x 2 columns]"
      ]
     },
     "execution_count": 130,
     "metadata": {},
     "output_type": "execute_result"
    }
   ],
   "source": [
    "#Create a new date_frame to see how many interaction has been made for each client\n",
    "df_web_control_visit=df_web_control[[\"client_id\",\"visit_id\"]]\n",
    "df_web_control_visit=df_web_control_visit.drop_duplicates()\n",
    "df_web_control_visit=pd.DataFrame(df_web_control_visit.groupby(\"client_id\")[\"visit_id\"].count())\n",
    "df_web_control_visit=df_web_control_visit.rename(columns={\"visit_id\":\"num_visits\"})\n",
    "df_web_control_visit=df_web_control_visit.reset_index()\n",
    "df_web_control_visit"
   ]
  },
  {
   "cell_type": "code",
   "execution_count": 163,
   "id": "cbdffdf3-a5b9-4884-af62-3c66751fadf4",
   "metadata": {},
   "outputs": [
    {
     "name": "stdout",
     "output_type": "stream",
     "text": [
      "The stadictical for the number of device per client is count    23531.000000\n",
      "mean         1.370193\n",
      "std          0.835675\n",
      "min          1.000000\n",
      "25%          1.000000\n",
      "50%          1.000000\n",
      "75%          2.000000\n",
      "max         18.000000\n",
      "Name: num_visits, dtype: float64\n",
      "The mode for the number of device pero cliente is 1\n"
     ]
    }
   ],
   "source": [
    "visit_stat_controlt=df_web_control_visit[\"num_visits\"].describe()\n",
    "visit_mode_control=df_web_control_visit[\"num_visits\"].mode()[0]\n",
    "\n",
    "print(f\"The stadictical for the number of device per client is {visit_stat_controlt}\")\n",
    "print(f\"The mode for the number of device pero cliente is {visit_mode_control}\")"
   ]
  },
  {
   "cell_type": "code",
   "execution_count": 165,
   "id": "4c92a058-b10e-4bf3-b05f-107dd3fc64df",
   "metadata": {},
   "outputs": [
    {
     "data": {
      "image/png": "[encoded data removed]",
      "text/plain": [
       "<Figure size 640x480 with 1 Axes>"
      ]
     },
     "metadata": {},
     "output_type": "display_data"
    }
   ],
   "source": [
    "sns.histplot(df_web_control_visit['num_visits'], kde=True, bins=15, color=\"red\")\n",
    "plt.show()"
   ]
  },
  {
   "cell_type": "code",
   "execution_count": 167,
   "id": "ecabbb8d-5737-41f5-b88c-e26a3068c9d4",
   "metadata": {},
   "outputs": [
    {
     "data": {
      "image/png": "[encoded data removed]",
      "text/plain": [
       "<Figure size 640x480 with 1 Axes>"
      ]
     },
     "metadata": {},
     "output_type": "display_data"
    }
   ],
   "source": [
    "sns.boxplot(df_web_control_visit['num_visits'], color=\"red\")\n",
    "plt.show()"
   ]
  },
  {
   "cell_type": "markdown",
   "id": "5eab2fa8-637f-42a6-99fc-20e944f133d5",
   "metadata": {},
   "source": [
    "## **STEPS - Test**"
   ]
  },
  {
   "cell_type": "code",
   "execution_count": 170,
   "id": "def17fc3-6a8a-4661-a796-a6c3c36c31ab",
   "metadata": {},
   "outputs": [
    {
     "data": {
      "text/plain": [
       "count    177846.000000\n",
       "mean          1.581773\n",
       "std           1.427361\n",
       "min           0.000000\n",
       "25%           0.000000\n",
       "50%           1.000000\n",
       "75%           3.000000\n",
       "max           4.000000\n",
       "Name: process_step, dtype: float64"
      ]
     },
     "execution_count": 170,
     "metadata": {},
     "output_type": "execute_result"
    }
   ],
   "source": [
    "df_web_test[\"process_step\"].describe()"
   ]
  },
  {
   "cell_type": "code",
   "execution_count": 172,
   "id": "ad82fd81-20f5-4e70-8f1e-5f4248175a7c",
   "metadata": {},
   "outputs": [
    {
     "data": {
      "image/png": "[encoded data removed]",
      "text/plain": [
       "<Figure size 640x480 with 1 Axes>"
      ]
     },
     "metadata": {},
     "output_type": "display_data"
    }
   ],
   "source": [
    "sns.histplot(df_web_test['process_step'], kde=True, bins=60, color=\"green\")\n",
    "plt.show()"
   ]
  },
  {
   "cell_type": "markdown",
   "id": "76e5ea70-936c-4fc1-b3f7-63904501a2bd",
   "metadata": {},
   "source": [
    "**Analysis**: The web is a little bit confusing. The clients, as average, do not reach the second step and they get stack in the step 1. Less than 25% of the clients reach the final step. But all the clients which reach the setp 3 get to finish the whole process. So the more confusing part are in order to get to step 1 as we can see more difference in the histoplot. The difficulty decrese as the steps go ahead."
   ]
  },
  {
   "cell_type": "markdown",
   "id": "b3e93d65-ad40-4508-bcb0-2ed6378be76c",
   "metadata": {},
   "source": [
    "## **STEPS - Control**"
   ]
  },
  {
   "cell_type": "code",
   "execution_count": 176,
   "id": "5804abb6-d468-4072-87cc-e310ba475909",
   "metadata": {},
   "outputs": [
    {
     "data": {
      "text/plain": [
       "count    143461.000000\n",
       "mean          1.532437\n",
       "std           1.400913\n",
       "min           0.000000\n",
       "25%           0.000000\n",
       "50%           1.000000\n",
       "75%           3.000000\n",
       "max           4.000000\n",
       "Name: process_step, dtype: float64"
      ]
     },
     "execution_count": 176,
     "metadata": {},
     "output_type": "execute_result"
    }
   ],
   "source": [
    "df_web_control[\"process_step\"].describe()"
   ]
  },
  {
   "cell_type": "code",
   "execution_count": 178,
   "id": "343e2406-d354-4fe0-a079-bb7471eb06c2",
   "metadata": {},
   "outputs": [
    {
     "data": {
      "image/png": "[encoded data removed]",
      "text/plain": [
       "<Figure size 640x480 with 1 Axes>"
      ]
     },
     "metadata": {},
     "output_type": "display_data"
    }
   ],
   "source": [
    "sns.histplot(df_web_control['process_step'], kde=True, bins=60, color=\"green\")\n",
    "plt.show()"
   ]
  },
  {
   "cell_type": "markdown",
   "id": "e56ab21d-4a05-48ad-8f4e-98071ec864d9",
   "metadata": {},
   "source": [
    "## **Hour - Test**"
   ]
  },
  {
   "cell_type": "code",
   "execution_count": 181,
   "id": "f1aead12-d9a6-4879-9b40-85542bf67c80",
   "metadata": {},
   "outputs": [
    {
     "data": {
      "text/html": [
       "<div>\n",
       "<style scoped>\n",
       "    .dataframe tbody tr th:only-of-type {\n",
       "        vertical-align: middle;\n",
       "    }\n",
       "\n",
       "    .dataframe tbody tr th {\n",
       "        vertical-align: top;\n",
       "    }\n",
       "\n",
       "    .dataframe thead th {\n",
       "        text-align: right;\n",
       "    }\n",
       "</style>\n",
       "<table border=\"1\" class=\"dataframe\">\n",
       "  <thead>\n",
       "    <tr style=\"text-align: right;\">\n",
       "      <th></th>\n",
       "      <th>visit_id</th>\n",
       "      <th>hour</th>\n",
       "    </tr>\n",
       "  </thead>\n",
       "  <tbody>\n",
       "    <tr>\n",
       "      <th>152231</th>\n",
       "      <td>870190074_29671901808_765379</td>\n",
       "      <td>0</td>\n",
       "    </tr>\n",
       "    <tr>\n",
       "      <th>141915</th>\n",
       "      <td>817443435_61080697825_176022</td>\n",
       "      <td>0</td>\n",
       "    </tr>\n",
       "    <tr>\n",
       "      <th>159752</th>\n",
       "      <td>906410128_43337083823_596149</td>\n",
       "      <td>0</td>\n",
       "    </tr>\n",
       "    <tr>\n",
       "      <th>18545</th>\n",
       "      <td>192505390_22935057296_646170</td>\n",
       "      <td>0</td>\n",
       "    </tr>\n",
       "    <tr>\n",
       "      <th>169270</th>\n",
       "      <td>956711551_37747457931_497511</td>\n",
       "      <td>0</td>\n",
       "    </tr>\n",
       "    <tr>\n",
       "      <th>...</th>\n",
       "      <td>...</td>\n",
       "      <td>...</td>\n",
       "    </tr>\n",
       "    <tr>\n",
       "      <th>25098</th>\n",
       "      <td>226224025_82504978730_541107</td>\n",
       "      <td>23</td>\n",
       "    </tr>\n",
       "    <tr>\n",
       "      <th>174515</th>\n",
       "      <td>984151385_74482790970_727846</td>\n",
       "      <td>23</td>\n",
       "    </tr>\n",
       "    <tr>\n",
       "      <th>49169</th>\n",
       "      <td>349463764_81006653638_435721</td>\n",
       "      <td>23</td>\n",
       "    </tr>\n",
       "    <tr>\n",
       "      <th>166299</th>\n",
       "      <td>941086657_21366006832_198684</td>\n",
       "      <td>23</td>\n",
       "    </tr>\n",
       "    <tr>\n",
       "      <th>166300</th>\n",
       "      <td>941149082_76860209013_959960</td>\n",
       "      <td>23</td>\n",
       "    </tr>\n",
       "  </tbody>\n",
       "</table>\n",
       "<p>40217 rows × 2 columns</p>\n",
       "</div>"
      ],
      "text/plain": [
       "                            visit_id  hour\n",
       "152231  870190074_29671901808_765379     0\n",
       "141915  817443435_61080697825_176022     0\n",
       "159752  906410128_43337083823_596149     0\n",
       "18545   192505390_22935057296_646170     0\n",
       "169270  956711551_37747457931_497511     0\n",
       "...                              ...   ...\n",
       "25098   226224025_82504978730_541107    23\n",
       "174515  984151385_74482790970_727846    23\n",
       "49169   349463764_81006653638_435721    23\n",
       "166299  941086657_21366006832_198684    23\n",
       "166300  941149082_76860209013_959960    23\n",
       "\n",
       "[40217 rows x 2 columns]"
      ]
     },
     "execution_count": 181,
     "metadata": {},
     "output_type": "execute_result"
    }
   ],
   "source": [
    "df_web_test_hour=df_web_test.sort_values(\"hour\", ascending=True)\n",
    "df_web_test_hour=df_web_test_hour[[\"visit_id\",\"hour\"]]\n",
    "df_web_test_hour=df_web_test_hour.drop_duplicates()\n",
    "df_web_test_hour"
   ]
  },
  {
   "cell_type": "code",
   "execution_count": 183,
   "id": "2d39e472-9b73-4146-af3d-a84e222cfb0b",
   "metadata": {},
   "outputs": [
    {
     "data": {
      "text/plain": [
       "count    40217.000000\n",
       "mean        13.849094\n",
       "std          4.936782\n",
       "min          0.000000\n",
       "25%         11.000000\n",
       "50%         13.000000\n",
       "75%         18.000000\n",
       "max         23.000000\n",
       "Name: hour, dtype: float64"
      ]
     },
     "execution_count": 183,
     "metadata": {},
     "output_type": "execute_result"
    }
   ],
   "source": [
    "df_web_test_hour[\"hour\"].describe()"
   ]
  },
  {
   "cell_type": "code",
   "execution_count": 185,
   "id": "c342b00f-cbe5-4ab8-96f2-2bc2122cc409",
   "metadata": {},
   "outputs": [
    {
     "data": {
      "image/png": "[encoded data removed]",
      "text/plain": [
       "<Figure size 640x480 with 1 Axes>"
      ]
     },
     "metadata": {},
     "output_type": "display_data"
    }
   ],
   "source": [
    "sns.histplot(df_web_test_hour['hour'], kde=True, bins=20, color=\"green\")\n",
    "plt.show()"
   ]
  },
  {
   "cell_type": "code",
   "execution_count": 187,
   "id": "ef65de19-3b68-487c-8939-6f2a8b492a90",
   "metadata": {},
   "outputs": [
    {
     "data": {
      "image/png": "[encoded data removed]",
      "text/plain": [
       "<Figure size 640x480 with 1 Axes>"
      ]
     },
     "metadata": {},
     "output_type": "display_data"
    }
   ],
   "source": [
    "sns.boxplot(df_web_test_hour['hour'], color=\"lightgreen\")\n",
    "plt.show()"
   ]
  },
  {
   "cell_type": "markdown",
   "id": "101acf95-7d78-48ef-829a-13a6cf4d7246",
   "metadata": {},
   "source": [
    "**Analysis**: More of the interactis has been made between 10 am to 15 pm. There is just some outlines which access to the 12 am "
   ]
  },
  {
   "cell_type": "markdown",
   "id": "419c0ccd-dd5e-45cd-994f-b15cb2f0548d",
   "metadata": {},
   "source": [
    "## **Hour - Control**"
   ]
  },
  {
   "cell_type": "code",
   "execution_count": 191,
   "id": "ca3fab11-9127-4f81-9c03-b35482aa17e8",
   "metadata": {},
   "outputs": [
    {
     "data": {
      "text/html": [
       "<div>\n",
       "<style scoped>\n",
       "    .dataframe tbody tr th:only-of-type {\n",
       "        vertical-align: middle;\n",
       "    }\n",
       "\n",
       "    .dataframe tbody tr th {\n",
       "        vertical-align: top;\n",
       "    }\n",
       "\n",
       "    .dataframe thead th {\n",
       "        text-align: right;\n",
       "    }\n",
       "</style>\n",
       "<table border=\"1\" class=\"dataframe\">\n",
       "  <thead>\n",
       "    <tr style=\"text-align: right;\">\n",
       "      <th></th>\n",
       "      <th>visit_id</th>\n",
       "      <th>hour</th>\n",
       "    </tr>\n",
       "  </thead>\n",
       "  <tbody>\n",
       "    <tr>\n",
       "      <th>1383</th>\n",
       "      <td>108901971_73954126259_963518</td>\n",
       "      <td>0</td>\n",
       "    </tr>\n",
       "    <tr>\n",
       "      <th>142467</th>\n",
       "      <td>994216329_42252594264_336065</td>\n",
       "      <td>0</td>\n",
       "    </tr>\n",
       "    <tr>\n",
       "      <th>131335</th>\n",
       "      <td>923436520_62650017529_260842</td>\n",
       "      <td>0</td>\n",
       "    </tr>\n",
       "    <tr>\n",
       "      <th>81412</th>\n",
       "      <td>615227851_46110570941_69016</td>\n",
       "      <td>0</td>\n",
       "    </tr>\n",
       "    <tr>\n",
       "      <th>111823</th>\n",
       "      <td>802431627_30288532125_11783</td>\n",
       "      <td>0</td>\n",
       "    </tr>\n",
       "    <tr>\n",
       "      <th>...</th>\n",
       "      <td>...</td>\n",
       "      <td>...</td>\n",
       "    </tr>\n",
       "    <tr>\n",
       "      <th>89395</th>\n",
       "      <td>665650167_88629384901_531683</td>\n",
       "      <td>23</td>\n",
       "    </tr>\n",
       "    <tr>\n",
       "      <th>17407</th>\n",
       "      <td>208794724_80027878145_425996</td>\n",
       "      <td>23</td>\n",
       "    </tr>\n",
       "    <tr>\n",
       "      <th>25354</th>\n",
       "      <td>259910223_30860672165_335390</td>\n",
       "      <td>23</td>\n",
       "    </tr>\n",
       "    <tr>\n",
       "      <th>25403</th>\n",
       "      <td>26025369_39313043041_630309</td>\n",
       "      <td>23</td>\n",
       "    </tr>\n",
       "    <tr>\n",
       "      <th>138279</th>\n",
       "      <td>967962583_40857341766_886250</td>\n",
       "      <td>23</td>\n",
       "    </tr>\n",
       "  </tbody>\n",
       "</table>\n",
       "<p>34537 rows × 2 columns</p>\n",
       "</div>"
      ],
      "text/plain": [
       "                            visit_id  hour\n",
       "1383    108901971_73954126259_963518     0\n",
       "142467  994216329_42252594264_336065     0\n",
       "131335  923436520_62650017529_260842     0\n",
       "81412    615227851_46110570941_69016     0\n",
       "111823   802431627_30288532125_11783     0\n",
       "...                              ...   ...\n",
       "89395   665650167_88629384901_531683    23\n",
       "17407   208794724_80027878145_425996    23\n",
       "25354   259910223_30860672165_335390    23\n",
       "25403    26025369_39313043041_630309    23\n",
       "138279  967962583_40857341766_886250    23\n",
       "\n",
       "[34537 rows x 2 columns]"
      ]
     },
     "execution_count": 191,
     "metadata": {},
     "output_type": "execute_result"
    }
   ],
   "source": [
    "df_web_control_hour=df_web_control.sort_values(\"hour\", ascending=True)\n",
    "df_web_control_hour=df_web_control_hour[[\"visit_id\",\"hour\"]]\n",
    "df_web_control_hour=df_web_control_hour.drop_duplicates()\n",
    "df_web_control_hour"
   ]
  },
  {
   "cell_type": "code",
   "execution_count": 193,
   "id": "a6a0ba62-b4f3-43d8-a1ba-55478a9e569f",
   "metadata": {},
   "outputs": [
    {
     "data": {
      "text/plain": [
       "count    34537.000000\n",
       "mean        13.813852\n",
       "std          4.914047\n",
       "min          0.000000\n",
       "25%         11.000000\n",
       "50%         13.000000\n",
       "75%         17.000000\n",
       "max         23.000000\n",
       "Name: hour, dtype: float64"
      ]
     },
     "execution_count": 193,
     "metadata": {},
     "output_type": "execute_result"
    }
   ],
   "source": [
    "df_web_control_hour[\"hour\"].describe()"
   ]
  },
  {
   "cell_type": "code",
   "execution_count": 195,
   "id": "e9ca6ca7-f4a0-45eb-b787-4585b6db9c16",
   "metadata": {},
   "outputs": [
    {
     "data": {
      "image/png": "[encoded data removed]",
      "text/plain": [
       "<Figure size 640x480 with 1 Axes>"
      ]
     },
     "metadata": {},
     "output_type": "display_data"
    }
   ],
   "source": [
    "sns.histplot(df_web_control_hour['hour'], kde=True, bins=20, color=\"green\")\n",
    "plt.show()"
   ]
  },
  {
   "cell_type": "code",
   "execution_count": 197,
   "id": "c4872a37-0734-4aab-8c6d-917db9328d9f",
   "metadata": {},
   "outputs": [
    {
     "data": {
      "image/png": "[encoded data removed]",
      "text/plain": [
       "<Figure size 640x480 with 1 Axes>"
      ]
     },
     "metadata": {},
     "output_type": "display_data"
    }
   ],
   "source": [
    "sns.boxplot(df_web_control_hour['hour'], color=\"lightgreen\")\n",
    "plt.show()"
   ]
  },
  {
   "cell_type": "markdown",
   "id": "4441bc23-2b70-4d34-8d2d-bd508e17e2a9",
   "metadata": {},
   "source": [
    "## **Time between steps -Test** ##"
   ]
  },
  {
   "cell_type": "code",
   "execution_count": 200,
   "id": "39f80d3b-c00a-409a-94e8-8fc53d0036ed",
   "metadata": {},
   "outputs": [
    {
     "data": {
      "text/html": [
       "<div>\n",
       "<style scoped>\n",
       "    .dataframe tbody tr th:only-of-type {\n",
       "        vertical-align: middle;\n",
       "    }\n",
       "\n",
       "    .dataframe tbody tr th {\n",
       "        vertical-align: top;\n",
       "    }\n",
       "\n",
       "    .dataframe thead th {\n",
       "        text-align: right;\n",
       "    }\n",
       "</style>\n",
       "<table border=\"1\" class=\"dataframe\">\n",
       "  <thead>\n",
       "    <tr style=\"text-align: right;\">\n",
       "      <th></th>\n",
       "      <th>Unnamed: 0.1</th>\n",
       "      <th>Unnamed: 0</th>\n",
       "      <th>client_id</th>\n",
       "      <th>visitor_id</th>\n",
       "      <th>visit_id</th>\n",
       "      <th>process_step</th>\n",
       "      <th>date_time</th>\n",
       "      <th>Variation</th>\n",
       "      <th>date</th>\n",
       "      <th>time</th>\n",
       "      <th>hour</th>\n",
       "      <th>step_jump</th>\n",
       "      <th>control</th>\n",
       "      <th>dif_time</th>\n",
       "      <th>dif_hour</th>\n",
       "      <th>dif_min</th>\n",
       "      <th>dif_seg</th>\n",
       "      <th>total_seg</th>\n",
       "      <th>keep_contol</th>\n",
       "    </tr>\n",
       "  </thead>\n",
       "  <tbody>\n",
       "    <tr>\n",
       "      <th>2</th>\n",
       "      <td>137142</td>\n",
       "      <td>240561</td>\n",
       "      <td>7338123</td>\n",
       "      <td>612065484_94198474375</td>\n",
       "      <td>100019538_17884295066_43909</td>\n",
       "      <td>1</td>\n",
       "      <td>2017-04-09 16:21:12</td>\n",
       "      <td>Test</td>\n",
       "      <td>2017-04-09</td>\n",
       "      <td>1900-01-01 16:21:12</td>\n",
       "      <td>16</td>\n",
       "      <td>0-1</td>\n",
       "      <td>1.0</td>\n",
       "      <td>00:00:16</td>\n",
       "      <td>0</td>\n",
       "      <td>0</td>\n",
       "      <td>16</td>\n",
       "      <td>16</td>\n",
       "      <td>YES</td>\n",
       "    </tr>\n",
       "    <tr>\n",
       "      <th>3</th>\n",
       "      <td>137141</td>\n",
       "      <td>240560</td>\n",
       "      <td>7338123</td>\n",
       "      <td>612065484_94198474375</td>\n",
       "      <td>100019538_17884295066_43909</td>\n",
       "      <td>2</td>\n",
       "      <td>2017-04-09 16:21:21</td>\n",
       "      <td>Test</td>\n",
       "      <td>2017-04-09</td>\n",
       "      <td>1900-01-01 16:21:21</td>\n",
       "      <td>16</td>\n",
       "      <td>1-2</td>\n",
       "      <td>1.0</td>\n",
       "      <td>00:00:09</td>\n",
       "      <td>0</td>\n",
       "      <td>0</td>\n",
       "      <td>9</td>\n",
       "      <td>9</td>\n",
       "      <td>YES</td>\n",
       "    </tr>\n",
       "    <tr>\n",
       "      <th>8</th>\n",
       "      <td>137136</td>\n",
       "      <td>240555</td>\n",
       "      <td>7338123</td>\n",
       "      <td>612065484_94198474375</td>\n",
       "      <td>100019538_17884295066_43909</td>\n",
       "      <td>1</td>\n",
       "      <td>2017-04-09 16:22:04</td>\n",
       "      <td>Test</td>\n",
       "      <td>2017-04-09</td>\n",
       "      <td>1900-01-01 16:22:04</td>\n",
       "      <td>16</td>\n",
       "      <td>0-1</td>\n",
       "      <td>1.0</td>\n",
       "      <td>00:00:05</td>\n",
       "      <td>0</td>\n",
       "      <td>0</td>\n",
       "      <td>5</td>\n",
       "      <td>5</td>\n",
       "      <td>YES</td>\n",
       "    </tr>\n",
       "    <tr>\n",
       "      <th>9</th>\n",
       "      <td>137135</td>\n",
       "      <td>240554</td>\n",
       "      <td>7338123</td>\n",
       "      <td>612065484_94198474375</td>\n",
       "      <td>100019538_17884295066_43909</td>\n",
       "      <td>2</td>\n",
       "      <td>2017-04-09 16:22:08</td>\n",
       "      <td>Test</td>\n",
       "      <td>2017-04-09</td>\n",
       "      <td>1900-01-01 16:22:08</td>\n",
       "      <td>16</td>\n",
       "      <td>1-2</td>\n",
       "      <td>1.0</td>\n",
       "      <td>00:00:04</td>\n",
       "      <td>0</td>\n",
       "      <td>0</td>\n",
       "      <td>4</td>\n",
       "      <td>4</td>\n",
       "      <td>YES</td>\n",
       "    </tr>\n",
       "    <tr>\n",
       "      <th>10</th>\n",
       "      <td>137134</td>\n",
       "      <td>240553</td>\n",
       "      <td>7338123</td>\n",
       "      <td>612065484_94198474375</td>\n",
       "      <td>100019538_17884295066_43909</td>\n",
       "      <td>3</td>\n",
       "      <td>2017-04-09 16:24:01</td>\n",
       "      <td>Test</td>\n",
       "      <td>2017-04-09</td>\n",
       "      <td>1900-01-01 16:24:01</td>\n",
       "      <td>16</td>\n",
       "      <td>2-3</td>\n",
       "      <td>1.0</td>\n",
       "      <td>00:01:53</td>\n",
       "      <td>0</td>\n",
       "      <td>1</td>\n",
       "      <td>53</td>\n",
       "      <td>113</td>\n",
       "      <td>YES</td>\n",
       "    </tr>\n",
       "    <tr>\n",
       "      <th>...</th>\n",
       "      <td>...</td>\n",
       "      <td>...</td>\n",
       "      <td>...</td>\n",
       "      <td>...</td>\n",
       "      <td>...</td>\n",
       "      <td>...</td>\n",
       "      <td>...</td>\n",
       "      <td>...</td>\n",
       "      <td>...</td>\n",
       "      <td>...</td>\n",
       "      <td>...</td>\n",
       "      <td>...</td>\n",
       "      <td>...</td>\n",
       "      <td>...</td>\n",
       "      <td>...</td>\n",
       "      <td>...</td>\n",
       "      <td>...</td>\n",
       "      <td>...</td>\n",
       "      <td>...</td>\n",
       "    </tr>\n",
       "    <tr>\n",
       "      <th>177838</th>\n",
       "      <td>46510</td>\n",
       "      <td>81692</td>\n",
       "      <td>829911</td>\n",
       "      <td>648229874_89449279372</td>\n",
       "      <td>999984454_18731538378_781808</td>\n",
       "      <td>2</td>\n",
       "      <td>2017-03-29 11:19:32</td>\n",
       "      <td>Test</td>\n",
       "      <td>2017-03-29</td>\n",
       "      <td>1900-01-01 11:19:32</td>\n",
       "      <td>11</td>\n",
       "      <td>1-2</td>\n",
       "      <td>1.0</td>\n",
       "      <td>00:00:41</td>\n",
       "      <td>0</td>\n",
       "      <td>0</td>\n",
       "      <td>41</td>\n",
       "      <td>41</td>\n",
       "      <td>YES</td>\n",
       "    </tr>\n",
       "    <tr>\n",
       "      <th>177839</th>\n",
       "      <td>46509</td>\n",
       "      <td>81691</td>\n",
       "      <td>829911</td>\n",
       "      <td>648229874_89449279372</td>\n",
       "      <td>999984454_18731538378_781808</td>\n",
       "      <td>3</td>\n",
       "      <td>2017-03-29 11:20:23</td>\n",
       "      <td>Test</td>\n",
       "      <td>2017-03-29</td>\n",
       "      <td>1900-01-01 11:20:23</td>\n",
       "      <td>11</td>\n",
       "      <td>2-3</td>\n",
       "      <td>1.0</td>\n",
       "      <td>00:00:51</td>\n",
       "      <td>0</td>\n",
       "      <td>0</td>\n",
       "      <td>51</td>\n",
       "      <td>51</td>\n",
       "      <td>YES</td>\n",
       "    </tr>\n",
       "    <tr>\n",
       "      <th>177840</th>\n",
       "      <td>46508</td>\n",
       "      <td>81690</td>\n",
       "      <td>829911</td>\n",
       "      <td>648229874_89449279372</td>\n",
       "      <td>999984454_18731538378_781808</td>\n",
       "      <td>4</td>\n",
       "      <td>2017-03-29 11:21:07</td>\n",
       "      <td>Test</td>\n",
       "      <td>2017-03-29</td>\n",
       "      <td>1900-01-01 11:21:07</td>\n",
       "      <td>11</td>\n",
       "      <td>3-4</td>\n",
       "      <td>1.0</td>\n",
       "      <td>00:00:44</td>\n",
       "      <td>0</td>\n",
       "      <td>0</td>\n",
       "      <td>44</td>\n",
       "      <td>44</td>\n",
       "      <td>YES</td>\n",
       "    </tr>\n",
       "    <tr>\n",
       "      <th>177842</th>\n",
       "      <td>55157</td>\n",
       "      <td>97221</td>\n",
       "      <td>6627522</td>\n",
       "      <td>730634087_44272418812</td>\n",
       "      <td>999988789_76411676596_272843</td>\n",
       "      <td>1</td>\n",
       "      <td>2017-04-21 23:49:22</td>\n",
       "      <td>Test</td>\n",
       "      <td>2017-04-21</td>\n",
       "      <td>1900-01-01 23:49:22</td>\n",
       "      <td>23</td>\n",
       "      <td>0-1</td>\n",
       "      <td>1.0</td>\n",
       "      <td>00:00:11</td>\n",
       "      <td>0</td>\n",
       "      <td>0</td>\n",
       "      <td>11</td>\n",
       "      <td>11</td>\n",
       "      <td>YES</td>\n",
       "    </tr>\n",
       "    <tr>\n",
       "      <th>177843</th>\n",
       "      <td>55156</td>\n",
       "      <td>97220</td>\n",
       "      <td>6627522</td>\n",
       "      <td>730634087_44272418812</td>\n",
       "      <td>999988789_76411676596_272843</td>\n",
       "      <td>2</td>\n",
       "      <td>2017-04-21 23:50:16</td>\n",
       "      <td>Test</td>\n",
       "      <td>2017-04-21</td>\n",
       "      <td>1900-01-01 23:50:16</td>\n",
       "      <td>23</td>\n",
       "      <td>1-2</td>\n",
       "      <td>1.0</td>\n",
       "      <td>00:00:54</td>\n",
       "      <td>0</td>\n",
       "      <td>0</td>\n",
       "      <td>54</td>\n",
       "      <td>54</td>\n",
       "      <td>YES</td>\n",
       "    </tr>\n",
       "  </tbody>\n",
       "</table>\n",
       "<p>103496 rows × 19 columns</p>\n",
       "</div>"
      ],
      "text/plain": [
       "        Unnamed: 0.1  Unnamed: 0  client_id             visitor_id  \\\n",
       "2             137142      240561    7338123  612065484_94198474375   \n",
       "3             137141      240560    7338123  612065484_94198474375   \n",
       "8             137136      240555    7338123  612065484_94198474375   \n",
       "9             137135      240554    7338123  612065484_94198474375   \n",
       "10            137134      240553    7338123  612065484_94198474375   \n",
       "...              ...         ...        ...                    ...   \n",
       "177838         46510       81692     829911  648229874_89449279372   \n",
       "177839         46509       81691     829911  648229874_89449279372   \n",
       "177840         46508       81690     829911  648229874_89449279372   \n",
       "177842         55157       97221    6627522  730634087_44272418812   \n",
       "177843         55156       97220    6627522  730634087_44272418812   \n",
       "\n",
       "                            visit_id  process_step            date_time  \\\n",
       "2        100019538_17884295066_43909             1  2017-04-09 16:21:12   \n",
       "3        100019538_17884295066_43909             2  2017-04-09 16:21:21   \n",
       "8        100019538_17884295066_43909             1  2017-04-09 16:22:04   \n",
       "9        100019538_17884295066_43909             2  2017-04-09 16:22:08   \n",
       "10       100019538_17884295066_43909             3  2017-04-09 16:24:01   \n",
       "...                              ...           ...                  ...   \n",
       "177838  999984454_18731538378_781808             2  2017-03-29 11:19:32   \n",
       "177839  999984454_18731538378_781808             3  2017-03-29 11:20:23   \n",
       "177840  999984454_18731538378_781808             4  2017-03-29 11:21:07   \n",
       "177842  999988789_76411676596_272843             1  2017-04-21 23:49:22   \n",
       "177843  999988789_76411676596_272843             2  2017-04-21 23:50:16   \n",
       "\n",
       "       Variation        date                 time  hour step_jump  control  \\\n",
       "2           Test  2017-04-09  1900-01-01 16:21:12    16       0-1      1.0   \n",
       "3           Test  2017-04-09  1900-01-01 16:21:21    16       1-2      1.0   \n",
       "8           Test  2017-04-09  1900-01-01 16:22:04    16       0-1      1.0   \n",
       "9           Test  2017-04-09  1900-01-01 16:22:08    16       1-2      1.0   \n",
       "10          Test  2017-04-09  1900-01-01 16:24:01    16       2-3      1.0   \n",
       "...          ...         ...                  ...   ...       ...      ...   \n",
       "177838      Test  2017-03-29  1900-01-01 11:19:32    11       1-2      1.0   \n",
       "177839      Test  2017-03-29  1900-01-01 11:20:23    11       2-3      1.0   \n",
       "177840      Test  2017-03-29  1900-01-01 11:21:07    11       3-4      1.0   \n",
       "177842      Test  2017-04-21  1900-01-01 23:49:22    23       0-1      1.0   \n",
       "177843      Test  2017-04-21  1900-01-01 23:50:16    23       1-2      1.0   \n",
       "\n",
       "        dif_time  dif_hour  dif_min  dif_seg  total_seg keep_contol  \n",
       "2       00:00:16         0        0       16         16         YES  \n",
       "3       00:00:09         0        0        9          9         YES  \n",
       "8       00:00:05         0        0        5          5         YES  \n",
       "9       00:00:04         0        0        4          4         YES  \n",
       "10      00:01:53         0        1       53        113         YES  \n",
       "...          ...       ...      ...      ...        ...         ...  \n",
       "177838  00:00:41         0        0       41         41         YES  \n",
       "177839  00:00:51         0        0       51         51         YES  \n",
       "177840  00:00:44         0        0       44         44         YES  \n",
       "177842  00:00:11         0        0       11         11         YES  \n",
       "177843  00:00:54         0        0       54         54         YES  \n",
       "\n",
       "[103496 rows x 19 columns]"
      ]
     },
     "execution_count": 200,
     "metadata": {},
     "output_type": "execute_result"
    }
   ],
   "source": [
    "#Filter what we want: control condition 1, steps forward 0-1;1-2;2-3;3-4. keep_control=YES\n",
    "condition_control=df_web_test[\"control\"]==1\n",
    "df_web_test_dif_time=df_web_test[condition_control]\n",
    "condition_step=(df_web_test_dif_time[\"step_jump\"]==\"0-1\") | (df_web_test_dif_time[\"step_jump\"]==\"1-2\") | (df_web_test_dif_time[\"step_jump\"]==\"2-3\") | (df_web_test_dif_time[\"step_jump\"]==\"3-4\")\n",
    "df_web_test_dif_time=df_web_test_dif_time[condition_step]\n",
    "condition_keep=df_web_test_dif_time[\"keep_contol\"]==\"YES\"\n",
    "df_web_test_dif_time=df_web_test_dif_time[condition_keep]\n",
    "df_web_test_dif_time\n",
    "df_web_test_dif_time"
   ]
  },
  {
   "cell_type": "code",
   "execution_count": 202,
   "id": "51c88cb9-165b-4ff0-82bd-7c3733787864",
   "metadata": {},
   "outputs": [
    {
     "data": {
      "text/plain": [
       "count    103496.000000\n",
       "mean         58.681205\n",
       "std         102.058354\n",
       "min           0.000000\n",
       "25%          12.000000\n",
       "50%          30.000000\n",
       "75%          67.000000\n",
       "max        3636.000000\n",
       "Name: total_seg, dtype: float64"
      ]
     },
     "execution_count": 202,
     "metadata": {},
     "output_type": "execute_result"
    }
   ],
   "source": [
    "df_web_test_dif_time[\"total_seg\"].describe()"
   ]
  },
  {
   "cell_type": "code",
   "execution_count": 204,
   "id": "ae772a20-1f54-4e90-a21d-0fbe28630fc4",
   "metadata": {},
   "outputs": [
    {
     "data": {
      "text/html": [
       "<div>\n",
       "<style scoped>\n",
       "    .dataframe tbody tr th:only-of-type {\n",
       "        vertical-align: middle;\n",
       "    }\n",
       "\n",
       "    .dataframe tbody tr th {\n",
       "        vertical-align: top;\n",
       "    }\n",
       "\n",
       "    .dataframe thead th {\n",
       "        text-align: right;\n",
       "    }\n",
       "</style>\n",
       "<table border=\"1\" class=\"dataframe\">\n",
       "  <thead>\n",
       "    <tr style=\"text-align: right;\">\n",
       "      <th></th>\n",
       "      <th>count</th>\n",
       "      <th>median</th>\n",
       "      <th>std</th>\n",
       "    </tr>\n",
       "    <tr>\n",
       "      <th>step_jump</th>\n",
       "      <th></th>\n",
       "      <th></th>\n",
       "      <th></th>\n",
       "    </tr>\n",
       "  </thead>\n",
       "  <tbody>\n",
       "    <tr>\n",
       "      <th>0-1</th>\n",
       "      <td>33372</td>\n",
       "      <td>10.0</td>\n",
       "      <td>86.146898</td>\n",
       "    </tr>\n",
       "    <tr>\n",
       "      <th>1-2</th>\n",
       "      <td>27535</td>\n",
       "      <td>24.0</td>\n",
       "      <td>57.903721</td>\n",
       "    </tr>\n",
       "    <tr>\n",
       "      <th>2-3</th>\n",
       "      <td>24218</td>\n",
       "      <td>66.0</td>\n",
       "      <td>84.526467</td>\n",
       "    </tr>\n",
       "    <tr>\n",
       "      <th>3-4</th>\n",
       "      <td>18371</td>\n",
       "      <td>52.0</td>\n",
       "      <td>159.805556</td>\n",
       "    </tr>\n",
       "  </tbody>\n",
       "</table>\n",
       "</div>"
      ],
      "text/plain": [
       "           count  median         std\n",
       "step_jump                           \n",
       "0-1        33372    10.0   86.146898\n",
       "1-2        27535    24.0   57.903721\n",
       "2-3        24218    66.0   84.526467\n",
       "3-4        18371    52.0  159.805556"
      ]
     },
     "execution_count": 204,
     "metadata": {},
     "output_type": "execute_result"
    }
   ],
   "source": [
    "time_stat=df_web_test_dif_time.groupby(\"step_jump\")[\"total_seg\"].agg([\"count\",\"median\",\"std\"])\n",
    "time_stat"
   ]
  },
  {
   "cell_type": "code",
   "execution_count": 206,
   "id": "441dcd55-5b00-43e5-90fe-4a13e7b5ddf1",
   "metadata": {},
   "outputs": [
    {
     "data": {
      "text/html": [
       "<div>\n",
       "<style scoped>\n",
       "    .dataframe tbody tr th:only-of-type {\n",
       "        vertical-align: middle;\n",
       "    }\n",
       "\n",
       "    .dataframe tbody tr th {\n",
       "        vertical-align: top;\n",
       "    }\n",
       "\n",
       "    .dataframe thead th {\n",
       "        text-align: right;\n",
       "    }\n",
       "</style>\n",
       "<table border=\"1\" class=\"dataframe\">\n",
       "  <thead>\n",
       "    <tr style=\"text-align: right;\">\n",
       "      <th></th>\n",
       "      <th>Unnamed: 0.1</th>\n",
       "      <th>Unnamed: 0</th>\n",
       "      <th>client_id</th>\n",
       "      <th>visitor_id</th>\n",
       "      <th>visit_id</th>\n",
       "      <th>process_step</th>\n",
       "      <th>date_time</th>\n",
       "      <th>Variation</th>\n",
       "      <th>date</th>\n",
       "      <th>time</th>\n",
       "      <th>hour</th>\n",
       "      <th>step_jump</th>\n",
       "      <th>control</th>\n",
       "      <th>dif_time</th>\n",
       "      <th>dif_hour</th>\n",
       "      <th>dif_min</th>\n",
       "      <th>dif_seg</th>\n",
       "      <th>total_seg</th>\n",
       "      <th>keep_contol</th>\n",
       "    </tr>\n",
       "  </thead>\n",
       "  <tbody>\n",
       "    <tr>\n",
       "      <th>0</th>\n",
       "      <td>61530</td>\n",
       "      <td>108613</td>\n",
       "      <td>3561384</td>\n",
       "      <td>451664975_1722933822</td>\n",
       "      <td>100012776_37918976071_457913</td>\n",
       "      <td>4</td>\n",
       "      <td>2017-04-26 13:23:09</td>\n",
       "      <td>Test</td>\n",
       "      <td>2017-04-26</td>\n",
       "      <td>1900-01-01 13:23:09</td>\n",
       "      <td>13</td>\n",
       "      <td>4-4</td>\n",
       "      <td>0.0</td>\n",
       "      <td>00:00:52</td>\n",
       "      <td>0</td>\n",
       "      <td>0</td>\n",
       "      <td>52</td>\n",
       "      <td>52</td>\n",
       "      <td>NO</td>\n",
       "    </tr>\n",
       "    <tr>\n",
       "      <th>1</th>\n",
       "      <td>137143</td>\n",
       "      <td>240562</td>\n",
       "      <td>7338123</td>\n",
       "      <td>612065484_94198474375</td>\n",
       "      <td>100019538_17884295066_43909</td>\n",
       "      <td>0</td>\n",
       "      <td>2017-04-09 16:20:56</td>\n",
       "      <td>Test</td>\n",
       "      <td>2017-04-09</td>\n",
       "      <td>1900-01-01 16:20:56</td>\n",
       "      <td>16</td>\n",
       "      <td>4-0</td>\n",
       "      <td>4.0</td>\n",
       "      <td>02:57:47</td>\n",
       "      <td>2</td>\n",
       "      <td>57</td>\n",
       "      <td>47</td>\n",
       "      <td>10667</td>\n",
       "      <td>NO</td>\n",
       "    </tr>\n",
       "    <tr>\n",
       "      <th>2</th>\n",
       "      <td>137142</td>\n",
       "      <td>240561</td>\n",
       "      <td>7338123</td>\n",
       "      <td>612065484_94198474375</td>\n",
       "      <td>100019538_17884295066_43909</td>\n",
       "      <td>1</td>\n",
       "      <td>2017-04-09 16:21:12</td>\n",
       "      <td>Test</td>\n",
       "      <td>2017-04-09</td>\n",
       "      <td>1900-01-01 16:21:12</td>\n",
       "      <td>16</td>\n",
       "      <td>0-1</td>\n",
       "      <td>1.0</td>\n",
       "      <td>00:00:16</td>\n",
       "      <td>0</td>\n",
       "      <td>0</td>\n",
       "      <td>16</td>\n",
       "      <td>16</td>\n",
       "      <td>YES</td>\n",
       "    </tr>\n",
       "    <tr>\n",
       "      <th>3</th>\n",
       "      <td>137141</td>\n",
       "      <td>240560</td>\n",
       "      <td>7338123</td>\n",
       "      <td>612065484_94198474375</td>\n",
       "      <td>100019538_17884295066_43909</td>\n",
       "      <td>2</td>\n",
       "      <td>2017-04-09 16:21:21</td>\n",
       "      <td>Test</td>\n",
       "      <td>2017-04-09</td>\n",
       "      <td>1900-01-01 16:21:21</td>\n",
       "      <td>16</td>\n",
       "      <td>1-2</td>\n",
       "      <td>1.0</td>\n",
       "      <td>00:00:09</td>\n",
       "      <td>0</td>\n",
       "      <td>0</td>\n",
       "      <td>9</td>\n",
       "      <td>9</td>\n",
       "      <td>YES</td>\n",
       "    </tr>\n",
       "    <tr>\n",
       "      <th>4</th>\n",
       "      <td>137140</td>\n",
       "      <td>240559</td>\n",
       "      <td>7338123</td>\n",
       "      <td>612065484_94198474375</td>\n",
       "      <td>100019538_17884295066_43909</td>\n",
       "      <td>1</td>\n",
       "      <td>2017-04-09 16:21:35</td>\n",
       "      <td>Test</td>\n",
       "      <td>2017-04-09</td>\n",
       "      <td>1900-01-01 16:21:35</td>\n",
       "      <td>16</td>\n",
       "      <td>2-1</td>\n",
       "      <td>1.0</td>\n",
       "      <td>00:00:14</td>\n",
       "      <td>0</td>\n",
       "      <td>0</td>\n",
       "      <td>14</td>\n",
       "      <td>14</td>\n",
       "      <td>YES</td>\n",
       "    </tr>\n",
       "    <tr>\n",
       "      <th>...</th>\n",
       "      <td>...</td>\n",
       "      <td>...</td>\n",
       "      <td>...</td>\n",
       "      <td>...</td>\n",
       "      <td>...</td>\n",
       "      <td>...</td>\n",
       "      <td>...</td>\n",
       "      <td>...</td>\n",
       "      <td>...</td>\n",
       "      <td>...</td>\n",
       "      <td>...</td>\n",
       "      <td>...</td>\n",
       "      <td>...</td>\n",
       "      <td>...</td>\n",
       "      <td>...</td>\n",
       "      <td>...</td>\n",
       "      <td>...</td>\n",
       "      <td>...</td>\n",
       "      <td>...</td>\n",
       "    </tr>\n",
       "    <tr>\n",
       "      <th>177841</th>\n",
       "      <td>55158</td>\n",
       "      <td>97222</td>\n",
       "      <td>6627522</td>\n",
       "      <td>730634087_44272418812</td>\n",
       "      <td>999988789_76411676596_272843</td>\n",
       "      <td>0</td>\n",
       "      <td>2017-04-21 23:49:11</td>\n",
       "      <td>Test</td>\n",
       "      <td>2017-04-21</td>\n",
       "      <td>1900-01-01 23:49:11</td>\n",
       "      <td>23</td>\n",
       "      <td>4-0</td>\n",
       "      <td>4.0</td>\n",
       "      <td>12:28:04</td>\n",
       "      <td>12</td>\n",
       "      <td>28</td>\n",
       "      <td>4</td>\n",
       "      <td>44884</td>\n",
       "      <td>NO</td>\n",
       "    </tr>\n",
       "    <tr>\n",
       "      <th>177842</th>\n",
       "      <td>55157</td>\n",
       "      <td>97221</td>\n",
       "      <td>6627522</td>\n",
       "      <td>730634087_44272418812</td>\n",
       "      <td>999988789_76411676596_272843</td>\n",
       "      <td>1</td>\n",
       "      <td>2017-04-21 23:49:22</td>\n",
       "      <td>Test</td>\n",
       "      <td>2017-04-21</td>\n",
       "      <td>1900-01-01 23:49:22</td>\n",
       "      <td>23</td>\n",
       "      <td>0-1</td>\n",
       "      <td>1.0</td>\n",
       "      <td>00:00:11</td>\n",
       "      <td>0</td>\n",
       "      <td>0</td>\n",
       "      <td>11</td>\n",
       "      <td>11</td>\n",
       "      <td>YES</td>\n",
       "    </tr>\n",
       "    <tr>\n",
       "      <th>177843</th>\n",
       "      <td>55156</td>\n",
       "      <td>97220</td>\n",
       "      <td>6627522</td>\n",
       "      <td>730634087_44272418812</td>\n",
       "      <td>999988789_76411676596_272843</td>\n",
       "      <td>2</td>\n",
       "      <td>2017-04-21 23:50:16</td>\n",
       "      <td>Test</td>\n",
       "      <td>2017-04-21</td>\n",
       "      <td>1900-01-01 23:50:16</td>\n",
       "      <td>23</td>\n",
       "      <td>1-2</td>\n",
       "      <td>1.0</td>\n",
       "      <td>00:00:54</td>\n",
       "      <td>0</td>\n",
       "      <td>0</td>\n",
       "      <td>54</td>\n",
       "      <td>54</td>\n",
       "      <td>YES</td>\n",
       "    </tr>\n",
       "    <tr>\n",
       "      <th>177844</th>\n",
       "      <td>55155</td>\n",
       "      <td>97219</td>\n",
       "      <td>6627522</td>\n",
       "      <td>730634087_44272418812</td>\n",
       "      <td>999988789_76411676596_272843</td>\n",
       "      <td>1</td>\n",
       "      <td>2017-04-21 23:51:00</td>\n",
       "      <td>Test</td>\n",
       "      <td>2017-04-21</td>\n",
       "      <td>1900-01-01 23:51:00</td>\n",
       "      <td>23</td>\n",
       "      <td>2-1</td>\n",
       "      <td>1.0</td>\n",
       "      <td>00:00:44</td>\n",
       "      <td>0</td>\n",
       "      <td>0</td>\n",
       "      <td>44</td>\n",
       "      <td>44</td>\n",
       "      <td>YES</td>\n",
       "    </tr>\n",
       "    <tr>\n",
       "      <th>177845</th>\n",
       "      <td>55154</td>\n",
       "      <td>97218</td>\n",
       "      <td>6627522</td>\n",
       "      <td>730634087_44272418812</td>\n",
       "      <td>999988789_76411676596_272843</td>\n",
       "      <td>0</td>\n",
       "      <td>2017-04-21 23:51:09</td>\n",
       "      <td>Test</td>\n",
       "      <td>2017-04-21</td>\n",
       "      <td>1900-01-01 23:51:09</td>\n",
       "      <td>23</td>\n",
       "      <td>1-0</td>\n",
       "      <td>1.0</td>\n",
       "      <td>00:00:09</td>\n",
       "      <td>0</td>\n",
       "      <td>0</td>\n",
       "      <td>9</td>\n",
       "      <td>9</td>\n",
       "      <td>YES</td>\n",
       "    </tr>\n",
       "  </tbody>\n",
       "</table>\n",
       "<p>177846 rows × 19 columns</p>\n",
       "</div>"
      ],
      "text/plain": [
       "        Unnamed: 0.1  Unnamed: 0  client_id             visitor_id  \\\n",
       "0              61530      108613    3561384   451664975_1722933822   \n",
       "1             137143      240562    7338123  612065484_94198474375   \n",
       "2             137142      240561    7338123  612065484_94198474375   \n",
       "3             137141      240560    7338123  612065484_94198474375   \n",
       "4             137140      240559    7338123  612065484_94198474375   \n",
       "...              ...         ...        ...                    ...   \n",
       "177841         55158       97222    6627522  730634087_44272418812   \n",
       "177842         55157       97221    6627522  730634087_44272418812   \n",
       "177843         55156       97220    6627522  730634087_44272418812   \n",
       "177844         55155       97219    6627522  730634087_44272418812   \n",
       "177845         55154       97218    6627522  730634087_44272418812   \n",
       "\n",
       "                            visit_id  process_step            date_time  \\\n",
       "0       100012776_37918976071_457913             4  2017-04-26 13:23:09   \n",
       "1        100019538_17884295066_43909             0  2017-04-09 16:20:56   \n",
       "2        100019538_17884295066_43909             1  2017-04-09 16:21:12   \n",
       "3        100019538_17884295066_43909             2  2017-04-09 16:21:21   \n",
       "4        100019538_17884295066_43909             1  2017-04-09 16:21:35   \n",
       "...                              ...           ...                  ...   \n",
       "177841  999988789_76411676596_272843             0  2017-04-21 23:49:11   \n",
       "177842  999988789_76411676596_272843             1  2017-04-21 23:49:22   \n",
       "177843  999988789_76411676596_272843             2  2017-04-21 23:50:16   \n",
       "177844  999988789_76411676596_272843             1  2017-04-21 23:51:00   \n",
       "177845  999988789_76411676596_272843             0  2017-04-21 23:51:09   \n",
       "\n",
       "       Variation        date                 time  hour step_jump  control  \\\n",
       "0           Test  2017-04-26  1900-01-01 13:23:09    13       4-4      0.0   \n",
       "1           Test  2017-04-09  1900-01-01 16:20:56    16       4-0      4.0   \n",
       "2           Test  2017-04-09  1900-01-01 16:21:12    16       0-1      1.0   \n",
       "3           Test  2017-04-09  1900-01-01 16:21:21    16       1-2      1.0   \n",
       "4           Test  2017-04-09  1900-01-01 16:21:35    16       2-1      1.0   \n",
       "...          ...         ...                  ...   ...       ...      ...   \n",
       "177841      Test  2017-04-21  1900-01-01 23:49:11    23       4-0      4.0   \n",
       "177842      Test  2017-04-21  1900-01-01 23:49:22    23       0-1      1.0   \n",
       "177843      Test  2017-04-21  1900-01-01 23:50:16    23       1-2      1.0   \n",
       "177844      Test  2017-04-21  1900-01-01 23:51:00    23       2-1      1.0   \n",
       "177845      Test  2017-04-21  1900-01-01 23:51:09    23       1-0      1.0   \n",
       "\n",
       "        dif_time  dif_hour  dif_min  dif_seg  total_seg keep_contol  \n",
       "0       00:00:52         0        0       52         52          NO  \n",
       "1       02:57:47         2       57       47      10667          NO  \n",
       "2       00:00:16         0        0       16         16         YES  \n",
       "3       00:00:09         0        0        9          9         YES  \n",
       "4       00:00:14         0        0       14         14         YES  \n",
       "...          ...       ...      ...      ...        ...         ...  \n",
       "177841  12:28:04        12       28        4      44884          NO  \n",
       "177842  00:00:11         0        0       11         11         YES  \n",
       "177843  00:00:54         0        0       54         54         YES  \n",
       "177844  00:00:44         0        0       44         44         YES  \n",
       "177845  00:00:09         0        0        9          9         YES  \n",
       "\n",
       "[177846 rows x 19 columns]"
      ]
     },
     "execution_count": 206,
     "metadata": {},
     "output_type": "execute_result"
    }
   ],
   "source": [
    "df_web_test"
   ]
  },
  {
   "cell_type": "code",
   "execution_count": 208,
   "id": "d09976ba-5e9c-4ef0-850e-a2948348cba9",
   "metadata": {},
   "outputs": [
    {
     "data": {
      "image/png": "[encoded data removed]",
      "text/plain": [
       "<Figure size 640x480 with 1 Axes>"
      ]
     },
     "metadata": {},
     "output_type": "display_data"
    }
   ],
   "source": [
    "sns.histplot(df_web_test_dif_time['total_seg'], kde=True, bins=60, color=\"green\")\n",
    "plt.show()"
   ]
  },
  {
   "cell_type": "code",
   "execution_count": 213,
   "id": "e20ddca0-8faa-4afb-bb53-9a7592d7a182",
   "metadata": {},
   "outputs": [
    {
     "data": {
      "image/png": "[encoded data removed]",
      "text/plain": [
       "<Figure size 640x480 with 1 Axes>"
      ]
     },
     "metadata": {},
     "output_type": "display_data"
    }
   ],
   "source": [
    "sns.boxplot(df_web_test_dif_time['total_seg'], color=\"lightgreen\")\n",
    "plt.show()"
   ]
  },
  {
   "cell_type": "code",
   "execution_count": null,
   "id": "d06189ee-4a2e-4c95-996b-73f26822af6c",
   "metadata": {},
   "outputs": [],
   "source": [
    "\n",
    "\n",
    "# Applying Square Root transformation to 'total_seg'\n",
    "df_web_test_dif_time['total_seg'] = np.sqrt(df_web_test_dif_time['total_seg'])\n",
    "\n",
    "# Plotting the transformed distribution\n",
    "plt.figure(figsize=(10,5))\n",
    "\n",
    "# Square Root transformed 'total_seg'\n",
    "sns.histplot(df_web_test_dif_time['total_seg'], color=\"lightgreen\", kde=True)\n",
    "plt.title('Square Root Transformed total_seg_test')\n",
    "\n",
    "plt.show()\n"
   ]
  },
  {
   "cell_type": "markdown",
   "id": "08ba464d-e5bb-448e-a682-908771cd4096",
   "metadata": {},
   "source": [
    "**Analysis**: As there is lot of outliners which we considers clients who did not not close the session and remain the PC open, we are going to use the median instead of mean. \n",
    "The total process, as median, it takes 152 minutes, being the first step the faster one with 10 seconds and the longest is number 2 with 66 seconds."
   ]
  },
  {
   "cell_type": "markdown",
   "id": "2bd357ed-ccd9-4c0d-b1cd-0d4692f6b7b9",
   "metadata": {},
   "source": [
    "## **Time between steps -Control** ##"
   ]
  },
  {
   "cell_type": "code",
   "execution_count": 235,
   "id": "554d93bf-4cd7-4377-828e-ffce4d3530b9",
   "metadata": {},
   "outputs": [
    {
     "data": {
      "text/html": [
       "<div>\n",
       "<style scoped>\n",
       "    .dataframe tbody tr th:only-of-type {\n",
       "        vertical-align: middle;\n",
       "    }\n",
       "\n",
       "    .dataframe tbody tr th {\n",
       "        vertical-align: top;\n",
       "    }\n",
       "\n",
       "    .dataframe thead th {\n",
       "        text-align: right;\n",
       "    }\n",
       "</style>\n",
       "<table border=\"1\" class=\"dataframe\">\n",
       "  <thead>\n",
       "    <tr style=\"text-align: right;\">\n",
       "      <th></th>\n",
       "      <th>Unnamed: 0.1</th>\n",
       "      <th>Unnamed: 0</th>\n",
       "      <th>client_id</th>\n",
       "      <th>visitor_id</th>\n",
       "      <th>visit_id</th>\n",
       "      <th>process_step</th>\n",
       "      <th>date_time</th>\n",
       "      <th>Variation</th>\n",
       "      <th>date</th>\n",
       "      <th>time</th>\n",
       "      <th>hour</th>\n",
       "      <th>step_jump</th>\n",
       "      <th>control</th>\n",
       "      <th>dif_time</th>\n",
       "      <th>dif_hour</th>\n",
       "      <th>dif_min</th>\n",
       "      <th>dif_seg</th>\n",
       "      <th>total_seg</th>\n",
       "      <th>keep_contol</th>\n",
       "    </tr>\n",
       "  </thead>\n",
       "  <tbody>\n",
       "    <tr>\n",
       "      <th>2</th>\n",
       "      <td>11362</td>\n",
       "      <td>27511</td>\n",
       "      <td>5623007</td>\n",
       "      <td>700426174_33289797318</td>\n",
       "      <td>100037962_47432393712_705583</td>\n",
       "      <td>1</td>\n",
       "      <td>2017-04-14 16:43:55</td>\n",
       "      <td>Control</td>\n",
       "      <td>2017-04-14</td>\n",
       "      <td>1900-01-01 16:43:55</td>\n",
       "      <td>16</td>\n",
       "      <td>0-1</td>\n",
       "      <td>1.0</td>\n",
       "      <td>00:00:39</td>\n",
       "      <td>0</td>\n",
       "      <td>0</td>\n",
       "      <td>39</td>\n",
       "      <td>39</td>\n",
       "      <td>YES</td>\n",
       "    </tr>\n",
       "    <tr>\n",
       "      <th>5</th>\n",
       "      <td>649</td>\n",
       "      <td>1612</td>\n",
       "      <td>4823947</td>\n",
       "      <td>611052344_43146965242</td>\n",
       "      <td>100057941_88477660212_944512</td>\n",
       "      <td>1</td>\n",
       "      <td>2017-04-09 11:30:40</td>\n",
       "      <td>Control</td>\n",
       "      <td>2017-04-09</td>\n",
       "      <td>1900-01-01 11:30:40</td>\n",
       "      <td>11</td>\n",
       "      <td>0-1</td>\n",
       "      <td>1.0</td>\n",
       "      <td>00:00:30</td>\n",
       "      <td>0</td>\n",
       "      <td>0</td>\n",
       "      <td>30</td>\n",
       "      <td>30</td>\n",
       "      <td>YES</td>\n",
       "    </tr>\n",
       "    <tr>\n",
       "      <th>6</th>\n",
       "      <td>648</td>\n",
       "      <td>1611</td>\n",
       "      <td>4823947</td>\n",
       "      <td>611052344_43146965242</td>\n",
       "      <td>100057941_88477660212_944512</td>\n",
       "      <td>2</td>\n",
       "      <td>2017-04-09 11:31:50</td>\n",
       "      <td>Control</td>\n",
       "      <td>2017-04-09</td>\n",
       "      <td>1900-01-01 11:31:50</td>\n",
       "      <td>11</td>\n",
       "      <td>1-2</td>\n",
       "      <td>1.0</td>\n",
       "      <td>00:01:10</td>\n",
       "      <td>0</td>\n",
       "      <td>1</td>\n",
       "      <td>10</td>\n",
       "      <td>70</td>\n",
       "      <td>YES</td>\n",
       "    </tr>\n",
       "    <tr>\n",
       "      <th>7</th>\n",
       "      <td>647</td>\n",
       "      <td>1610</td>\n",
       "      <td>4823947</td>\n",
       "      <td>611052344_43146965242</td>\n",
       "      <td>100057941_88477660212_944512</td>\n",
       "      <td>3</td>\n",
       "      <td>2017-04-09 11:32:54</td>\n",
       "      <td>Control</td>\n",
       "      <td>2017-04-09</td>\n",
       "      <td>1900-01-01 11:32:54</td>\n",
       "      <td>11</td>\n",
       "      <td>2-3</td>\n",
       "      <td>1.0</td>\n",
       "      <td>00:01:04</td>\n",
       "      <td>0</td>\n",
       "      <td>1</td>\n",
       "      <td>4</td>\n",
       "      <td>64</td>\n",
       "      <td>YES</td>\n",
       "    </tr>\n",
       "    <tr>\n",
       "      <th>9</th>\n",
       "      <td>645</td>\n",
       "      <td>1608</td>\n",
       "      <td>4823947</td>\n",
       "      <td>611052344_43146965242</td>\n",
       "      <td>100057941_88477660212_944512</td>\n",
       "      <td>2</td>\n",
       "      <td>2017-04-09 11:33:58</td>\n",
       "      <td>Control</td>\n",
       "      <td>2017-04-09</td>\n",
       "      <td>1900-01-01 11:33:58</td>\n",
       "      <td>11</td>\n",
       "      <td>1-2</td>\n",
       "      <td>1.0</td>\n",
       "      <td>00:00:37</td>\n",
       "      <td>0</td>\n",
       "      <td>0</td>\n",
       "      <td>37</td>\n",
       "      <td>37</td>\n",
       "      <td>YES</td>\n",
       "    </tr>\n",
       "    <tr>\n",
       "      <th>...</th>\n",
       "      <td>...</td>\n",
       "      <td>...</td>\n",
       "      <td>...</td>\n",
       "      <td>...</td>\n",
       "      <td>...</td>\n",
       "      <td>...</td>\n",
       "      <td>...</td>\n",
       "      <td>...</td>\n",
       "      <td>...</td>\n",
       "      <td>...</td>\n",
       "      <td>...</td>\n",
       "      <td>...</td>\n",
       "      <td>...</td>\n",
       "      <td>...</td>\n",
       "      <td>...</td>\n",
       "      <td>...</td>\n",
       "      <td>...</td>\n",
       "      <td>...</td>\n",
       "      <td>...</td>\n",
       "    </tr>\n",
       "    <tr>\n",
       "      <th>143454</th>\n",
       "      <td>94801</td>\n",
       "      <td>228567</td>\n",
       "      <td>8035493</td>\n",
       "      <td>219846414_94112504392</td>\n",
       "      <td>999936732_27995195904_324897</td>\n",
       "      <td>1</td>\n",
       "      <td>2017-04-13 05:44:03</td>\n",
       "      <td>Control</td>\n",
       "      <td>2017-04-13</td>\n",
       "      <td>1900-01-01 05:44:03</td>\n",
       "      <td>5</td>\n",
       "      <td>0-1</td>\n",
       "      <td>1.0</td>\n",
       "      <td>00:01:04</td>\n",
       "      <td>0</td>\n",
       "      <td>1</td>\n",
       "      <td>4</td>\n",
       "      <td>64</td>\n",
       "      <td>YES</td>\n",
       "    </tr>\n",
       "    <tr>\n",
       "      <th>143457</th>\n",
       "      <td>38400</td>\n",
       "      <td>92499</td>\n",
       "      <td>4064969</td>\n",
       "      <td>110735946_42614968419</td>\n",
       "      <td>999985675_64610694964_443659</td>\n",
       "      <td>1</td>\n",
       "      <td>2017-04-20 09:46:26</td>\n",
       "      <td>Control</td>\n",
       "      <td>2017-04-20</td>\n",
       "      <td>1900-01-01 09:46:26</td>\n",
       "      <td>9</td>\n",
       "      <td>0-1</td>\n",
       "      <td>1.0</td>\n",
       "      <td>00:01:08</td>\n",
       "      <td>0</td>\n",
       "      <td>1</td>\n",
       "      <td>8</td>\n",
       "      <td>68</td>\n",
       "      <td>YES</td>\n",
       "    </tr>\n",
       "    <tr>\n",
       "      <th>143458</th>\n",
       "      <td>38399</td>\n",
       "      <td>92498</td>\n",
       "      <td>4064969</td>\n",
       "      <td>110735946_42614968419</td>\n",
       "      <td>999985675_64610694964_443659</td>\n",
       "      <td>2</td>\n",
       "      <td>2017-04-20 09:47:04</td>\n",
       "      <td>Control</td>\n",
       "      <td>2017-04-20</td>\n",
       "      <td>1900-01-01 09:47:04</td>\n",
       "      <td>9</td>\n",
       "      <td>1-2</td>\n",
       "      <td>1.0</td>\n",
       "      <td>00:00:38</td>\n",
       "      <td>0</td>\n",
       "      <td>0</td>\n",
       "      <td>38</td>\n",
       "      <td>38</td>\n",
       "      <td>YES</td>\n",
       "    </tr>\n",
       "    <tr>\n",
       "      <th>143459</th>\n",
       "      <td>38398</td>\n",
       "      <td>92497</td>\n",
       "      <td>4064969</td>\n",
       "      <td>110735946_42614968419</td>\n",
       "      <td>999985675_64610694964_443659</td>\n",
       "      <td>3</td>\n",
       "      <td>2017-04-20 09:48:45</td>\n",
       "      <td>Control</td>\n",
       "      <td>2017-04-20</td>\n",
       "      <td>1900-01-01 09:48:45</td>\n",
       "      <td>9</td>\n",
       "      <td>2-3</td>\n",
       "      <td>1.0</td>\n",
       "      <td>00:01:41</td>\n",
       "      <td>0</td>\n",
       "      <td>1</td>\n",
       "      <td>41</td>\n",
       "      <td>101</td>\n",
       "      <td>YES</td>\n",
       "    </tr>\n",
       "    <tr>\n",
       "      <th>143460</th>\n",
       "      <td>38397</td>\n",
       "      <td>92496</td>\n",
       "      <td>4064969</td>\n",
       "      <td>110735946_42614968419</td>\n",
       "      <td>999985675_64610694964_443659</td>\n",
       "      <td>4</td>\n",
       "      <td>2017-04-20 10:02:48</td>\n",
       "      <td>Control</td>\n",
       "      <td>2017-04-20</td>\n",
       "      <td>1900-01-01 10:02:48</td>\n",
       "      <td>10</td>\n",
       "      <td>3-4</td>\n",
       "      <td>1.0</td>\n",
       "      <td>00:14:03</td>\n",
       "      <td>0</td>\n",
       "      <td>14</td>\n",
       "      <td>3</td>\n",
       "      <td>843</td>\n",
       "      <td>YES</td>\n",
       "    </tr>\n",
       "  </tbody>\n",
       "</table>\n",
       "<p>84700 rows × 19 columns</p>\n",
       "</div>"
      ],
      "text/plain": [
       "        Unnamed: 0.1  Unnamed: 0  client_id             visitor_id  \\\n",
       "2              11362       27511    5623007  700426174_33289797318   \n",
       "5                649        1612    4823947  611052344_43146965242   \n",
       "6                648        1611    4823947  611052344_43146965242   \n",
       "7                647        1610    4823947  611052344_43146965242   \n",
       "9                645        1608    4823947  611052344_43146965242   \n",
       "...              ...         ...        ...                    ...   \n",
       "143454         94801      228567    8035493  219846414_94112504392   \n",
       "143457         38400       92499    4064969  110735946_42614968419   \n",
       "143458         38399       92498    4064969  110735946_42614968419   \n",
       "143459         38398       92497    4064969  110735946_42614968419   \n",
       "143460         38397       92496    4064969  110735946_42614968419   \n",
       "\n",
       "                            visit_id  process_step            date_time  \\\n",
       "2       100037962_47432393712_705583             1  2017-04-14 16:43:55   \n",
       "5       100057941_88477660212_944512             1  2017-04-09 11:30:40   \n",
       "6       100057941_88477660212_944512             2  2017-04-09 11:31:50   \n",
       "7       100057941_88477660212_944512             3  2017-04-09 11:32:54   \n",
       "9       100057941_88477660212_944512             2  2017-04-09 11:33:58   \n",
       "...                              ...           ...                  ...   \n",
       "143454  999936732_27995195904_324897             1  2017-04-13 05:44:03   \n",
       "143457  999985675_64610694964_443659             1  2017-04-20 09:46:26   \n",
       "143458  999985675_64610694964_443659             2  2017-04-20 09:47:04   \n",
       "143459  999985675_64610694964_443659             3  2017-04-20 09:48:45   \n",
       "143460  999985675_64610694964_443659             4  2017-04-20 10:02:48   \n",
       "\n",
       "       Variation        date                 time  hour step_jump  control  \\\n",
       "2        Control  2017-04-14  1900-01-01 16:43:55    16       0-1      1.0   \n",
       "5        Control  2017-04-09  1900-01-01 11:30:40    11       0-1      1.0   \n",
       "6        Control  2017-04-09  1900-01-01 11:31:50    11       1-2      1.0   \n",
       "7        Control  2017-04-09  1900-01-01 11:32:54    11       2-3      1.0   \n",
       "9        Control  2017-04-09  1900-01-01 11:33:58    11       1-2      1.0   \n",
       "...          ...         ...                  ...   ...       ...      ...   \n",
       "143454   Control  2017-04-13  1900-01-01 05:44:03     5       0-1      1.0   \n",
       "143457   Control  2017-04-20  1900-01-01 09:46:26     9       0-1      1.0   \n",
       "143458   Control  2017-04-20  1900-01-01 09:47:04     9       1-2      1.0   \n",
       "143459   Control  2017-04-20  1900-01-01 09:48:45     9       2-3      1.0   \n",
       "143460   Control  2017-04-20  1900-01-01 10:02:48    10       3-4      1.0   \n",
       "\n",
       "        dif_time  dif_hour  dif_min  dif_seg  total_seg keep_contol  \n",
       "2       00:00:39         0        0       39         39         YES  \n",
       "5       00:00:30         0        0       30         30         YES  \n",
       "6       00:01:10         0        1       10         70         YES  \n",
       "7       00:01:04         0        1        4         64         YES  \n",
       "9       00:00:37         0        0       37         37         YES  \n",
       "...          ...       ...      ...      ...        ...         ...  \n",
       "143454  00:01:04         0        1        4         64         YES  \n",
       "143457  00:01:08         0        1        8         68         YES  \n",
       "143458  00:00:38         0        0       38         38         YES  \n",
       "143459  00:01:41         0        1       41        101         YES  \n",
       "143460  00:14:03         0       14        3        843         YES  \n",
       "\n",
       "[84700 rows x 19 columns]"
      ]
     },
     "execution_count": 235,
     "metadata": {},
     "output_type": "execute_result"
    }
   ],
   "source": [
    "#Filter what we want: control condition 1, steps forward 0-1;1-2;2-3;3-4. keep_control=YES\n",
    "condition_control=df_web_control[\"control\"]==1\n",
    "df_web_control_dif_time=df_web_control[condition_control]\n",
    "condition_step=(df_web_control_dif_time[\"step_jump\"]==\"0-1\") | (df_web_control_dif_time[\"step_jump\"]==\"1-2\") | (df_web_control_dif_time[\"step_jump\"]==\"2-3\") | (df_web_control_dif_time[\"step_jump\"]==\"3-4\")\n",
    "df_web_control_dif_time=df_web_control_dif_time[condition_step]\n",
    "condition_keep=df_web_control_dif_time[\"keep_contol\"]==\"YES\"\n",
    "df_web_control_dif_time=df_web_control_dif_time[condition_keep]\n",
    "df_web_control_dif_time\n",
    "df_web_control_dif_time"
   ]
  },
  {
   "cell_type": "code",
   "execution_count": 237,
   "id": "e08daaa5-10e9-43d5-aa0a-856786f5d4f8",
   "metadata": {},
   "outputs": [
    {
     "data": {
      "text/plain": [
       "count    84700.000000\n",
       "mean        64.977296\n",
       "std        100.011137\n",
       "min          0.000000\n",
       "25%         13.000000\n",
       "50%         35.000000\n",
       "75%         76.000000\n",
       "max       2308.000000\n",
       "Name: total_seg, dtype: float64"
      ]
     },
     "execution_count": 237,
     "metadata": {},
     "output_type": "execute_result"
    }
   ],
   "source": [
    "df_web_control_dif_time[\"total_seg\"].describe()"
   ]
  },
  {
   "cell_type": "code",
   "execution_count": 239,
   "id": "a70dd1a5-4054-4f0e-a0f2-68a441283a11",
   "metadata": {},
   "outputs": [
    {
     "data": {
      "text/html": [
       "<div>\n",
       "<style scoped>\n",
       "    .dataframe tbody tr th:only-of-type {\n",
       "        vertical-align: middle;\n",
       "    }\n",
       "\n",
       "    .dataframe tbody tr th {\n",
       "        vertical-align: top;\n",
       "    }\n",
       "\n",
       "    .dataframe thead th {\n",
       "        text-align: right;\n",
       "    }\n",
       "</style>\n",
       "<table border=\"1\" class=\"dataframe\">\n",
       "  <thead>\n",
       "    <tr style=\"text-align: right;\">\n",
       "      <th></th>\n",
       "      <th>count</th>\n",
       "      <th>median</th>\n",
       "      <th>std</th>\n",
       "    </tr>\n",
       "    <tr>\n",
       "      <th>step_jump</th>\n",
       "      <th></th>\n",
       "      <th></th>\n",
       "      <th></th>\n",
       "    </tr>\n",
       "  </thead>\n",
       "  <tbody>\n",
       "    <tr>\n",
       "      <th>0-1</th>\n",
       "      <td>25771</td>\n",
       "      <td>17.0</td>\n",
       "      <td>78.261446</td>\n",
       "    </tr>\n",
       "    <tr>\n",
       "      <th>1-2</th>\n",
       "      <td>22338</td>\n",
       "      <td>18.0</td>\n",
       "      <td>53.653352</td>\n",
       "    </tr>\n",
       "    <tr>\n",
       "      <th>2-3</th>\n",
       "      <td>21297</td>\n",
       "      <td>66.0</td>\n",
       "      <td>84.942387</td>\n",
       "    </tr>\n",
       "    <tr>\n",
       "      <th>3-4</th>\n",
       "      <td>15294</td>\n",
       "      <td>75.0</td>\n",
       "      <td>154.085849</td>\n",
       "    </tr>\n",
       "  </tbody>\n",
       "</table>\n",
       "</div>"
      ],
      "text/plain": [
       "           count  median         std\n",
       "step_jump                           \n",
       "0-1        25771    17.0   78.261446\n",
       "1-2        22338    18.0   53.653352\n",
       "2-3        21297    66.0   84.942387\n",
       "3-4        15294    75.0  154.085849"
      ]
     },
     "execution_count": 239,
     "metadata": {},
     "output_type": "execute_result"
    }
   ],
   "source": [
    "time_stat=df_web_control_dif_time.groupby(\"step_jump\")[\"total_seg\"].agg([\"count\",\"median\",\"std\"])\n",
    "time_stat"
   ]
  },
  {
   "cell_type": "code",
   "execution_count": 241,
   "id": "4423b92b-954b-4138-a041-3dd02dae7fde",
   "metadata": {},
   "outputs": [
    {
     "data": {
      "text/html": [
       "<div>\n",
       "<style scoped>\n",
       "    .dataframe tbody tr th:only-of-type {\n",
       "        vertical-align: middle;\n",
       "    }\n",
       "\n",
       "    .dataframe tbody tr th {\n",
       "        vertical-align: top;\n",
       "    }\n",
       "\n",
       "    .dataframe thead th {\n",
       "        text-align: right;\n",
       "    }\n",
       "</style>\n",
       "<table border=\"1\" class=\"dataframe\">\n",
       "  <thead>\n",
       "    <tr style=\"text-align: right;\">\n",
       "      <th></th>\n",
       "      <th>Unnamed: 0.1</th>\n",
       "      <th>Unnamed: 0</th>\n",
       "      <th>client_id</th>\n",
       "      <th>visitor_id</th>\n",
       "      <th>visit_id</th>\n",
       "      <th>process_step</th>\n",
       "      <th>date_time</th>\n",
       "      <th>Variation</th>\n",
       "      <th>date</th>\n",
       "      <th>time</th>\n",
       "      <th>hour</th>\n",
       "      <th>step_jump</th>\n",
       "      <th>control</th>\n",
       "      <th>dif_time</th>\n",
       "      <th>dif_hour</th>\n",
       "      <th>dif_min</th>\n",
       "      <th>dif_seg</th>\n",
       "      <th>total_seg</th>\n",
       "      <th>keep_contol</th>\n",
       "    </tr>\n",
       "  </thead>\n",
       "  <tbody>\n",
       "    <tr>\n",
       "      <th>0</th>\n",
       "      <td>11364</td>\n",
       "      <td>27513</td>\n",
       "      <td>5623007</td>\n",
       "      <td>700426174_33289797318</td>\n",
       "      <td>100037962_47432393712_705583</td>\n",
       "      <td>0</td>\n",
       "      <td>2017-04-14 16:41:51</td>\n",
       "      <td>Control</td>\n",
       "      <td>2017-04-14</td>\n",
       "      <td>1900-01-01 16:41:51</td>\n",
       "      <td>16</td>\n",
       "      <td>0-0</td>\n",
       "      <td>0.0</td>\n",
       "      <td>05:34:02</td>\n",
       "      <td>5</td>\n",
       "      <td>34</td>\n",
       "      <td>2</td>\n",
       "      <td>20042</td>\n",
       "      <td>NO</td>\n",
       "    </tr>\n",
       "    <tr>\n",
       "      <th>1</th>\n",
       "      <td>11363</td>\n",
       "      <td>27512</td>\n",
       "      <td>5623007</td>\n",
       "      <td>700426174_33289797318</td>\n",
       "      <td>100037962_47432393712_705583</td>\n",
       "      <td>0</td>\n",
       "      <td>2017-04-14 16:43:16</td>\n",
       "      <td>Control</td>\n",
       "      <td>2017-04-14</td>\n",
       "      <td>1900-01-01 16:43:16</td>\n",
       "      <td>16</td>\n",
       "      <td>0-0</td>\n",
       "      <td>0.0</td>\n",
       "      <td>00:01:25</td>\n",
       "      <td>0</td>\n",
       "      <td>1</td>\n",
       "      <td>25</td>\n",
       "      <td>85</td>\n",
       "      <td>YES</td>\n",
       "    </tr>\n",
       "    <tr>\n",
       "      <th>2</th>\n",
       "      <td>11362</td>\n",
       "      <td>27511</td>\n",
       "      <td>5623007</td>\n",
       "      <td>700426174_33289797318</td>\n",
       "      <td>100037962_47432393712_705583</td>\n",
       "      <td>1</td>\n",
       "      <td>2017-04-14 16:43:55</td>\n",
       "      <td>Control</td>\n",
       "      <td>2017-04-14</td>\n",
       "      <td>1900-01-01 16:43:55</td>\n",
       "      <td>16</td>\n",
       "      <td>0-1</td>\n",
       "      <td>1.0</td>\n",
       "      <td>00:00:39</td>\n",
       "      <td>0</td>\n",
       "      <td>0</td>\n",
       "      <td>39</td>\n",
       "      <td>39</td>\n",
       "      <td>YES</td>\n",
       "    </tr>\n",
       "    <tr>\n",
       "      <th>3</th>\n",
       "      <td>11361</td>\n",
       "      <td>27510</td>\n",
       "      <td>5623007</td>\n",
       "      <td>700426174_33289797318</td>\n",
       "      <td>100037962_47432393712_705583</td>\n",
       "      <td>0</td>\n",
       "      <td>2017-04-14 16:44:03</td>\n",
       "      <td>Control</td>\n",
       "      <td>2017-04-14</td>\n",
       "      <td>1900-01-01 16:44:03</td>\n",
       "      <td>16</td>\n",
       "      <td>1-0</td>\n",
       "      <td>1.0</td>\n",
       "      <td>00:00:08</td>\n",
       "      <td>0</td>\n",
       "      <td>0</td>\n",
       "      <td>8</td>\n",
       "      <td>8</td>\n",
       "      <td>YES</td>\n",
       "    </tr>\n",
       "    <tr>\n",
       "      <th>4</th>\n",
       "      <td>650</td>\n",
       "      <td>1613</td>\n",
       "      <td>4823947</td>\n",
       "      <td>611052344_43146965242</td>\n",
       "      <td>100057941_88477660212_944512</td>\n",
       "      <td>0</td>\n",
       "      <td>2017-04-09 11:30:10</td>\n",
       "      <td>Control</td>\n",
       "      <td>2017-04-09</td>\n",
       "      <td>1900-01-01 11:30:10</td>\n",
       "      <td>11</td>\n",
       "      <td>0-0</td>\n",
       "      <td>0.0</td>\n",
       "      <td>+18:46:07</td>\n",
       "      <td>18</td>\n",
       "      <td>46</td>\n",
       "      <td>7</td>\n",
       "      <td>67567</td>\n",
       "      <td>NO</td>\n",
       "    </tr>\n",
       "    <tr>\n",
       "      <th>...</th>\n",
       "      <td>...</td>\n",
       "      <td>...</td>\n",
       "      <td>...</td>\n",
       "      <td>...</td>\n",
       "      <td>...</td>\n",
       "      <td>...</td>\n",
       "      <td>...</td>\n",
       "      <td>...</td>\n",
       "      <td>...</td>\n",
       "      <td>...</td>\n",
       "      <td>...</td>\n",
       "      <td>...</td>\n",
       "      <td>...</td>\n",
       "      <td>...</td>\n",
       "      <td>...</td>\n",
       "      <td>...</td>\n",
       "      <td>...</td>\n",
       "      <td>...</td>\n",
       "      <td>...</td>\n",
       "    </tr>\n",
       "    <tr>\n",
       "      <th>143456</th>\n",
       "      <td>38401</td>\n",
       "      <td>92500</td>\n",
       "      <td>4064969</td>\n",
       "      <td>110735946_42614968419</td>\n",
       "      <td>999985675_64610694964_443659</td>\n",
       "      <td>0</td>\n",
       "      <td>2017-04-20 09:45:18</td>\n",
       "      <td>Control</td>\n",
       "      <td>2017-04-20</td>\n",
       "      <td>1900-01-01 09:45:18</td>\n",
       "      <td>9</td>\n",
       "      <td>0-0</td>\n",
       "      <td>0.0</td>\n",
       "      <td>+22:24:17</td>\n",
       "      <td>22</td>\n",
       "      <td>24</td>\n",
       "      <td>17</td>\n",
       "      <td>80657</td>\n",
       "      <td>NO</td>\n",
       "    </tr>\n",
       "    <tr>\n",
       "      <th>143457</th>\n",
       "      <td>38400</td>\n",
       "      <td>92499</td>\n",
       "      <td>4064969</td>\n",
       "      <td>110735946_42614968419</td>\n",
       "      <td>999985675_64610694964_443659</td>\n",
       "      <td>1</td>\n",
       "      <td>2017-04-20 09:46:26</td>\n",
       "      <td>Control</td>\n",
       "      <td>2017-04-20</td>\n",
       "      <td>1900-01-01 09:46:26</td>\n",
       "      <td>9</td>\n",
       "      <td>0-1</td>\n",
       "      <td>1.0</td>\n",
       "      <td>00:01:08</td>\n",
       "      <td>0</td>\n",
       "      <td>1</td>\n",
       "      <td>8</td>\n",
       "      <td>68</td>\n",
       "      <td>YES</td>\n",
       "    </tr>\n",
       "    <tr>\n",
       "      <th>143458</th>\n",
       "      <td>38399</td>\n",
       "      <td>92498</td>\n",
       "      <td>4064969</td>\n",
       "      <td>110735946_42614968419</td>\n",
       "      <td>999985675_64610694964_443659</td>\n",
       "      <td>2</td>\n",
       "      <td>2017-04-20 09:47:04</td>\n",
       "      <td>Control</td>\n",
       "      <td>2017-04-20</td>\n",
       "      <td>1900-01-01 09:47:04</td>\n",
       "      <td>9</td>\n",
       "      <td>1-2</td>\n",
       "      <td>1.0</td>\n",
       "      <td>00:00:38</td>\n",
       "      <td>0</td>\n",
       "      <td>0</td>\n",
       "      <td>38</td>\n",
       "      <td>38</td>\n",
       "      <td>YES</td>\n",
       "    </tr>\n",
       "    <tr>\n",
       "      <th>143459</th>\n",
       "      <td>38398</td>\n",
       "      <td>92497</td>\n",
       "      <td>4064969</td>\n",
       "      <td>110735946_42614968419</td>\n",
       "      <td>999985675_64610694964_443659</td>\n",
       "      <td>3</td>\n",
       "      <td>2017-04-20 09:48:45</td>\n",
       "      <td>Control</td>\n",
       "      <td>2017-04-20</td>\n",
       "      <td>1900-01-01 09:48:45</td>\n",
       "      <td>9</td>\n",
       "      <td>2-3</td>\n",
       "      <td>1.0</td>\n",
       "      <td>00:01:41</td>\n",
       "      <td>0</td>\n",
       "      <td>1</td>\n",
       "      <td>41</td>\n",
       "      <td>101</td>\n",
       "      <td>YES</td>\n",
       "    </tr>\n",
       "    <tr>\n",
       "      <th>143460</th>\n",
       "      <td>38397</td>\n",
       "      <td>92496</td>\n",
       "      <td>4064969</td>\n",
       "      <td>110735946_42614968419</td>\n",
       "      <td>999985675_64610694964_443659</td>\n",
       "      <td>4</td>\n",
       "      <td>2017-04-20 10:02:48</td>\n",
       "      <td>Control</td>\n",
       "      <td>2017-04-20</td>\n",
       "      <td>1900-01-01 10:02:48</td>\n",
       "      <td>10</td>\n",
       "      <td>3-4</td>\n",
       "      <td>1.0</td>\n",
       "      <td>00:14:03</td>\n",
       "      <td>0</td>\n",
       "      <td>14</td>\n",
       "      <td>3</td>\n",
       "      <td>843</td>\n",
       "      <td>YES</td>\n",
       "    </tr>\n",
       "  </tbody>\n",
       "</table>\n",
       "<p>143461 rows × 19 columns</p>\n",
       "</div>"
      ],
      "text/plain": [
       "        Unnamed: 0.1  Unnamed: 0  client_id             visitor_id  \\\n",
       "0              11364       27513    5623007  700426174_33289797318   \n",
       "1              11363       27512    5623007  700426174_33289797318   \n",
       "2              11362       27511    5623007  700426174_33289797318   \n",
       "3              11361       27510    5623007  700426174_33289797318   \n",
       "4                650        1613    4823947  611052344_43146965242   \n",
       "...              ...         ...        ...                    ...   \n",
       "143456         38401       92500    4064969  110735946_42614968419   \n",
       "143457         38400       92499    4064969  110735946_42614968419   \n",
       "143458         38399       92498    4064969  110735946_42614968419   \n",
       "143459         38398       92497    4064969  110735946_42614968419   \n",
       "143460         38397       92496    4064969  110735946_42614968419   \n",
       "\n",
       "                            visit_id  process_step            date_time  \\\n",
       "0       100037962_47432393712_705583             0  2017-04-14 16:41:51   \n",
       "1       100037962_47432393712_705583             0  2017-04-14 16:43:16   \n",
       "2       100037962_47432393712_705583             1  2017-04-14 16:43:55   \n",
       "3       100037962_47432393712_705583             0  2017-04-14 16:44:03   \n",
       "4       100057941_88477660212_944512             0  2017-04-09 11:30:10   \n",
       "...                              ...           ...                  ...   \n",
       "143456  999985675_64610694964_443659             0  2017-04-20 09:45:18   \n",
       "143457  999985675_64610694964_443659             1  2017-04-20 09:46:26   \n",
       "143458  999985675_64610694964_443659             2  2017-04-20 09:47:04   \n",
       "143459  999985675_64610694964_443659             3  2017-04-20 09:48:45   \n",
       "143460  999985675_64610694964_443659             4  2017-04-20 10:02:48   \n",
       "\n",
       "       Variation        date                 time  hour step_jump  control  \\\n",
       "0        Control  2017-04-14  1900-01-01 16:41:51    16       0-0      0.0   \n",
       "1        Control  2017-04-14  1900-01-01 16:43:16    16       0-0      0.0   \n",
       "2        Control  2017-04-14  1900-01-01 16:43:55    16       0-1      1.0   \n",
       "3        Control  2017-04-14  1900-01-01 16:44:03    16       1-0      1.0   \n",
       "4        Control  2017-04-09  1900-01-01 11:30:10    11       0-0      0.0   \n",
       "...          ...         ...                  ...   ...       ...      ...   \n",
       "143456   Control  2017-04-20  1900-01-01 09:45:18     9       0-0      0.0   \n",
       "143457   Control  2017-04-20  1900-01-01 09:46:26     9       0-1      1.0   \n",
       "143458   Control  2017-04-20  1900-01-01 09:47:04     9       1-2      1.0   \n",
       "143459   Control  2017-04-20  1900-01-01 09:48:45     9       2-3      1.0   \n",
       "143460   Control  2017-04-20  1900-01-01 10:02:48    10       3-4      1.0   \n",
       "\n",
       "         dif_time  dif_hour  dif_min  dif_seg  total_seg keep_contol  \n",
       "0        05:34:02         5       34        2      20042          NO  \n",
       "1        00:01:25         0        1       25         85         YES  \n",
       "2        00:00:39         0        0       39         39         YES  \n",
       "3        00:00:08         0        0        8          8         YES  \n",
       "4       +18:46:07        18       46        7      67567          NO  \n",
       "...           ...       ...      ...      ...        ...         ...  \n",
       "143456  +22:24:17        22       24       17      80657          NO  \n",
       "143457   00:01:08         0        1        8         68         YES  \n",
       "143458   00:00:38         0        0       38         38         YES  \n",
       "143459   00:01:41         0        1       41        101         YES  \n",
       "143460   00:14:03         0       14        3        843         YES  \n",
       "\n",
       "[143461 rows x 19 columns]"
      ]
     },
     "execution_count": 241,
     "metadata": {},
     "output_type": "execute_result"
    }
   ],
   "source": [
    "df_web_control"
   ]
  },
  {
   "cell_type": "code",
   "execution_count": 257,
   "id": "60e0a978-aded-4e23-bf9e-abfb19e726b2",
   "metadata": {},
   "outputs": [
    {
     "data": {
      "image/png": "[encoded data removed]",
      "text/plain": [
       "<Figure size 640x480 with 1 Axes>"
      ]
     },
     "metadata": {},
     "output_type": "display_data"
    }
   ],
   "source": [
    "sns.histplot(df_web_control_dif_time['total_seg'], kde=True, bins=60, color=\"green\")\n",
    "plt.show()"
   ]
  },
  {
   "cell_type": "code",
   "execution_count": 261,
   "id": "bf451ec8-7fe7-46db-a577-d27bf942e942",
   "metadata": {},
   "outputs": [
    {
     "data": {
      "image/png": "[encoded data removed]",
      "text/plain": [
       "<Figure size 1000x500 with 1 Axes>"
      ]
     },
     "metadata": {},
     "output_type": "display_data"
    }
   ],
   "source": [
    "# Applying Square Root transformation to 'total_seg'\n",
    "df_web_control_dif_time['total_seg'] = np.sqrt(df_web_control_dif_time['total_seg'])\n",
    "\n",
    "# Plotting the transformed distribution\n",
    "plt.figure(figsize=(10,5))\n",
    "\n",
    "# Square Root transformed 'total_seg'\n",
    "sns.histplot(df_web_control_dif_time['total_seg'], color=\"lightgreen\", kde=True)\n",
    "plt.title('Square Root Transformed total_seg_web_control')\n",
    "\n",
    "plt.show()"
   ]
  },
  {
   "cell_type": "code",
   "execution_count": 244,
   "id": "7a0b8a07-6859-4f8d-8b3c-078f80e0faf6",
   "metadata": {},
   "outputs": [
    {
     "data": {
      "image/png": "[encoded data removed]",
      "text/plain": [
       "<Figure size 640x480 with 1 Axes>"
      ]
     },
     "metadata": {},
     "output_type": "display_data"
    }
   ],
   "source": [
    "sns.boxplot(df_web_control_dif_time['total_seg'], color=\"lightgreen\")\n",
    "plt.show()"
   ]
  },
  {
   "cell_type": "markdown",
   "id": "feca7f6d-316b-4b23-b8c0-c577cc487723",
   "metadata": {},
   "source": [
    "## **Completion ratio -Test** ##"
   ]
  },
  {
   "cell_type": "code",
   "execution_count": 248,
   "id": "069a43fe-d79e-4435-9a1e-f3aebfc91ef2",
   "metadata": {},
   "outputs": [
    {
     "data": {
      "text/plain": [
       "process_step\n",
       "False    152125\n",
       "True      25721\n",
       "Name: count, dtype: int64"
      ]
     },
     "execution_count": 248,
     "metadata": {},
     "output_type": "execute_result"
    }
   ],
   "source": [
    "#The completion ratio is the number of clients who made it to step 4 out of the total number of visist\n",
    "#Calculate the number of clients who made it to step 4\n",
    "step_4_test=(df_web_test[\"process_step\"]==4).value_counts()\n",
    "step_4_test\n"
   ]
  },
  {
   "cell_type": "code",
   "execution_count": 250,
   "id": "bdd6a958-f909-476f-92ee-3b350a06ddb0",
   "metadata": {},
   "outputs": [
    {
     "name": "stdout",
     "output_type": "stream",
     "text": [
      "The completion ratio is 0.6926163291684618. That means, out of 37136, a total of 69.26163291684618% has made it to the final step\n"
     ]
    }
   ],
   "source": [
    "completion_ratio_test=(step_4_test[True])/(df_web_test.visit_id.nunique())\n",
    "\n",
    "print(f\"The completion ratio is {completion_ratio_test}. That means, out of {df_web_test.visit_id.nunique()}, a total of {completion_ratio_test * 100}% has made it to the final step\")"
   ]
  },
  {
   "cell_type": "markdown",
   "id": "c55fbe28-1e34-4546-b8c3-7305927ad9f9",
   "metadata": {},
   "source": [
    "## **Completion ratio -Control** ##"
   ]
  },
  {
   "cell_type": "code",
   "execution_count": 253,
   "id": "310861ae-3465-48c8-a266-c810475e05a6",
   "metadata": {},
   "outputs": [
    {
     "data": {
      "text/plain": [
       "process_step\n",
       "False    125956\n",
       "True      17505\n",
       "Name: count, dtype: int64"
      ]
     },
     "execution_count": 253,
     "metadata": {},
     "output_type": "execute_result"
    }
   ],
   "source": [
    "#The completion ratio is the number of clients who made it to step 4 out of the total number of visist\n",
    "#Calculate the number of clients who made it to step 4\n",
    "step_4_control=(df_web_control[\"process_step\"]==4).value_counts()\n",
    "step_4_control\n"
   ]
  },
  {
   "cell_type": "code",
   "execution_count": 255,
   "id": "37e65531-97ad-43ae-8d94-cdc0ac8407c3",
   "metadata": {},
   "outputs": [
    {
     "name": "stdout",
     "output_type": "stream",
     "text": [
      "The completion ratio is 0.5438362122530136. That means, out of 32188, a total of 54.38362122530136% has made it to the final step\n"
     ]
    }
   ],
   "source": [
    "completion_ratio_control=(step_4_control[True])/(df_web_control.visit_id.nunique())\n",
    "\n",
    "print(f\"The completion ratio is {completion_ratio_control}. That means, out of {df_web_control.visit_id.nunique()}, a total of {completion_ratio_control * 100}% has made it to the final step\")"
   ]
  },
  {
   "cell_type": "markdown",
   "id": "60afd771-4c06-4798-9c5d-af51748e4bf9",
   "metadata": {},
   "source": [
    "## **Error rates -Test**"
   ]
  },
  {
   "cell_type": "markdown",
   "id": "e2bd23aa-5477-4e32-80c6-09579fa061e8",
   "metadata": {},
   "source": [
    "We consider an error when the client go backwards in the logical step process, that means if the client from process 1 to 0, from 2 to 1 or from 3 to 2. \n",
    "We will caculate first the total amount of these errors and for the rate we will take into account the total number movements. That means, if 1 client made it to step 4 it will count as 4 movemnets: from 0 to 1, from 1 to 2, for 2 to 3 and from 3 to 4."
   ]
  },
  {
   "cell_type": "code",
   "execution_count": null,
   "id": "e2a9baa6-1da6-4e98-b89f-0b561da99a9d",
   "metadata": {},
   "outputs": [],
   "source": [
    "#First we filter the values that we are going to use. Filter: Control=1; Keep=YES.\n",
    "#We only want the errors in the process. \n",
    "condition_control=df_web_test[\"control\"]==1\n",
    "df_error_rate_test=df_web_test[condition_control]\n",
    "condition_keep=df_error_rate_test[\"keep_contol\"]==\"YES\"\n",
    "df_error_rate_test=df_error_rate_test[condition_keep]\n",
    "condition_step=(df_error_rate_test[\"step_jump\"]==\"1-0\") | (df_error_rate_test[\"step_jump\"]==\"2-1\") | (df_error_rate_test[\"step_jump\"]==\"3-2\") | (df_error_rate_test[\"step_jump\"]==\"4-3\")\n",
    "df_error_rate_test=df_error_rate_test[condition_step]\n",
    "df_error_rate_test"
   ]
  },
  {
   "cell_type": "code",
   "execution_count": null,
   "id": "b0f7e2ed-b4eb-4c44-bf0d-0b68484f7d3a",
   "metadata": {},
   "outputs": [],
   "source": [
    "sns.histplot(df_error_rate_test['step_jump'], kde=True, bins=15, color=\"blue\")\n",
    "plt.show()"
   ]
  },
  {
   "cell_type": "code",
   "execution_count": null,
   "id": "8c9a81c0-990c-4dff-b0c7-136626f14498",
   "metadata": {},
   "outputs": [],
   "source": [
    "#We display the number of errors per steps\n",
    "error_counts_test=pd.DataFrame(df_error_rate_test[\"step_jump\"].value_counts())\n",
    "error_counts_test"
   ]
  },
  {
   "cell_type": "code",
   "execution_count": null,
   "id": "2af67685-7d45-46dd-965a-e766c43244fd",
   "metadata": {},
   "outputs": [],
   "source": [
    "sns.histplot(df_error_rate_test.sort_values(\"step_jump\")['step_jump'], kde=True, bins=20, color=\"green\")\n",
    "plt.show()"
   ]
  },
  {
   "cell_type": "code",
   "execution_count": null,
   "id": "1785f3c2-48fa-472b-89ef-687cfe79abb4",
   "metadata": {},
   "outputs": [],
   "source": [
    "sns.boxplot(df_error_rate_test.sort_values(\"step_jump\")['step_jump'], color=\"lightgreen\")\n",
    "plt.show()"
   ]
  },
  {
   "cell_type": "code",
   "execution_count": null,
   "id": "a459a3d7-a3cb-4009-8076-224de91296be",
   "metadata": {},
   "outputs": [],
   "source": [
    "fig, axes = plt.subplots(1, 2, figsize=(12, 5)) \n",
    "sns.histplot(df_web_test['process_step'], kde=True,ax=axes[0], bins=15, color=\"blue\")\n",
    "sns.histplot(df_error_rate_test.sort_values(\"step_jump\")['step_jump'], kde=True,ax=axes[1], bins=20, color=\"green\")\n",
    "plt.tight_layout()\n",
    "plt.show()"
   ]
  },
  {
   "cell_type": "code",
   "execution_count": null,
   "id": "41ed82a9-7fc4-49a7-8196-3c9df0ca8b9a",
   "metadata": {},
   "outputs": [],
   "source": [
    "#Number of error\n",
    "error_counts_test[\"count\"].sum()"
   ]
  },
  {
   "cell_type": "code",
   "execution_count": null,
   "id": "5047fbdd-51a0-438a-810a-794225d97437",
   "metadata": {},
   "outputs": [],
   "source": [
    "#Total number of steps jump\n",
    "(df_web_test[\"visit_id\"].value_counts()).sum()"
   ]
  },
  {
   "cell_type": "code",
   "execution_count": null,
   "id": "15df3779-9005-45f6-adc3-c5f3173036fa",
   "metadata": {},
   "outputs": [],
   "source": [
    "ratio_error_test=((df_error_rate_test[\"step_jump\"].value_counts()).sum())/((df_web_test[\"visit_id\"].value_counts()).sum())\n",
    "\n",
    "print(f\"The ratio erros is {ratio_error_test}, that means that out of the {(df_web_test[\"visit_id\"].value_counts()).sum()} step jumps, {ratio_error *100}% have been error\")"
   ]
  },
  {
   "cell_type": "markdown",
   "id": "ad6cf507-86b8-40e2-b61c-acd3ca6ca723",
   "metadata": {},
   "source": [
    "## **Error rates -Control**"
   ]
  },
  {
   "cell_type": "code",
   "execution_count": null,
   "id": "1b3701f1-9ff9-434c-8a32-909589a16c58",
   "metadata": {},
   "outputs": [],
   "source": [
    "#First we filter the values that we are going to use. Filter: Control=1; Keep=YES.\n",
    "#We only want the errors in the process. \n",
    "condition_control=df_web_control[\"control\"]==1\n",
    "df_error_rate_control=df_web_control[condition_control]\n",
    "condition_keep=df_error_rate_control[\"keep_contol\"]==\"YES\"\n",
    "df_error_rate_control=df_error_rate_control[condition_keep]\n",
    "condition_step=(df_error_rate_control[\"step_jump\"]==\"1-0\") | (df_error_rate_control[\"step_jump\"]==\"2-1\") | (df_error_rate_control[\"step_jump\"]==\"3-2\") | (df_error_rate_control[\"step_jump\"]==\"4-3\")\n",
    "df_error_rate_control=df_error_rate_control[condition_step]\n",
    "df_error_rate_control"
   ]
  },
  {
   "cell_type": "code",
   "execution_count": null,
   "id": "120b90b1-c669-4531-9e7d-b7f45656d949",
   "metadata": {},
   "outputs": [],
   "source": [
    "sns.histplot(df_error_rate_control['step_jump'], kde=True, bins=15, color=\"blue\")\n",
    "plt.show()"
   ]
  },
  {
   "cell_type": "code",
   "execution_count": null,
   "id": "7f6c665b-3ee7-4fe2-8245-89511ef0aa25",
   "metadata": {},
   "outputs": [],
   "source": [
    "#We display the number of errors per steps\n",
    "error_counts_control=pd.DataFrame(df_error_rate_control[\"step_jump\"].value_counts())\n",
    "error_counts_control"
   ]
  },
  {
   "cell_type": "code",
   "execution_count": null,
   "id": "52612431-e566-4e18-b269-b4727659f8b9",
   "metadata": {},
   "outputs": [],
   "source": [
    "sns.histplot(df_error_rate_control.sort_values(\"step_jump\")['step_jump'], kde=True, bins=20, color=\"green\")\n",
    "plt.show()"
   ]
  },
  {
   "cell_type": "code",
   "execution_count": null,
   "id": "2e9b2431-7812-44ad-8830-e1a362b3859c",
   "metadata": {},
   "outputs": [],
   "source": [
    "sns.boxplot(df_error_rate_control.sort_values(\"step_jump\")['step_jump'], color=\"lightgreen\")\n",
    "plt.show()"
   ]
  },
  {
   "cell_type": "markdown",
   "id": "3cc6f430-ffef-4371-b812-271420299e3c",
   "metadata": {},
   "source": [
    "**Analysis**: we can see that there is only 1 outliner, which is going back from step 4, so the clients do understand that the process is finished once they get to number 4. The steps that have more rate of error is from step 1 to 0 and that number decrease as the client continues in the process. That make sense as the number of clients which complete each step also decrease in the same trend. \n",
    "\n",
    "We compare the both histoplot bellow. "
   ]
  },
  {
   "cell_type": "code",
   "execution_count": null,
   "id": "2644ab18-563c-418f-8d29-62ddf6b3b500",
   "metadata": {},
   "outputs": [],
   "source": [
    "fig, axes = plt.subplots(1, 2, figsize=(12, 5)) \n",
    "sns.histplot(df_web_control['process_step'], kde=True,ax=axes[0], bins=15, color=\"blue\")\n",
    "sns.histplot(df_error_rate_control.sort_values(\"step_jump\")['step_jump'], kde=True,ax=axes[1], bins=20, color=\"green\")\n",
    "plt.tight_layout()\n",
    "plt.show()"
   ]
  },
  {
   "cell_type": "code",
   "execution_count": null,
   "id": "519ce0f3-92bc-490a-89a3-7be01f138219",
   "metadata": {},
   "outputs": [],
   "source": [
    "#Number of error\n",
    "error_counts_control[\"count\"].sum()"
   ]
  },
  {
   "cell_type": "code",
   "execution_count": null,
   "id": "01d629b6-7bf0-473e-bc3d-a943c87b8b38",
   "metadata": {},
   "outputs": [],
   "source": [
    "#Total number of steps jump\n",
    "(df_web_control[\"visit_id\"].value_counts()).sum()"
   ]
  },
  {
   "cell_type": "code",
   "execution_count": null,
   "id": "8bd2a845-39d3-428b-b58f-70a1873bd5bd",
   "metadata": {},
   "outputs": [],
   "source": [
    "ratio_error_control=((df_error_rate_control[\"step_jump\"].value_counts()).sum())/((df_web_control[\"visit_id\"].value_counts()).sum())\n",
    "\n",
    "print(f\"The ratio erros is {ratio_error_control}, that means that out of the {(df_web_control[\"visit_id\"].value_counts()).sum()} step jumps, {ratio_error *100}% have been error\")"
   ]
  },
  {
   "cell_type": "markdown",
   "id": "678671de-c068-4a4a-be53-2f6a87232005",
   "metadata": {},
   "source": [
    "## **Hypotesis test** \n",
    "**Completion rate**"
   ]
  },
  {
   "cell_type": "code",
   "execution_count": null,
   "id": "a38fb2ed-2dca-44dc-9084-a4fd24391e8e",
   "metadata": {},
   "outputs": [],
   "source": [
    "# Option 1: Based on total users to reached step 0"
   ]
  },
  {
   "cell_type": "code",
   "execution_count": null,
   "id": "8782f26a-9358-41b9-be5d-050c87d93497",
   "metadata": {},
   "outputs": [],
   "source": [
    "counts_control = df_web_control['process_step'].value_counts()\n",
    "\n",
    "counts_control"
   ]
  },
  {
   "cell_type": "code",
   "execution_count": null,
   "id": "ae288c31-bf5d-443f-b8a0-78940c67186b",
   "metadata": {},
   "outputs": [],
   "source": [
    "#Completion ratio: number of visit in steo 0 / number of visit in step 4\n",
    "\n",
    "from statsmodels.stats.proportion import proportions_ztest\n",
    "\n",
    "x_test = 25721  # Number of completions in test group\n",
    "n_test = 56474 # Total users in test group\n",
    "\n",
    "x_control = 17505  # Number of completions in control group\n",
    "n_control = 47607 # Total users in control group\n",
    "\n",
    "completion_rate_test = x_test/n_test\n",
    "completion_rate_control = x_control/n_control\n",
    "completion_rate_test, completion_rate_control"
   ]
  },
  {
   "cell_type": "code",
   "execution_count": null,
   "id": "e90f4e82-d922-4e8c-b982-cfbaa695238f",
   "metadata": {},
   "outputs": [],
   "source": [
    "# Define alternative hypothesis (\"larger\" means one-tailed test)\n",
    "count = np.array([x_test, x_control])  # Number of successes\n",
    "nobs = np.array([n_test, n_control])  # Number of trials\n",
    "z_stat, p_value = proportions_ztest(count, nobs, alternative=\"larger\")\n",
    "\n",
    "print(f\"Z-statistic: {z_stat:.4f}\")\n",
    "print(f\"P-value: {p_value:.4f}\")\n",
    "\n",
    "if p_value < 0.05:\n",
    "    print(\"Reject the null hypothesis: The test group has a higher completion rate.\")\n",
    "else:\n",
    "    print(\"Fail to reject the null hypothesis: No significant difference in completion rates.\")"
   ]
  },
  {
   "cell_type": "code",
   "execution_count": null,
   "id": "ee20cd7a-f557-404c-b2b9-70cc515f4ef9",
   "metadata": {},
   "outputs": [],
   "source": [
    "# Option 2: Based on unique visitors (visit_id)"
   ]
  },
  {
   "cell_type": "code",
   "execution_count": null,
   "id": "00401406-7f68-4065-a8fe-d1df014a4256",
   "metadata": {},
   "outputs": [],
   "source": [
    "df_web_control.visit_id.nunique()"
   ]
  },
  {
   "cell_type": "code",
   "execution_count": null,
   "id": "1ad2e14e-87f7-4e4a-9c7e-6b83cb2c52ae",
   "metadata": {},
   "outputs": [],
   "source": [
    "#Completion ratio: number of visit in steo 0 / number of visit in step 4\n",
    "\n",
    "from statsmodels.stats.proportion import proportions_ztest\n",
    "\n",
    "x_test = 25721  # Number of completions in test group\n",
    "n_test = 37136 # Total users in test group\n",
    "\n",
    "x_control = 17505  # Number of completions in control group\n",
    "n_control = 32188 # Total users in control group\n",
    "\n",
    "completion_rate_test = x_test/n_test\n",
    "completion_rate_control = x_control/n_control\n",
    "completion_rate_test, completion_rate_control"
   ]
  },
  {
   "cell_type": "code",
   "execution_count": null,
   "id": "d7394644-216b-442b-be28-38482a5c3909",
   "metadata": {},
   "outputs": [],
   "source": [
    "# Define alternative hypothesis (\"larger\" means one-tailed test)\n",
    "count = np.array([x_test, x_control])  # Number of successes\n",
    "nobs = np.array([n_test, n_control])  # Number of trials\n",
    "z_stat, p_value = proportions_ztest(count, nobs, alternative=\"larger\")\n",
    "\n",
    "print(f\"Z-statistic: {z_stat:.4f}\")\n",
    "print(f\"P-value: {p_value:.4f}\")\n",
    "\n",
    "if p_value < 0.05:\n",
    "    print(\"Reject the null hypothesis: The test group has a higher completion rate.\")\n",
    "else:\n",
    "    print(\"Fail to reject the null hypothesis: No significant difference in completion rates.\")"
   ]
  },
  {
   "cell_type": "markdown",
   "id": "78d59f53-9a7b-4a89-93b7-d4305d054500",
   "metadata": {},
   "source": [
    "**Error rate**"
   ]
  },
  {
   "cell_type": "code",
   "execution_count": null,
   "id": "d81a1862-d281-424f-9b4d-a897299c0a7a",
   "metadata": {},
   "outputs": [],
   "source": [
    "from statsmodels.stats.proportion import proportions_ztest\n",
    "\n",
    "x_test = 11738  # Number of errors in test group df_error_rate.count()\n",
    "n_test = 177846 # Total number of step jumps in test group based on df_web_test.count()\n",
    "\n",
    "x_control = 6239  # Number of errors in control group df_error_rate.count()\n",
    "n_control = 143461 # Total number of step jumps in control group based on df_web_control.count()\n",
    "\n",
    "error_rate_test = x_test/n_test\n",
    "error_rate_control = x_control/n_control\n",
    "error_rate_test, error_rate_control"
   ]
  },
  {
   "cell_type": "code",
   "execution_count": null,
   "id": "94de0d4e-e883-44b1-87eb-ec790e31be90",
   "metadata": {},
   "outputs": [],
   "source": [
    "# Define alternative hypothesis (\"smaller\" means one-tailed test)\n",
    "count = np.array([x_test, x_control])  # Number of errors\n",
    "nobs = np.array([n_test, n_control])  # Number of step jumps\n",
    "z_stat, p_value = proportions_ztest(count, nobs, alternative=\"smaller\")\n",
    "\n",
    "print(f\"Z-statistic: {z_stat:.4f}\")\n",
    "print(f\"P-value: {p_value:.4f}\")\n",
    "\n",
    "if p_value < 0.05:\n",
    "    print(\"Reject the null hypothesis: The test group has a lower error rate.\")\n",
    "else:\n",
    "    print(\"Fail to reject the null hypothesis: No significant difference in error rates.\")"
   ]
  }
 ],
 "metadata": {
  "kernelspec": {
   "display_name": "Python [conda env:base] *",
   "language": "python",
   "name": "conda-base-py"
  },
  "language_info": {
   "codemirror_mode": {
    "name": "ipython",
    "version": 3
   },
   "file_extension": ".py",
   "mimetype": "text/x-python",
   "name": "python",
   "nbconvert_exporter": "python",
   "pygments_lexer": "ipython3",
   "version": "3.12.7"
  }
 },
 "nbformat": 4,
 "nbformat_minor": 5
}
