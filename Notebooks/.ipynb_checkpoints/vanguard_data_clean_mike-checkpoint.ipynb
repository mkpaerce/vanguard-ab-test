{
 "cells": [
  {
   "cell_type": "code",
   "execution_count": null,
   "id": "b5bfbaf4-5e7f-4242-8752-8c142c1260e0",
   "metadata": {},
   "outputs": [],
   "source": [
    "import pandas as pd\n",
    "import matplotlib.pyplot as plt\n",
    "import seaborn as sns\n",
    "import numpy as np\n",
    "\n",
    "%matplotlib inline"
   ]
  },
  {
   "cell_type": "code",
   "execution_count": null,
   "id": "2383d4ad-be01-4056-a3e0-4062e7e7f8b7",
   "metadata": {},
   "outputs": [],
   "source": [
    "df_clients = pd.read_csv(\"../Data/Raw/df_final_experiment_clients.txt\")\n",
    "df_demo = pd.read_csv(\"../Data/Raw/df_final_demo.txt\")\n",
    "df_web1 = pd.read_csv(\"../Data/Raw/df_final_web_data_pt_1.txt\")\n",
    "df_web2 = pd.read_csv(\"../Data/Raw/df_final_web_data_pt_2.txt\")\n",
    "\n",
    "df_demo_control = pd.read_csv(\"../Data/Clean/demo_control.csv\")"
   ]
  },
  {
   "cell_type": "markdown",
   "id": "1d53ad48-0dd3-4690-a7bc-068f6bb4cd42",
   "metadata": {},
   "source": [
    "## **Data Clean - Demo Control** ##"
   ]
  },
  {
   "cell_type": "code",
   "execution_count": null,
   "id": "54ec155e-3c88-4f78-89de-549f67d9aa0b",
   "metadata": {},
   "outputs": [],
   "source": [
    "df_demo_control.nunique().sort_values(ascending=False)"
   ]
  },
  {
   "cell_type": "markdown",
   "id": "861deb13-8c0c-4777-bf61-c6371c4b4a88",
   "metadata": {},
   "source": [
    "- Numerical: Maybe 'balance' - but this could also be categorical\n",
    "- Categorical: almost all of the columns should be categorical, which makes sense because it's demographic data"
   ]
  },
  {
   "cell_type": "code",
   "execution_count": null,
   "id": "540ee982-a9a6-4e2b-a47c-9e4adc1ff9f5",
   "metadata": {},
   "outputs": [],
   "source": [
    "#check for missing values\n",
    "df_demo_control.isnull().sum().sort_values(ascending=False)"
   ]
  },
  {
   "cell_type": "code",
   "execution_count": null,
   "id": "25cf1e38-e6e1-4e72-bb4a-b1be8a6c40f6",
   "metadata": {},
   "outputs": [],
   "source": [
    "#see rows with missing values\n",
    "df_demo_control[df_demo_control.isnull().any(axis=1)]"
   ]
  },
  {
   "cell_type": "code",
   "execution_count": null,
   "id": "356dcc67-35a6-43eb-aa55-2678969c8d2a",
   "metadata": {},
   "outputs": [],
   "source": [
    "#drop rows missing values\n",
    "df_cleaned = df_demo_control.dropna()"
   ]
  },
  {
   "cell_type": "markdown",
   "id": "2a40704d-f95d-4d9b-b0e0-dedc3180558f",
   "metadata": {},
   "source": [
    "## **Demographic Data - Client Tenure** ##"
   ]
  },
  {
   "cell_type": "code",
   "execution_count": null,
   "id": "460b9469-af47-4480-894c-d3185623c081",
   "metadata": {},
   "outputs": [],
   "source": [
    "#How long have the control clients had accounts?\n",
    "\n",
    "disp_tenure_months = df_cleaned['clnt_tenure_mnth'].describe()\n",
    "disp_tenure_years = df_cleaned['clnt_tenure_yr'].describe()\n",
    "mode_tenure_years = df_cleaned['clnt_tenure_yr'].mode()[0]\n",
    "mode_tenure_months = df_cleaned['clnt_tenure_mnth'].mode()[0]\n",
    "\n",
    "disp_tenure_months, disp_tenure_years, mode_tenure_years, mode_tenure_months"
   ]
  },
  {
   "cell_type": "code",
   "execution_count": null,
   "id": "966a9222-68b2-4488-8914-b4bf71ac7f08",
   "metadata": {},
   "outputs": [],
   "source": [
    "#Checking for invalid tenure\n",
    "\n",
    "df_invalid_tenure = df_cleaned[df_cleaned[\"clnt_tenure_yr\"] > df_cleaned[\"clnt_age\"]]\n",
    "\n",
    "df_invalid_tenure"
   ]
  },
  {
   "cell_type": "markdown",
   "id": "b55c3e9e-61ea-4e20-9cbb-49e9b6ec9e69",
   "metadata": {},
   "source": [
    "**Analysis**: There are 145 cases where the client's tenure is longer than their age - potentially a source of error unless they inherited the account from a family member or spouse?"
   ]
  },
  {
   "cell_type": "code",
   "execution_count": null,
   "id": "2481d1d6-92fb-41a5-8c53-aad685ddd4c7",
   "metadata": {},
   "outputs": [],
   "source": [
    "fig, axes = plt.subplots(2,1, dpi = 100)\n",
    "sns.histplot(df_cleaned['clnt_tenure_mnth'], kde=True, bins=30, color=\"green\", ax=axes[0])\n",
    "axes[0].set_title(\"Histogram for Tenure Months, Control\")\n",
    "sns.histplot(df_cleaned['clnt_tenure_yr'], kde=True, bins=30, color=\"blue\", ax=axes[1])\n",
    "axes[1].set_title(\"Histogram for Tenure Years, Control\")\n",
    "plt.tight_layout()\n",
    "plt.show()"
   ]
  },
  {
   "cell_type": "markdown",
   "id": "5ce9f982-ebe2-413f-9bc1-e672fd1fde59",
   "metadata": {},
   "source": [
    "**Analysis:** 75% of Vanguard's account holders in this control group are long-term (6+ years), with 25% of clients holding accounts for 16+ years. There are few new clients included in this dataset, unclear if that was intentional for the control group?\n",
    "\n",
    "The distribution is multimodal, suggesting that the control group might have been selected based on diff groups of customers, e.g. New customers with tenure 5–10 years. Mid-tenured customers 15–20 years. Long-term customers 25+ years."
   ]
  },
  {
   "cell_type": "code",
   "execution_count": null,
   "id": "4c59d695-98a3-44d7-9ace-e9d093afa3f1",
   "metadata": {},
   "outputs": [],
   "source": []
  },
  {
   "cell_type": "code",
   "execution_count": null,
   "id": "76e11280-b492-4762-997c-31bebdb9403a",
   "metadata": {},
   "outputs": [],
   "source": []
  }
 ],
 "metadata": {
  "kernelspec": {
   "display_name": "Python [conda env:base] *",
   "language": "python",
   "name": "conda-base-py"
  },
  "language_info": {
   "codemirror_mode": {
    "name": "ipython",
    "version": 3
   },
   "file_extension": ".py",
   "mimetype": "text/x-python",
   "name": "python",
   "nbconvert_exporter": "python",
   "pygments_lexer": "ipython3",
   "version": "3.12.7"
  }
 },
 "nbformat": 4,
 "nbformat_minor": 5
}
