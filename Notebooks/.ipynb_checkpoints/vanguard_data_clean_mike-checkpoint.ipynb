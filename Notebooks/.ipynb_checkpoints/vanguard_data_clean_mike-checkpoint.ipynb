{
 "cells": [
  {
   "cell_type": "code",
   "execution_count": null,
   "id": "b5bfbaf4-5e7f-4242-8752-8c142c1260e0",
   "metadata": {},
   "outputs": [],
   "source": [
    "import pandas as pd\n",
    "import matplotlib.pyplot as plt\n",
    "import seaborn as sns\n",
    "import numpy as np\n",
    "\n",
    "%matplotlib inline"
   ]
  },
  {
   "cell_type": "code",
   "execution_count": null,
   "id": "2383d4ad-be01-4056-a3e0-4062e7e7f8b7",
   "metadata": {},
   "outputs": [],
   "source": [
    "df_clients = pd.read_csv(\"../Data/Raw/df_final_experiment_clients.txt\")\n",
    "df_demo = pd.read_csv(\"../Data/Raw/df_final_demo.txt\")\n",
    "df_web1 = pd.read_csv(\"../Data/Raw/df_final_web_data_pt_1.txt\")\n",
    "df_web2 = pd.read_csv(\"../Data/Raw/df_final_web_data_pt_2.txt\")"
   ]
  },
  {
   "cell_type": "code",
   "execution_count": null,
   "id": "54ec155e-3c88-4f78-89de-549f67d9aa0b",
   "metadata": {},
   "outputs": [],
   "source": []
  },
  {
   "cell_type": "code",
   "execution_count": null,
   "id": "540ee982-a9a6-4e2b-a47c-9e4adc1ff9f5",
   "metadata": {},
   "outputs": [],
   "source": []
  }
 ],
 "metadata": {
  "kernelspec": {
   "display_name": "Python [conda env:base] *",
   "language": "python",
   "name": "conda-base-py"
  },
  "language_info": {
   "codemirror_mode": {
    "name": "ipython",
    "version": 3
   },
   "file_extension": ".py",
   "mimetype": "text/x-python",
   "name": "python",
   "nbconvert_exporter": "python",
   "pygments_lexer": "ipython3",
   "version": "3.12.7"
  }
 },
 "nbformat": 4,
 "nbformat_minor": 5
}
