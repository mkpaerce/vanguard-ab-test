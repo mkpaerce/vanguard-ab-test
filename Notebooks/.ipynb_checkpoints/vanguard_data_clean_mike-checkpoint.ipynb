{
 "cells": [
  {
   "cell_type": "code",
   "execution_count": 15,
   "id": "b5bfbaf4-5e7f-4242-8752-8c142c1260e0",
   "metadata": {},
   "outputs": [],
   "source": [
    "import pandas as pd\n",
    "import matplotlib.pyplot as plt\n",
    "import seaborn as sns\n",
    "import numpy as np\n",
    "\n",
    "%matplotlib inline"
   ]
  },
  {
   "cell_type": "code",
   "execution_count": 17,
   "id": "2383d4ad-be01-4056-a3e0-4062e7e7f8b7",
   "metadata": {},
   "outputs": [],
   "source": [
    "df_clients = pd.read_csv(\"../Data/Raw/df_final_experiment_clients.txt\")\n",
    "df_demo = pd.read_csv(\"../Data/Raw/df_final_demo.txt\")\n",
    "df_web1 = pd.read_csv(\"../Data/Raw/df_final_web_data_pt_1.txt\")\n",
    "df_web2 = pd.read_csv(\"../Data/Raw/df_final_web_data_pt_2.txt\")\n",
    "\n",
    "df_demo_control = pd.read_csv(\"../Data/Clean/demo_control.csv\")"
   ]
  },
  {
   "cell_type": "code",
   "execution_count": 19,
   "id": "54ec155e-3c88-4f78-89de-549f67d9aa0b",
   "metadata": {},
   "outputs": [
    {
     "data": {
      "text/plain": [
       "Unnamed: 0          23532\n",
       "client_id           23532\n",
       "bal                 23489\n",
       "clnt_tenure_mnth      443\n",
       "clnt_age              155\n",
       "clnt_tenure_yr         52\n",
       "calls_6_mnth            7\n",
       "logons_6_mnth           7\n",
       "num_accts               6\n",
       "gendr                   3\n",
       "Variation               1\n",
       "dtype: int64"
      ]
     },
     "execution_count": 19,
     "metadata": {},
     "output_type": "execute_result"
    }
   ],
   "source": [
    "df_demo_control.nunique().sort_values(ascending=False)"
   ]
  },
  {
   "cell_type": "code",
   "execution_count": 21,
   "id": "540ee982-a9a6-4e2b-a47c-9e4adc1ff9f5",
   "metadata": {},
   "outputs": [
    {
     "data": {
      "text/plain": [
       "clnt_age            6\n",
       "clnt_tenure_yr      5\n",
       "clnt_tenure_mnth    5\n",
       "gendr               5\n",
       "num_accts           5\n",
       "bal                 5\n",
       "calls_6_mnth        5\n",
       "logons_6_mnth       5\n",
       "Unnamed: 0          0\n",
       "client_id           0\n",
       "Variation           0\n",
       "dtype: int64"
      ]
     },
     "execution_count": 21,
     "metadata": {},
     "output_type": "execute_result"
    }
   ],
   "source": [
    "#check for missing values\n",
    "df_demo_control.isnull().sum().sort_values(ascending=False)"
   ]
  },
  {
   "cell_type": "code",
   "execution_count": 23,
   "id": "25cf1e38-e6e1-4e72-bb4a-b1be8a6c40f6",
   "metadata": {},
   "outputs": [
    {
     "data": {
      "text/html": [
       "<div>\n",
       "<style scoped>\n",
       "    .dataframe tbody tr th:only-of-type {\n",
       "        vertical-align: middle;\n",
       "    }\n",
       "\n",
       "    .dataframe tbody tr th {\n",
       "        vertical-align: top;\n",
       "    }\n",
       "\n",
       "    .dataframe thead th {\n",
       "        text-align: right;\n",
       "    }\n",
       "</style>\n",
       "<table border=\"1\" class=\"dataframe\">\n",
       "  <thead>\n",
       "    <tr style=\"text-align: right;\">\n",
       "      <th></th>\n",
       "      <th>Unnamed: 0</th>\n",
       "      <th>client_id</th>\n",
       "      <th>clnt_tenure_yr</th>\n",
       "      <th>clnt_tenure_mnth</th>\n",
       "      <th>clnt_age</th>\n",
       "      <th>gendr</th>\n",
       "      <th>num_accts</th>\n",
       "      <th>bal</th>\n",
       "      <th>calls_6_mnth</th>\n",
       "      <th>logons_6_mnth</th>\n",
       "      <th>Variation</th>\n",
       "    </tr>\n",
       "  </thead>\n",
       "  <tbody>\n",
       "    <tr>\n",
       "      <th>1937</th>\n",
       "      <td>4164</td>\n",
       "      <td>7402828</td>\n",
       "      <td>NaN</td>\n",
       "      <td>NaN</td>\n",
       "      <td>NaN</td>\n",
       "      <td>NaN</td>\n",
       "      <td>NaN</td>\n",
       "      <td>NaN</td>\n",
       "      <td>NaN</td>\n",
       "      <td>NaN</td>\n",
       "      <td>Control</td>\n",
       "    </tr>\n",
       "    <tr>\n",
       "      <th>3802</th>\n",
       "      <td>8316</td>\n",
       "      <td>355337</td>\n",
       "      <td>NaN</td>\n",
       "      <td>NaN</td>\n",
       "      <td>NaN</td>\n",
       "      <td>NaN</td>\n",
       "      <td>NaN</td>\n",
       "      <td>NaN</td>\n",
       "      <td>NaN</td>\n",
       "      <td>NaN</td>\n",
       "      <td>Control</td>\n",
       "    </tr>\n",
       "    <tr>\n",
       "      <th>4383</th>\n",
       "      <td>9583</td>\n",
       "      <td>4666211</td>\n",
       "      <td>8.0</td>\n",
       "      <td>106.0</td>\n",
       "      <td>NaN</td>\n",
       "      <td>F</td>\n",
       "      <td>2.0</td>\n",
       "      <td>42550.55</td>\n",
       "      <td>4.0</td>\n",
       "      <td>7.0</td>\n",
       "      <td>Control</td>\n",
       "    </tr>\n",
       "    <tr>\n",
       "      <th>13188</th>\n",
       "      <td>28432</td>\n",
       "      <td>7616759</td>\n",
       "      <td>NaN</td>\n",
       "      <td>NaN</td>\n",
       "      <td>NaN</td>\n",
       "      <td>NaN</td>\n",
       "      <td>NaN</td>\n",
       "      <td>NaN</td>\n",
       "      <td>NaN</td>\n",
       "      <td>NaN</td>\n",
       "      <td>Control</td>\n",
       "    </tr>\n",
       "    <tr>\n",
       "      <th>16444</th>\n",
       "      <td>35323</td>\n",
       "      <td>8191345</td>\n",
       "      <td>NaN</td>\n",
       "      <td>NaN</td>\n",
       "      <td>NaN</td>\n",
       "      <td>NaN</td>\n",
       "      <td>NaN</td>\n",
       "      <td>NaN</td>\n",
       "      <td>NaN</td>\n",
       "      <td>NaN</td>\n",
       "      <td>Control</td>\n",
       "    </tr>\n",
       "    <tr>\n",
       "      <th>21525</th>\n",
       "      <td>46076</td>\n",
       "      <td>8611797</td>\n",
       "      <td>NaN</td>\n",
       "      <td>NaN</td>\n",
       "      <td>NaN</td>\n",
       "      <td>NaN</td>\n",
       "      <td>NaN</td>\n",
       "      <td>NaN</td>\n",
       "      <td>NaN</td>\n",
       "      <td>NaN</td>\n",
       "      <td>Control</td>\n",
       "    </tr>\n",
       "  </tbody>\n",
       "</table>\n",
       "</div>"
      ],
      "text/plain": [
       "       Unnamed: 0  client_id  clnt_tenure_yr  clnt_tenure_mnth  clnt_age  \\\n",
       "1937         4164    7402828             NaN               NaN       NaN   \n",
       "3802         8316     355337             NaN               NaN       NaN   \n",
       "4383         9583    4666211             8.0             106.0       NaN   \n",
       "13188       28432    7616759             NaN               NaN       NaN   \n",
       "16444       35323    8191345             NaN               NaN       NaN   \n",
       "21525       46076    8611797             NaN               NaN       NaN   \n",
       "\n",
       "      gendr  num_accts       bal  calls_6_mnth  logons_6_mnth Variation  \n",
       "1937    NaN        NaN       NaN           NaN            NaN   Control  \n",
       "3802    NaN        NaN       NaN           NaN            NaN   Control  \n",
       "4383      F        2.0  42550.55           4.0            7.0   Control  \n",
       "13188   NaN        NaN       NaN           NaN            NaN   Control  \n",
       "16444   NaN        NaN       NaN           NaN            NaN   Control  \n",
       "21525   NaN        NaN       NaN           NaN            NaN   Control  "
      ]
     },
     "execution_count": 23,
     "metadata": {},
     "output_type": "execute_result"
    }
   ],
   "source": [
    "#see rows with missing values\n",
    "df_demo_control[df_demo_control.isnull().any(axis=1)]"
   ]
  },
  {
   "cell_type": "code",
   "execution_count": 28,
   "id": "356dcc67-35a6-43eb-aa55-2678969c8d2a",
   "metadata": {},
   "outputs": [],
   "source": [
    "#drop rows missing values\n",
    "df_cleaned = df_demo_control.dropna()"
   ]
  },
  {
   "cell_type": "markdown",
   "id": "2a40704d-f95d-4d9b-b0e0-dedc3180558f",
   "metadata": {},
   "source": [
    "## Client Tenure ##"
   ]
  },
  {
   "cell_type": "code",
   "execution_count": 53,
   "id": "460b9469-af47-4480-894c-d3185623c081",
   "metadata": {},
   "outputs": [
    {
     "data": {
      "text/plain": [
       "(count    23526.000000\n",
       " mean       151.062102\n",
       " std         82.127663\n",
       " min         33.000000\n",
       " 25%         82.000000\n",
       " 50%        137.000000\n",
       " 75%        192.000000\n",
       " max        669.000000\n",
       " Name: clnt_tenure_mnth, dtype: float64,\n",
       " count    23526.000000\n",
       " mean        12.087860\n",
       " std          6.877626\n",
       " min          2.000000\n",
       " 25%          6.000000\n",
       " 50%         11.000000\n",
       " 75%         16.000000\n",
       " max         55.000000\n",
       " Name: clnt_tenure_yr, dtype: float64,\n",
       " 6.0,\n",
       " 58.0)"
      ]
     },
     "execution_count": 53,
     "metadata": {},
     "output_type": "execute_result"
    }
   ],
   "source": [
    "disp_tenure_months = df_cleaned['clnt_tenure_mnth'].describe()\n",
    "disp_tenure_years = df_cleaned['clnt_tenure_yr'].describe()\n",
    "mode_tenure_years = df_cleaned['clnt_tenure_yr'].mode()[0]\n",
    "mode_tenure_months = df_cleaned['clnt_tenure_mnth'].mode()[0]\n",
    "\n",
    "disp_tenure_months, disp_tenure_years, mode_tenure_years, mode_tenure_months"
   ]
  },
  {
   "cell_type": "code",
   "execution_count": 57,
   "id": "2481d1d6-92fb-41a5-8c53-aad685ddd4c7",
   "metadata": {},
   "outputs": [
    {
     "data": {
      "image/png": "[encoded data removed]",
      "text/plain": [
       "<Figure size 640x480 with 2 Axes>"
      ]
     },
     "metadata": {},
     "output_type": "display_data"
    }
   ],
   "source": [
    "fig, axes = plt.subplots(2,1, dpi = 100)\n",
    "sns.histplot(df_cleaned['clnt_tenure_mnth'], kde=True, bins=30, color=\"green\", ax=axes[0])\n",
    "axes[0].set_title(\"Histogram for Tenure Months\")\n",
    "sns.histplot(df_cleaned['clnt_tenure_yr'], kde=True, bins=30, color=\"blue\", ax=axes[1])\n",
    "axes[1].set_title(\"Histogram for Tenure Years\")\n",
    "plt.tight_layout()\n",
    "plt.show()"
   ]
  },
  {
   "cell_type": "markdown",
   "id": "5ce9f982-ebe2-413f-9bc1-e672fd1fde59",
   "metadata": {},
   "source": [
    "**Analysis:** 75% of Vanguard's account holders are long-term (6+ years), with 25% of clients holding accounts for 16+ years.\n",
    "There are few new clients included in this dataset, unclear if that was intentional for the control group?"
   ]
  },
  {
   "cell_type": "code",
   "execution_count": null,
   "id": "966a9222-68b2-4488-8914-b4bf71ac7f08",
   "metadata": {},
   "outputs": [],
   "source": []
  }
 ],
 "metadata": {
  "kernelspec": {
   "display_name": "Python [conda env:base] *",
   "language": "python",
   "name": "conda-base-py"
  },
  "language_info": {
   "codemirror_mode": {
    "name": "ipython",
    "version": 3
   },
   "file_extension": ".py",
   "mimetype": "text/x-python",
   "name": "python",
   "nbconvert_exporter": "python",
   "pygments_lexer": "ipython3",
   "version": "3.12.7"
  }
 },
 "nbformat": 4,
 "nbformat_minor": 5
}
