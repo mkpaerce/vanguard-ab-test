{
 "cells": [
  {
   "cell_type": "code",
   "execution_count": null,
   "id": "b5bfbaf4-5e7f-4242-8752-8c142c1260e0",
   "metadata": {},
   "outputs": [],
   "source": [
    "import pandas as pd\n",
    "import matplotlib.pyplot as plt\n",
    "import seaborn as sns\n",
    "import numpy as np\n",
    "\n",
    "%matplotlib inline"
   ]
  },
  {
   "cell_type": "code",
   "execution_count": null,
   "id": "2383d4ad-be01-4056-a3e0-4062e7e7f8b7",
   "metadata": {},
   "outputs": [],
   "source": [
    "#Create the dataframes\n",
    "df_clients = pd.read_csv(\"../Data/Raw/df_final_experiment_clients.txt\")\n",
    "df_demo = pd.read_csv(\"../Data/Raw/df_final_demo.txt\")\n",
    "df_web1 = pd.read_csv(\"../Data/Raw/df_final_web_data_pt_1.txt\")\n",
    "df_web2 = pd.read_csv(\"../Data/Raw/df_final_web_data_pt_2.txt\")\n",
    "df_clients.head()"
   ]
  },
  {
   "cell_type": "code",
   "execution_count": null,
   "id": "54ec155e-3c88-4f78-89de-549f67d9aa0b",
   "metadata": {},
   "outputs": [],
   "source": [
    "#Concat data_web\n",
    "df_web=pd.concat([df_web1,df_web2], axis=0)\n",
    "df_web=df_web.reset_index(drop=True)\n",
    "df_web"
   ]
  },
  {
   "cell_type": "code",
   "execution_count": null,
   "id": "a5814833-06d8-48b5-ae57-cce769c4a4e2",
   "metadata": {},
   "outputs": [],
   "source": [
    "#Merge demo with clients\n",
    "df_demo=pd.merge(df_demo,df_clients, on=\"client_id\", how=\"left\")\n",
    "\n"
   ]
  },
  {
   "cell_type": "code",
   "execution_count": null,
   "id": "9a388f09-a083-4b68-92ab-e58bddca9d0c",
   "metadata": {},
   "outputs": [],
   "source": [
    "#I create demo_control\n",
    "conditioncontrol=df_demo[\"Variation\"]==\"Control\"\n",
    "df_demo_control=df_demo[conditioncontrol]\n",
    "df_demo_control"
   ]
  },
  {
   "cell_type": "code",
   "execution_count": null,
   "id": "74ba9d74-c0ba-47da-b2c1-21c331dbf762",
   "metadata": {},
   "outputs": [],
   "source": [
    "#I create demo_test\n",
    "conditiontest=df_demo[\"Variation\"]==\"Test\"\n",
    "df_demo_test=df_demo[conditiontest]\n",
    "df_demo_test"
   ]
  },
  {
   "cell_type": "code",
   "execution_count": null,
   "id": "540ee982-a9a6-4e2b-a47c-9e4adc1ff9f5",
   "metadata": {},
   "outputs": [],
   "source": [
    "#I add information about the clientes to data_web\n",
    "df_web=pd.merge(df_web,df_clients, on=\"client_id\", how=\"left\")\n",
    "df_web"
   ]
  },
  {
   "cell_type": "code",
   "execution_count": null,
   "id": "1ae82562-ae48-48d1-b420-e2df90935609",
   "metadata": {},
   "outputs": [],
   "source": [
    "#Create web_test\n",
    "conditiontest=df_web[\"Variation\"]==\"Test\"\n",
    "df_web_test=df_web[conditiontest]\n",
    "df_web_test"
   ]
  },
  {
   "cell_type": "code",
   "execution_count": null,
   "id": "9944e6e6-785c-4a39-bdaa-6067a841ac8c",
   "metadata": {},
   "outputs": [],
   "source": [
    "#Create web_control\n",
    "conditioncontrol=df_web[\"Variation\"]==\"Control\"\n",
    "df_web_control=df_web[conditioncontrol]\n",
    "df_web_control"
   ]
  },
  {
   "cell_type": "code",
   "execution_count": null,
   "id": "ecd062b6",
   "metadata": {},
   "outputs": [],
   "source": [
    "#FINAL RESULT 4 FILES:\n",
    "#df_web_control\n",
    "#df_web_test\n",
    "#df_demo_control\n",
    "#df_demo_test\n"
   ]
  },
  {
   "cell_type": "code",
   "execution_count": null,
   "id": "ff943096-197f-4bf2-b222-f2328b72b38d",
   "metadata": {},
   "outputs": [],
   "source": [
    "#Clean web_data_test 1148 duplicated values\n",
    "df_web_test=df_web_test.reset_index(drop=True)\n",
    "df_web_test.duplicated().sum()\n",
    "df_web_test.drop_duplicates(inplace=True)\n",
    "df_web_test.duplicated().sum()"
   ]
  },
  {
   "cell_type": "code",
   "execution_count": null,
   "id": "014b904a-6c6a-4bce-b9f6-33d881be68d4",
   "metadata": {},
   "outputs": [],
   "source": [
    "#Clean missing values. No missing values\n",
    "df_web_test.info()"
   ]
  },
  {
   "cell_type": "code",
   "execution_count": null,
   "id": "98428a5c-2edd-4615-8723-046b8d570b60",
   "metadata": {},
   "outputs": [],
   "source": [
    "#Split date and time\n",
    "df_web_test[\"date\"]=df_web_test[\"date_time\"].str.split(\" \", expand=True)[0]\n",
    "df_web_test[\"time\"]=df_web_test[\"date_time\"].str.split(\" \", expand=True)[1]\n",
    "df_web_test[\"hour\"]=df_web_test[\"time\"].str.split(\":\",expand=True)[0]\n",
    "df_web_test[\"hour\"]=df_web_test[\"hour\"].astype(int)\n",
    "df_web_test.head()"
   ]
  },
  {
   "cell_type": "code",
   "execution_count": null,
   "id": "de5302d2-d8ee-45f4-9461-497dc6ce0f21",
   "metadata": {},
   "outputs": [],
   "source": [
    "df_web_test[\"process_step\"].unique()"
   ]
  },
  {
   "cell_type": "code",
   "execution_count": null,
   "id": "20274081-57ec-4a3d-85e8-6d94b3557e99",
   "metadata": {},
   "outputs": [],
   "source": [
    "#Change the calues of process_step\n",
    "df_web_test[\"process_step\"]=df_web_test[\"process_step\"].map({\"start\":0,\"step_1\":1,\"step_2\":2,\"step_3\":3,\"confirm\":4})\n",
    "df_web_test[\"process_step\"].unique()"
   ]
  },
  {
   "cell_type": "markdown",
   "id": "d8bf8ad8-3919-4245-a0bb-d10e4c0c72a9",
   "metadata": {},
   "source": [
    "Analysis"
   ]
  },
  {
   "cell_type": "markdown",
   "id": "1bf9c5d6-829f-43ef-84c9-408927d5ec03",
   "metadata": {},
   "source": [
    "Device"
   ]
  },
  {
   "cell_type": "code",
   "execution_count": null,
   "id": "3ac3cf63-cec7-4350-96a7-20e4542c19f1",
   "metadata": {},
   "outputs": [],
   "source": [
    "#Create a new date_frame to see the use of device\n",
    "df_web_test_device=df_web_test[[\"client_id\",\"visitor_id\"]]\n",
    "df_web_test_device=df_web_test_device.drop_duplicates()\n",
    "df_web_test_device=pd.DataFrame(df_web_test_device.groupby(\"client_id\")[\"visitor_id\"].count())\n",
    "df_web_test_device=df_web_test_device.rename(columns={\"visitor_id\":\"num_devices\"})\n",
    "df_web_test_device=df_web_test_device.reset_index()\n",
    "df_web_test_device"
   ]
  },
  {
   "cell_type": "code",
   "execution_count": null,
   "id": "8b79ae63-49aa-4668-81bf-3eaf258e6800",
   "metadata": {},
   "outputs": [],
   "source": [
    "device_stat=df_web_test_device[\"num_devices\"].describe()\n",
    "device_mode=df_web_test_device[\"num_devices\"].mode()[0]\n",
    "\n",
    "print(f\"The stadictical for the number of device per client is {device_stat}\")\n",
    "print(f\"The mode for the number of device pero cliente is {device_mode}\")"
   ]
  },
  {
   "cell_type": "code",
   "execution_count": null,
   "id": "340cf159-c11d-4996-8f70-6b36b092986c",
   "metadata": {},
   "outputs": [],
   "source": [
    "sns.histplot(df_web_test_device['num_devices'], kde=True, bins=15, color=\"orange\")\n",
    "plt.show()"
   ]
  },
  {
   "cell_type": "markdown",
   "id": "702720d7-154a-4a4f-a600-7a01425d02e5",
   "metadata": {},
   "source": [
    "*Connection times*"
   ]
  },
  {
   "cell_type": "code",
   "execution_count": null,
   "id": "3dbfb850-2ea7-40da-837a-8560f1b0bdd4",
   "metadata": {},
   "outputs": [],
   "source": [
    "#Create a new date_frame to see the use of device\n",
    "df_web_test_visit=df_web_test[[\"client_id\",\"visit_id\"]]\n",
    "df_web_test_visit=df_web_test_visit.drop_duplicates()\n",
    "df_web_test_visit=pd.DataFrame(df_web_test_visit.groupby(\"client_id\")[\"visit_id\"].count())\n",
    "df_web_test_visit=df_web_test_visit.rename(columns={\"visit_id\":\"num_visits\"})\n",
    "df_web_test_visit=df_web_test_visit.reset_index()\n",
    "df_web_test_visit"
   ]
  },
  {
   "cell_type": "code",
   "execution_count": null,
   "id": "cbdffdf3-a5b9-4884-af62-3c66751fadf4",
   "metadata": {},
   "outputs": [],
   "source": [
    "visit_stat=df_web_test_visit[\"num_visits\"].describe()\n",
    "visit_mode=df_web_test_visit[\"num_visits\"].mode()[0]\n",
    "\n",
    "print(f\"The stadictical for the number of device per client is {visit_stat}\")\n",
    "print(f\"The mode for the number of device pero cliente is {visit_mode}\")"
   ]
  },
  {
   "cell_type": "code",
   "execution_count": null,
   "id": "4c92a058-b10e-4bf3-b05f-107dd3fc64df",
   "metadata": {},
   "outputs": [],
   "source": [
    "sns.histplot(df_web_test_visit['num_visits'], kde=True, bins=15, color=\"red\")\n",
    "plt.show()"
   ]
  },
  {
   "cell_type": "markdown",
   "id": "5eab2fa8-637f-42a6-99fc-20e944f133d5",
   "metadata": {},
   "source": [
    "*STEPS*"
   ]
  },
  {
   "cell_type": "code",
   "execution_count": null,
   "id": "5804abb6-d468-4072-87cc-e310ba475909",
   "metadata": {},
   "outputs": [],
   "source": [
    "df_web_test[\"process_step\"].describe()"
   ]
  },
  {
   "cell_type": "code",
   "execution_count": null,
   "id": "7c51146f-08cc-4f47-8864-a0a6543c3207",
   "metadata": {},
   "outputs": [],
   "source": [
    "sns.histplot(df_web_test['process_step'], kde=True, bins=15, color=\"blue\")\n",
    "plt.show()"
   ]
  },
  {
   "cell_type": "markdown",
   "id": "e56ab21d-4a05-48ad-8f4e-98071ec864d9",
   "metadata": {},
   "source": [
    "*Hour*"
   ]
  },
  {
   "cell_type": "code",
   "execution_count": null,
   "id": "ca3fab11-9127-4f81-9c03-b35482aa17e8",
   "metadata": {},
   "outputs": [],
   "source": [
    "df_web_test_hour=df_web_test.sort_values(\"hour\", ascending=True)\n",
    "df_web_test_hour=df_web_test_hour[[\"visit_id\",\"hour\"]]\n",
    "df_web_test_hour=df_web_test_hour.drop_duplicates()\n",
    "df_web_test_hour"
   ]
  },
  {
   "cell_type": "code",
   "execution_count": null,
   "id": "a6a0ba62-b4f3-43d8-a1ba-55478a9e569f",
   "metadata": {},
   "outputs": [],
   "source": [
    "df_web_test_hour[\"hour\"].describe()"
   ]
  },
  {
   "cell_type": "code",
   "execution_count": null,
   "id": "e9ca6ca7-f4a0-45eb-b787-4585b6db9c16",
   "metadata": {},
   "outputs": [],
   "source": [
    "sns.histplot(df_web_test_hour['hour'], kde=True, bins=20, color=\"green\")\n",
    "plt.show()"
   ]
  },
  {
   "cell_type": "code",
   "execution_count": null,
   "id": "65758eab-17e4-4394-b842-6abacc31e371",
   "metadata": {},
   "outputs": [],
   "source": []
  }
 ],
 "metadata": {
  "kernelspec": {
   "display_name": "Python [conda env:base] *",
   "language": "python",
   "name": "conda-base-py"
  },
  "language_info": {
   "codemirror_mode": {
    "name": "ipython",
    "version": 3
   },
   "file_extension": ".py",
   "mimetype": "text/x-python",
   "name": "python",
   "nbconvert_exporter": "python",
   "pygments_lexer": "ipython3",
   "version": "3.12.7"
  }
 },
 "nbformat": 4,
 "nbformat_minor": 5
}
