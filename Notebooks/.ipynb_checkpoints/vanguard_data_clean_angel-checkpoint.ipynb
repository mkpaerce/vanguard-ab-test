{
 "cells": [
  {
   "cell_type": "code",
   "execution_count": null,
   "id": "b5bfbaf4-5e7f-4242-8752-8c142c1260e0",
   "metadata": {},
   "outputs": [],
   "source": [
    "import pandas as pd\n",
    "import matplotlib.pyplot as plt\n",
    "import seaborn as sns\n",
    "import numpy as np\n",
    "\n",
    "%matplotlib inline"
   ]
  },
  {
   "cell_type": "code",
   "execution_count": null,
   "id": "2383d4ad-be01-4056-a3e0-4062e7e7f8b7",
   "metadata": {},
   "outputs": [],
   "source": [
    "df_clients = pd.read_csv(\"../Data/Raw/df_final_experiment_clients.txt\")\n",
    "df_demo = pd.read_csv(\"../Data/Raw/df_final_demo.txt\")\n",
    "df_web1 = pd.read_csv(\"../Data/Raw/df_final_web_data_pt_1.txt\")\n",
    "df_web2 = pd.read_csv(\"../Data/Raw/df_final_web_data_pt_2.txt\")\n",
    "df_clients.head()"
   ]
  },
  {
   "cell_type": "code",

   "execution_count": null,
   "id": "54ec155e-3c88-4f78-89de-549f67d9aa0b",
   "metadata": {},
   "outputs": [],
   "source": [
    "df_web=pd.concat([df_web1,df_web2], axis=0)\n",
    "df_web=df_web.reset_index(drop=True)\n",
    "df_web"
   ]
  },
  {
   "cell_type": "code",
   "execution_count": null,
   "id": "a5814833-06d8-48b5-ae57-cce769c4a4e2",
   "metadata": {},
   "outputs": [],
   "source": [
    "df_demo=pd.merge(df_demo,df_clients, on=\"client_id\", how=\"left\")\n",
    "conditiontest=df_demo[\"Variation\"]==\"Test\"\n",
    "df_demo_test=df_demo[conditiontest]\n",
    "df_demo_test\n"
   ]
  },
  {
   "cell_type": "code",
   "execution_count": null,
   "id": "9a388f09-a083-4b68-92ab-e58bddca9d0c",
   "metadata": {},
   "outputs": [],
   "source": [
    "conditioncontrol=df_demo[\"Variation\"]==\"Control\"\n",
    "df_demo_control=df_demo[conditioncontrol]\n",
    "df_demo_control"
   ]
  },
  {
   "cell_type": "code",
   "execution_count": null,
   "id": "540ee982-a9a6-4e2b-a47c-9e4adc1ff9f5",
   "metadata": {},
   "outputs": [],
   "source": [
    "df_web=pd.merge(df_web,df_clients, on=\"client_id\", how=\"left\")\n",
    "df_web"
   ]
  },
  {
   "cell_type": "code",
   "execution_count": null,
   "id": "1ae82562-ae48-48d1-b420-e2df90935609",
   "metadata": {},
   "outputs": [],
   "source": [
    "conditiontest=df_demo[\"Variation\"]==\"Test\"\n",
    "df_web_test=df_demo[conditiontest]\n",
    "df_web_test"
   ]
  },
  {
   "cell_type": "code",
   "execution_count": null,
   "id": "9944e6e6-785c-4a39-bdaa-6067a841ac8c",
   "metadata": {},
   "outputs": [],
   "source": [
    "conditioncontrol=df_demo[\"Variation\"]==\"Control\"\n",
    "df_web_control=df_demo[conditioncontrol]\n",
    "df_web_control"
   ]
  },
  {
   "cell_type": "code",
   "execution_count": null,
   "id": "2ee582b2-3030-4f7f-8eb8-e1b90356f325",
   "metadata": {},
   "outputs": [],
   "source": [
    "#FINAL RESULT 4 FILES:\n",
    "#df_web_control\n",
    "#df_web_test\n",
    "#df_demo_control\n",
    "#df_demo_test\n"
   ]
  }
 ],
 "metadata": {
  "kernelspec": {
   "display_name": "Python [conda env:base] *",
   "language": "python",
   "name": "conda-base-py"
  },
  "language_info": {
   "codemirror_mode": {
    "name": "ipython",
    "version": 3
   },
   "file_extension": ".py",
   "mimetype": "text/x-python",
   "name": "python",
   "nbconvert_exporter": "python",
   "pygments_lexer": "ipython3",
   "version": "3.12.7"
  }
 },
 "nbformat": 4,
 "nbformat_minor": 5
}
