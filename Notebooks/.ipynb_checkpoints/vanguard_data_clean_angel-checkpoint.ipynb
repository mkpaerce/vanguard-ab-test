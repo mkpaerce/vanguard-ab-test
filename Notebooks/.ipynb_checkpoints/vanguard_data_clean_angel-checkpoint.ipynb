{
 "cells": [
  {
   "cell_type": "markdown",
   "id": "4214cac0-cb94-448c-9f5c-be7318681f83",
   "metadata": {},
   "source": [
    "## **Import the libraries** ##"
   ]
  },
  {
   "cell_type": "code",
   "execution_count": null,
   "id": "b5bfbaf4-5e7f-4242-8752-8c142c1260e0",
   "metadata": {},
   "outputs": [],
   "source": [
    "import pandas as pd\n",
    "import matplotlib.pyplot as plt\n",
    "import seaborn as sns\n",
    "import numpy as np\n",
    "\n",
    "%matplotlib inline\n",
    "df_web_test=pd.read_csv(\"../Data/Clean/df_final_web_data_test_clean.txt\")"
   ]
  },
  {
   "cell_type": "markdown",
   "id": "e0c6ecfc-5219-4590-b037-3bd7472b4ff5",
   "metadata": {},
   "source": [
    "## **Create the files** ##\n",
    "Dont need to run this part again"
   ]
  },
  {
   "cell_type": "code",
   "execution_count": null,
   "id": "2383d4ad-be01-4056-a3e0-4062e7e7f8b7",
   "metadata": {},
   "outputs": [],
   "source": [
    "#Create the dataframes\n",
    "df_clients = pd.read_csv(\"../Data/Raw/df_final_experiment_clients.txt\")\n",
    "df_demo = pd.read_csv(\"../Data/Raw/df_final_demo.txt\")\n",
    "df_web1 = pd.read_csv(\"../Data/Raw/df_final_web_data_pt_1.txt\")\n",
    "df_web2 = pd.read_csv(\"../Data/Raw/df_final_web_data_pt_2.txt\")\n",
    "df_clients.head()"
   ]
  },
  {
   "cell_type": "code",
   "execution_count": null,
   "id": "54ec155e-3c88-4f78-89de-549f67d9aa0b",
   "metadata": {},
   "outputs": [],
   "source": [
    "#Concat data_web\n",
    "df_web=pd.concat([df_web1,df_web2], axis=0)\n",
    "df_web=df_web.reset_index(drop=True)\n",
    "df_web"
   ]
  },
  {
   "cell_type": "code",
   "execution_count": null,
   "id": "a5814833-06d8-48b5-ae57-cce769c4a4e2",
   "metadata": {},
   "outputs": [],
   "source": [
    "#Merge demo with clients\n",
    "df_demo=pd.merge(df_demo,df_clients, on=\"client_id\", how=\"left\")\n",
    "\n"
   ]
  },
  {
   "cell_type": "code",
   "execution_count": null,
   "id": "9a388f09-a083-4b68-92ab-e58bddca9d0c",
   "metadata": {},
   "outputs": [],
   "source": [
    "#I create demo_control\n",
    "conditioncontrol=df_demo[\"Variation\"]==\"Control\"\n",
    "df_demo_control=df_demo[conditioncontrol]\n",
    "df_demo_control"
   ]
  },
  {
   "cell_type": "code",
   "execution_count": null,
   "id": "74ba9d74-c0ba-47da-b2c1-21c331dbf762",
   "metadata": {},
   "outputs": [],
   "source": [
    "#I create demo_test\n",
    "conditiontest=df_demo[\"Variation\"]==\"Test\"\n",
    "df_demo_test=df_demo[conditiontest]\n",
    "df_demo_test"
   ]
  },
  {
   "cell_type": "code",
   "execution_count": null,
   "id": "540ee982-a9a6-4e2b-a47c-9e4adc1ff9f5",
   "metadata": {},
   "outputs": [],
   "source": [
    "#I add information about the clientes to data_web\n",
    "df_web=pd.merge(df_web,df_clients, on=\"client_id\", how=\"left\")\n",
    "df_web"
   ]
  },
  {
   "cell_type": "code",
   "execution_count": null,
   "id": "1ae82562-ae48-48d1-b420-e2df90935609",
   "metadata": {},
   "outputs": [],
   "source": [
    "#Create web_test\n",
    "conditiontest=df_web[\"Variation\"]==\"Test\"\n",
    "df_web_test=df_web[conditiontest]\n",
    "df_web_test"
   ]
  },
  {
   "cell_type": "code",
   "execution_count": null,
   "id": "9944e6e6-785c-4a39-bdaa-6067a841ac8c",
   "metadata": {},
   "outputs": [],
   "source": [
    "#Create web_control\n",
    "conditioncontrol=df_web[\"Variation\"]==\"Control\"\n",
    "df_web_control=df_web[conditioncontrol]\n",
    "df_web_control"
   ]
  },
  {
   "cell_type": "code",
   "execution_count": null,
   "id": "ecd062b6",
   "metadata": {},
   "outputs": [],
   "source": [
    "#FINAL RESULT 4 FILES:\n",
    "#df_web_control\n",
    "#df_web_test\n",
    "#df_demo_control\n",
    "#df_demo_test\n",
    "df_web_test.to_csv(\"../Data/Raw/df_final_web_data_test.txt\")"
   ]
  },
  {
   "cell_type": "markdown",
   "id": "45abe42b-9f4a-4683-a57d-340e5517e76f",
   "metadata": {},
   "source": [
    "## **Cleaning and columns aggregation** ##"
   ]
  },
  {
   "cell_type": "code",
   "execution_count": null,
   "id": "ff943096-197f-4bf2-b222-f2328b72b38d",
   "metadata": {},
   "outputs": [],
   "source": [
    "#Clean web_data_test 1148 duplicated values\n",
    "df_web_test = pd.read_csv(\"../Data/Raw/df_final_web_data_test.txt\")\n",
    "df_web_test=df_web_test.reset_index(drop=True)\n",
    "df_web_test.duplicated().sum()\n",
    "df_web_test.drop_duplicates(inplace=True)\n",
    "df_web_test.duplicated().sum()"
   ]
  },
  {
   "cell_type": "code",
   "execution_count": null,
   "id": "98428a5c-2edd-4615-8723-046b8d570b60",
   "metadata": {},
   "outputs": [],
   "source": [
    "#Split date and time\n",
    "df_web_test[\"date\"]=df_web_test[\"date_time\"].str.split(\" \", expand=True)[0]\n",
    "df_web_test[\"time\"]=df_web_test[\"date_time\"].str.split(\" \", expand=True)[1]\n",
    "df_web_test[\"hour\"]=df_web_test[\"time\"].str.split(\":\",expand=True)[0]\n",
    "df_web_test[\"hour\"]=df_web_test[\"hour\"].astype(int)\n",
    "df_web_test.head()"
   ]
  },
  {
   "cell_type": "code",
   "execution_count": null,
   "id": "56f1c4b6-e7eb-4525-bf79-9ee8b92cc136",
   "metadata": {},
   "outputs": [],
   "source": [
    "#Change the dtypes of the column time %H,%M,%S format\n",
    "df_web_test['time'] = (pd.to_datetime(df_web_test['time'], format='%H:%M:%S'))\n",
    "df_web_test"
   ]
  },
  {
   "cell_type": "code",
   "execution_count": null,
   "id": "20274081-57ec-4a3d-85e8-6d94b3557e99",
   "metadata": {},
   "outputs": [],
   "source": [
    "#Change the values of process_step\n",
    "df_web_test[\"process_step\"]=df_web_test[\"process_step\"].map({\"start\":0,\"step_1\":1,\"step_2\":2,\"step_3\":3,\"confirm\":4})\n",
    "df_web_test[\"process_step\"].unique()"
   ]
  },
  {
   "cell_type": "code",
   "execution_count": null,
   "id": "7167a110-9886-4c81-852a-0c8cb23c6181",
   "metadata": {},
   "outputs": [],
   "source": [
    "#Create two new columns in order to have the step_jump and one column \"control\" to filter when the data is not from the same visit_id.\n",
    "df_web_test=df_web_test.sort_values([\"visit_id\",\"date\", \"time\", \"process_step\"])\n",
    "df_web_test[\"step_jump\"]=df_web_test[\"process_step\"].astype(str).shift(+1)+\"-\"+df_web_test[\"process_step\"].astype(str)\n",
    "#Create column control which help me to determine, later, is the steps follows a orded sense.\n",
    "df_web_test[\"control\"]=(df_web_test[\"process_step\"]-df_web_test[\"process_step\"].shift(+1)).abs()\n",
    "df_web_test[\"dif_time\"]=(df_web_test[\"time\"])-(df_web_test[\"time\"].shift(+1))\n",
    "df_web_test"
   ]
  },
  {
   "cell_type": "code",
   "execution_count": null,
   "id": "cc3957a0-dcef-4a6d-bf84-5f712b3ef007",
   "metadata": {},
   "outputs": [],
   "source": [
    "#Create a column for the total of segs spend between steps\n",
    "df_web_test=df_web_test.dropna(subset=[\"control\"])\n",
    "df_web_test[\"dif_time\"] = (df_web_test['dif_time'].astype(str))\n",
    "df_web_test[\"dif_time\"]=(df_web_test[\"dif_time\"].str.split(\" \")).str[-1]\n",
    "df_web_test[\"dif_hour\"]=((df_web_test[\"dif_time\"].str.split(\":\")).str[0])\n",
    "df_web_test[\"dif_hour\"]=df_web_test[\"dif_hour\"].astype(int)\n",
    "df_web_test[\"dif_min\"]=((df_web_test[\"dif_time\"].str.split(\":\")).str[1]).astype(int)\n",
    "df_web_test[\"dif_seg\"]=((df_web_test[\"dif_time\"].str.split(\":\")).str[2]).astype(int)\n",
    "df_web_test[\"total_seg\"]=df_web_test[\"dif_hour\"]*3600 + df_web_test[\"dif_min\"]*60 + df_web_test[\"dif_seg\"]\n",
    "df_web_test"
   ]
  },
  {
   "cell_type": "code",
   "execution_count": null,
   "id": "51bedccf-5952-4fd9-b8d3-72489aa9b4bc",
   "metadata": {},
   "outputs": [],
   "source": [
    "#Function for the keep_control column. It is only going to be used in terms of TIME BETWEEN STEPS\n",
    "def row_count(df):\n",
    "    df['next_visit'] = df['visit_id'].shift(+1) \n",
    "    df['keep_contol'] = df.apply(lambda row: \"YES\" if row['visit_id'] == row['next_visit'] else \"NO\", axis=1)\n",
    "    df.drop(columns=['next_visit'], inplace=True)\n",
    "    return df"
   ]
  },
  {
   "cell_type": "code",
   "execution_count": null,
   "id": "978d445e-1cd9-4a73-8ea0-e3fa56cfa21f",
   "metadata": {},
   "outputs": [],
   "source": [
    "#Add the column keep_control to my DataFrame\n",
    "df_web_test=row_count(df_web_test)\n",
    "df_web_test\n",
    "df_web_test.to_csv(\"../Data/Clean/df_final_web_data_test_clean.txt\")\n",
    "#FINAL DATA FRAME TO USE: df_web_test"
   ]
  },
  {
   "cell_type": "markdown",
   "id": "d8bf8ad8-3919-4245-a0bb-d10e4c0c72a9",
   "metadata": {},
   "source": [
    "## **Analysis** ##"
   ]
  },
  {
   "cell_type": "markdown",
   "id": "1bf9c5d6-829f-43ef-84c9-408927d5ec03",
   "metadata": {},
   "source": [
    "## **Device** ##"
   ]
  },
  {
   "cell_type": "code",
   "execution_count": null,
   "id": "3ac3cf63-cec7-4350-96a7-20e4542c19f1",
   "metadata": {},
   "outputs": [],
   "source": [
    "#Create a new date_frame to see the use of device\n",
    "df_web_test_device=df_web_test[[\"client_id\",\"visitor_id\"]]\n",
    "df_web_test_device=df_web_test_device.drop_duplicates()\n",
    "df_web_test_device=pd.DataFrame(df_web_test_device.groupby(\"client_id\")[\"visitor_id\"].count())\n",
    "df_web_test_device=df_web_test_device.rename(columns={\"visitor_id\":\"num_devices\"})\n",
    "df_web_test_device=df_web_test_device.reset_index()\n",
    "df_web_test_device"
   ]
  },
  {
   "cell_type": "code",
   "execution_count": null,
   "id": "8b79ae63-49aa-4668-81bf-3eaf258e6800",
   "metadata": {},
   "outputs": [],
   "source": [
    "device_stat=df_web_test_device[\"num_devices\"].describe()\n",
    "device_mode=df_web_test_device[\"num_devices\"].mode()[0]\n",
    "\n",
    "print(f\"The stadictical for the number of device per client is {device_stat}\")\n",
    "print(f\"The mode for the number of device pero cliente is {device_mode}\")"
   ]
  },
  {
   "cell_type": "code",
   "execution_count": null,
   "id": "340cf159-c11d-4996-8f70-6b36b092986c",
   "metadata": {},
   "outputs": [],
   "source": [
    "sns.histplot(df_web_test_device['num_devices'], kde=True, bins=15, color=\"orange\")\n",
    "plt.show()"
   ]
  },
  {
   "cell_type": "markdown",
   "id": "de3f2881-580d-422c-b4d1-e27f9578a6cc",
   "metadata": {},
   "source": [
    "**Analysis**: from all the almost 27.000 clients, almost 75% of the customer only use 1 device to get into our portal.There is some clients who use more than 4 devices that we can consider outliners."
   ]
  },
  {
   "cell_type": "code",
   "execution_count": null,
   "id": "788e5a34-a7f9-4504-86f4-0fa6c995da9a",
   "metadata": {},
   "outputs": [],
   "source": [
    "sns.boxplot(df_web_test_device['num_devices'], color=\"lightblue\")\n",
    "plt.show()"
   ]
  },
  {
   "cell_type": "markdown",
   "id": "702720d7-154a-4a4f-a600-7a01425d02e5",
   "metadata": {},
   "source": [
    "## **Connection times** ##"
   ]
  },
  {
   "cell_type": "code",
   "execution_count": null,
   "id": "3dbfb850-2ea7-40da-837a-8560f1b0bdd4",
   "metadata": {},
   "outputs": [],
   "source": [
    "#Create a new date_frame to see how many interaction has been made for each client\n",
    "df_web_test_visit=df_web_test[[\"client_id\",\"visit_id\"]]\n",
    "df_web_test_visit=df_web_test_visit.drop_duplicates()\n",
    "df_web_test_visit=pd.DataFrame(df_web_test_visit.groupby(\"client_id\")[\"visit_id\"].count())\n",
    "df_web_test_visit=df_web_test_visit.rename(columns={\"visit_id\":\"num_visits\"})\n",
    "df_web_test_visit=df_web_test_visit.reset_index()\n",
    "df_web_test_visit"
   ]
  },
  {
   "cell_type": "code",
   "execution_count": null,
   "id": "cbdffdf3-a5b9-4884-af62-3c66751fadf4",
   "metadata": {},
   "outputs": [],
   "source": [
    "visit_stat=df_web_test_visit[\"num_visits\"].describe()\n",
    "visit_mode=df_web_test_visit[\"num_visits\"].mode()[0]\n",
    "\n",
    "print(f\"The stadictical for the number of device per client is {visit_stat}\")\n",
    "print(f\"The mode for the number of device pero cliente is {visit_mode}\")"
   ]
  },
  {
   "cell_type": "code",
   "execution_count": null,
   "id": "4c92a058-b10e-4bf3-b05f-107dd3fc64df",
   "metadata": {},
   "outputs": [],
   "source": [
    "sns.histplot(df_web_test_visit['num_visits'], kde=True, bins=15, color=\"red\")\n",
    "plt.show()"
   ]
  },
  {
   "cell_type": "code",
   "execution_count": null,
   "id": "ecabbb8d-5737-41f5-b88c-e26a3068c9d4",
   "metadata": {},
   "outputs": [],
   "source": [
    "sns.boxplot(df_web_test_visit['num_visits'], color=\"red\")\n",
    "plt.show()"
   ]
  },
  {
   "cell_type": "markdown",
   "id": "e21279dc-f26e-4824-822e-eff7e62728a4",
   "metadata": {},
   "source": [
    "**Analysis**: The test clients have only interact one time with the new web. As we can see the mean of interactions is 1.37 and only 25% of the total clients have interact with the web, at least, 2 times. We also see some outliner which has interact with the web more than 4 times."
   ]
  },
  {
   "cell_type": "markdown",
   "id": "5eab2fa8-637f-42a6-99fc-20e944f133d5",
   "metadata": {},
   "source": [
    "## **STEPS**"
   ]
  },
  {
   "cell_type": "code",
   "execution_count": null,
   "id": "5804abb6-d468-4072-87cc-e310ba475909",
   "metadata": {},
   "outputs": [],
   "source": [
    "df_web_test[\"process_step\"].describe()"
   ]
  },
  {
   "cell_type": "code",
   "execution_count": null,
   "id": "343e2406-d354-4fe0-a079-bb7471eb06c2",
   "metadata": {},
   "outputs": [],
   "source": [
    "sns.histplot(df_web_test['process_step'], kde=True, bins=60, color=\"green\")\n",
    "plt.show()"
   ]
  },
  {
   "cell_type": "markdown",
   "id": "76e5ea70-936c-4fc1-b3f7-63904501a2bd",
   "metadata": {},
   "source": [
    "**Analysis**: The web is a little bit confusing. The clients, as average, do not reach the second step and they get stack in the step 1. Less than 25% of the clients reach the final step. But all the clients which reach the setp 3 get to finish the whole process. So the more confusing part are in order to get to step 1 as we can see more difference in the histoplot. The difficulty decrese as the steps go ahead."
   ]
  },
  {
   "cell_type": "markdown",
   "id": "e56ab21d-4a05-48ad-8f4e-98071ec864d9",
   "metadata": {},
   "source": [
    "## **Hour**"
   ]
  },
  {
   "cell_type": "code",
   "execution_count": null,
   "id": "ca3fab11-9127-4f81-9c03-b35482aa17e8",
   "metadata": {},
   "outputs": [],
   "source": [
    "df_web_test_hour=df_web_test.sort_values(\"hour\", ascending=True)\n",
    "df_web_test_hour=df_web_test_hour[[\"visit_id\",\"hour\"]]\n",
    "df_web_test_hour=df_web_test_hour.drop_duplicates()\n",
    "df_web_test_hour"
   ]
  },
  {
   "cell_type": "code",
   "execution_count": null,
   "id": "a6a0ba62-b4f3-43d8-a1ba-55478a9e569f",
   "metadata": {},
   "outputs": [],
   "source": [
    "df_web_test_hour[\"hour\"].describe()"
   ]
  },
  {
   "cell_type": "code",
   "execution_count": null,
   "id": "e9ca6ca7-f4a0-45eb-b787-4585b6db9c16",
   "metadata": {},
   "outputs": [],
   "source": [
    "sns.histplot(df_web_test_hour['hour'], kde=True, bins=20, color=\"green\")\n",
    "plt.show()"
   ]
  },
  {
   "cell_type": "code",
   "execution_count": null,
   "id": "c4872a37-0734-4aab-8c6d-917db9328d9f",
   "metadata": {},
   "outputs": [],
   "source": [
    "sns.boxplot(df_web_test_hour['hour'], color=\"lightgreen\")\n",
    "plt.show()"
   ]
  },
  {
   "cell_type": "markdown",
   "id": "101acf95-7d78-48ef-829a-13a6cf4d7246",
   "metadata": {},
   "source": [
    "**Analysis**: More of the interactis has been made between 10 am to 15 pm. There is just some outlines which access to the 12 am "
   ]
  },
  {
   "cell_type": "markdown",
   "id": "4441bc23-2b70-4d34-8d2d-bd508e17e2a9",
   "metadata": {},
   "source": [
    "## **Time between steps** ##"
   ]
  },
  {
   "cell_type": "code",
   "execution_count": null,
   "id": "554d93bf-4cd7-4377-828e-ffce4d3530b9",
   "metadata": {},
   "outputs": [],
   "source": [
    "#Filter what we want: control condition 1, steps forward 0-1;1-2;2-3;3-4. keep_control=YES\n",
    "condition_control=df_web_test[\"control\"]==1\n",
    "df_web_test_dif_time=df_web_test[condition_control]\n",
    "condition_step=(df_web_test_dif_time[\"step_jump\"]==\"0-1\") | (df_web_test_dif_time[\"step_jump\"]==\"1-2\") | (df_web_test_dif_time[\"step_jump\"]==\"2-3\") | (df_web_test_dif_time[\"step_jump\"]==\"3-4\")\n",
    "df_web_test_dif_time=df_web_test_dif_time[condition_step]\n",
    "condition_keep=df_web_test_dif_time[\"keep_contol\"]==\"YES\"\n",
    "df_web_test_dif_time=df_web_test_dif_time[condition_keep]\n",
    "df_web_test_dif_time\n",
    "df_web_test_dif_time"
   ]
  },
  {
   "cell_type": "code",
   "execution_count": null,
   "id": "e08daaa5-10e9-43d5-aa0a-856786f5d4f8",
   "metadata": {},
   "outputs": [],
   "source": [
    "df_web_test_dif_time[\"total_seg\"].describe()"
   ]
  },
  {
   "cell_type": "code",
   "execution_count": null,
   "id": "a70dd1a5-4054-4f0e-a0f2-68a441283a11",
   "metadata": {},
   "outputs": [],
   "source": [
    "time_stat=df_web_test_dif_time.groupby(\"step_jump\")[\"total_seg\"].agg([\"count\",\"median\",\"std\"])\n",
    "time_stat"
   ]
  },
  {
   "cell_type": "code",
   "execution_count": null,
   "id": "37c460b4-a6ba-42a1-9b37-e64ee22579f1",
   "metadata": {},
   "outputs": [],
   "source": [
    "test=df_web_test.groupby(\"process_step\")[\"process_step\"].value_counts()\n",
    "test"
   ]
  },
  {
   "cell_type": "code",
   "execution_count": null,
   "id": "4423b92b-954b-4138-a041-3dd02dae7fde",
   "metadata": {},
   "outputs": [],
   "source": [
    "df_web_test"
   ]
  },
  {
   "cell_type": "code",
   "execution_count": null,
   "id": "60e0a978-aded-4e23-bf9e-abfb19e726b2",
   "metadata": {},
   "outputs": [],
   "source": [
    "sns.histplot(df_web_test_dif_time['total_seg'], kde=True, bins=60, color=\"green\")\n",
    "plt.show()"
   ]
  },
  {
   "cell_type": "code",
   "execution_count": null,
   "id": "7a0b8a07-6859-4f8d-8b3c-078f80e0faf6",
   "metadata": {},
   "outputs": [],
   "source": [
    "sns.boxplot(df_web_test_dif_time['total_seg'], color=\"lightgreen\")\n",
    "plt.show()"
   ]
  },
  {
   "cell_type": "markdown",
   "id": "08ba464d-e5bb-448e-a682-908771cd4096",
   "metadata": {},
   "source": [
    "**Analysis**: As there is lot of outliners which we considers clients who did not not close the session and remain the PC open, we are going to use the median instead of mean. \n",
    "The total process, as median, it takes 152 minutes, being the first step the faster one with 10 seconds and the longest is number 2 with 66 seconds."
   ]
  },
  {
   "cell_type": "markdown",
   "id": "feca7f6d-316b-4b23-b8c0-c577cc487723",
   "metadata": {},
   "source": [
    "## **Completion ratio** ##"
   ]
  },
  {
   "cell_type": "code",
   "execution_count": null,
   "id": "310861ae-3465-48c8-a266-c810475e05a6",
   "metadata": {},
   "outputs": [],
   "source": [
    "#The completion ratio is the number of clients who made it to step 4 out of the total number of visist\n",
    "#Calculate the number of clients who made it to step 4\n",
    "step_4=(df_web_test[\"process_step\"]==4).value_counts()\n",
    "step_4\n"
   ]
  },
  {
   "cell_type": "code",
   "execution_count": null,
   "id": "37e65531-97ad-43ae-8d94-cdc0ac8407c3",
   "metadata": {},
   "outputs": [],
   "source": [
    "completion_ratio=(step_4[True])/(df_web_test.visit_id.nunique())\n",
    "\n",
    "print(f\"The completion ratio is {completion_ratio}. That means, out of {df_web_test.visit_id.nunique()}, a total of {completion_ratio * 100}% has made it to the final step\")"
   ]
  },
  {
   "cell_type": "markdown",
   "id": "60afd771-4c06-4798-9c5d-af51748e4bf9",
   "metadata": {},
   "source": [
    "## **Error rates**"
   ]
  },
  {
   "cell_type": "markdown",
   "id": "e2bd23aa-5477-4e32-80c6-09579fa061e8",
   "metadata": {},
   "source": [
    "We consider an error when the client go backwards in the logical step process, that means if the client from process 1 to 0, from 2 to 1 or from 3 to 2. \n",
    "We will caculate first the total amount of these errors and for the rate we will take into account the total number movements. That means, if 1 client made it to step 4 it will count as 4 movemnets: from 0 to 1, from 1 to 2, for 2 to 3 and from 3 to 4."
   ]
  },
  {
   "cell_type": "code",
   "execution_count": null,
   "id": "e2a9baa6-1da6-4e98-b89f-0b561da99a9d",
   "metadata": {},
   "outputs": [],
   "source": [
    "#First we filter the values that we are going to use. Filter: Control=1; Keep=YES.\n",
    "#We only want the errors in the process. \n",
    "condition_control=df_web_test[\"control\"]==1\n",
    "df_error_rate=df_web_test[condition_control]\n",
    "condition_keep=df_error_rate[\"keep_contol\"]==\"YES\"\n",
    "df_error_rate=df_error_rate[condition_keep]\n",
    "condition_step=(df_error_rate[\"step_jump\"]==\"1-0\") | (df_error_rate[\"step_jump\"]==\"2-1\") | (df_error_rate[\"step_jump\"]==\"3-2\") | (df_error_rate[\"step_jump\"]==\"4-3\")\n",
    "df_error_rate=df_error_rate[condition_step]\n",
    "df_error_rate"
   ]
  },
  {
   "cell_type": "code",
   "execution_count": null,
   "id": "120b90b1-c669-4531-9e7d-b7f45656d949",
   "metadata": {},
   "outputs": [],
   "source": [
    "sns.histplot(df_error_rate['step_jump'], kde=True, bins=15, color=\"blue\")\n",
    "plt.show()"
   ]
  },
  {
   "cell_type": "code",
   "execution_count": null,
   "id": "7f6c665b-3ee7-4fe2-8245-89511ef0aa25",
   "metadata": {},
   "outputs": [],
   "source": [
    "#We display the number of errors per steps\n",
    "error_counts=pd.DataFrame(df_error_rate[\"step_jump\"].value_counts())\n",
    "error_counts"
   ]
  },
  {
   "cell_type": "code",
   "execution_count": null,
   "id": "52612431-e566-4e18-b269-b4727659f8b9",
   "metadata": {},
   "outputs": [],
   "source": [
    "sns.histplot(df_error_rate.sort_values(\"step_jump\")['step_jump'], kde=True, bins=20, color=\"green\")\n",
    "plt.show()"
   ]
  },
  {
   "cell_type": "code",
   "execution_count": null,
   "id": "2e9b2431-7812-44ad-8830-e1a362b3859c",
   "metadata": {},
   "outputs": [],
   "source": [
    "sns.boxplot(df_error_rate.sort_values(\"step_jump\")['step_jump'], color=\"lightgreen\")\n",
    "plt.show()"
   ]
  },
  {
   "cell_type": "markdown",
   "id": "3cc6f430-ffef-4371-b812-271420299e3c",
   "metadata": {},
   "source": [
    "**Analysis**: we can see that there is only 1 outliner, which is going back from step 4, so the clients do understand that the process is finished once they get to number 4. The steps that have more rate of error is from step 1 to 0 and that number decrease as the client continues in the process. That make sense as the number of clients which complete each step also decrease in the same trend. \n",
    "\n",
    "We compare the both histoplot bellow. "
   ]
  },
  {
   "cell_type": "code",
   "execution_count": null,
   "id": "2644ab18-563c-418f-8d29-62ddf6b3b500",
   "metadata": {},
   "outputs": [],
   "source": [
    "fig, axes = plt.subplots(1, 2, figsize=(12, 5)) \n",
    "sns.histplot(df_web_test['process_step'], kde=True,ax=axes[0], bins=15, color=\"blue\")\n",
    "sns.histplot(df_error_rate.sort_values(\"step_jump\")['step_jump'], kde=True,ax=axes[1], bins=20, color=\"green\")\n",
    "plt.tight_layout()\n",
    "plt.show()"
   ]
  },
  {
   "cell_type": "code",
   "execution_count": null,
   "id": "519ce0f3-92bc-490a-89a3-7be01f138219",
   "metadata": {},
   "outputs": [],
   "source": [
    "#Number of error\n",
    "error_counts[\"count\"].sum()"
   ]
  },
  {
   "cell_type": "code",
   "execution_count": null,
   "id": "01d629b6-7bf0-473e-bc3d-a943c87b8b38",
   "metadata": {},
   "outputs": [],
   "source": [
    "#Total number of steps jump\n",
    "(df_web_test[\"visit_id\"].value_counts()).sum()"
   ]
  },
  {
   "cell_type": "code",
   "execution_count": null,
   "id": "8bd2a845-39d3-428b-b58f-70a1873bd5bd",
   "metadata": {},
   "outputs": [],
   "source": [
    "ratio_error=((df_error_rate[\"step_jump\"].value_counts()).sum())/((df_web_test[\"visit_id\"].value_counts()).sum())\n",
    "\n",
    "print(f\"The ratio erros is {ratio_error}, that means that out of the {(df_web_test[\"visit_id\"].value_counts()).sum()} step jumps, {ratio_error *100}% have been error\")"
   ]
  },
  {
   "cell_type": "code",
   "execution_count": null,
   "id": "29916a7c-acfd-4d08-939e-b9f87eee4649",
   "metadata": {},
   "outputs": [],
   "source": []
  }
 ],
 "metadata": {
  "kernelspec": {
   "display_name": "Python [conda env:base] *",
   "language": "python",
   "name": "conda-base-py"
  },
  "language_info": {
   "codemirror_mode": {
    "name": "ipython",
    "version": 3
   },
   "file_extension": ".py",
   "mimetype": "text/x-python",
   "name": "python",
   "nbconvert_exporter": "python",
   "pygments_lexer": "ipython3",
   "version": "3.12.7"
  }
 },
 "nbformat": 4,
 "nbformat_minor": 5
}
