{
 "cells": [
  {
   "cell_type": "markdown",
   "id": "4214cac0-cb94-448c-9f5c-be7318681f83",
   "metadata": {},
   "source": [
    "## **Import the libraries** ##"
   ]
  },
  {
   "cell_type": "code",
   "execution_count": null,
   "id": "b5bfbaf4-5e7f-4242-8752-8c142c1260e0",
   "metadata": {},
   "outputs": [],
   "source": [
    "import pandas as pd\n",
    "import matplotlib.pyplot as plt\n",
    "import seaborn as sns\n",
    "import numpy as np\n",
    "\n",
    "%matplotlib inline\n",
    "\n",
    "df_web_test= pd.read_csv(\"../Data/Clean/df_final_web_data_test_clean.txt\")\n",
    "df_web_control= pd.read_csv(\"../Data/Clean/df_final_web_data_control_clean.txt\")\n"
   ]
  },
  {
   "cell_type": "markdown",
   "id": "d8bf8ad8-3919-4245-a0bb-d10e4c0c72a9",
   "metadata": {},
   "source": [
    "## **Analysis** ##"
   ]
  },
  {
   "cell_type": "markdown",
   "id": "b3e93d65-ad40-4508-bcb0-2ed6378be76c",
   "metadata": {},
   "source": [
    "## **STEPS - Control**"
   ]
  },
  {
   "cell_type": "code",
   "execution_count": null,
   "id": "5804abb6-d468-4072-87cc-e310ba475909",
   "metadata": {},
   "outputs": [],
   "source": [
    "df_web_control[\"process_step\"].describe()"
   ]
  },
  {
   "cell_type": "code",
   "execution_count": null,
   "id": "343e2406-d354-4fe0-a079-bb7471eb06c2",
   "metadata": {},
   "outputs": [],
   "source": [
    "sns.histplot(df_web_control['process_step'], kde=True, bins=60, color=\"green\")\n",
    "plt.show()"
   ]
  },
  {
   "cell_type": "markdown",
   "id": "4441bc23-2b70-4d34-8d2d-bd508e17e2a9",
   "metadata": {},
   "source": [
    "## **Time between steps -Test** ##"
   ]
  },
  {
   "cell_type": "code",
   "execution_count": null,
   "id": "39f80d3b-c00a-409a-94e8-8fc53d0036ed",
   "metadata": {},
   "outputs": [],
   "source": [
    "#Filter what we want: control condition 1, steps forward 0-1;1-2;2-3;3-4. keep_control=YES\n",
    "condition_control=df_web_test[\"control\"]==1\n",
    "df_web_test_dif_time=df_web_test[condition_control]\n",
    "condition_step=(df_web_test_dif_time[\"step_jump\"]==\"0-1\") | (df_web_test_dif_time[\"step_jump\"]==\"1-2\") | (df_web_test_dif_time[\"step_jump\"]==\"2-3\") | (df_web_test_dif_time[\"step_jump\"]==\"3-4\")\n",
    "df_web_test_dif_time=df_web_test_dif_time[condition_step]\n",
    "condition_keep=df_web_test_dif_time[\"keep_contol\"]==\"YES\"\n",
    "df_web_test_dif_time=df_web_test_dif_time[condition_keep]\n",
    "df_web_test_dif_time\n",
    "df_web_test_dif_time"
   ]
  },
  {
   "cell_type": "code",
   "execution_count": null,
   "id": "51c88cb9-165b-4ff0-82bd-7c3733787864",
   "metadata": {},
   "outputs": [],
   "source": [
    "df_web_test_dif_time[\"total_seg\"].describe()"
   ]
  },
  {
   "cell_type": "code",
   "execution_count": null,
   "id": "ae772a20-1f54-4e90-a21d-0fbe28630fc4",
   "metadata": {},
   "outputs": [],
   "source": [
    "time_stat=df_web_test_dif_time.groupby(\"step_jump\")[\"total_seg\"].agg([\"count\",\"median\",\"std\"])\n",
    "time_stat"
   ]
  },
  {
   "cell_type": "code",
   "execution_count": null,
   "id": "d09976ba-5e9c-4ef0-850e-a2948348cba9",
   "metadata": {},
   "outputs": [],
   "source": [
    "sns.histplot(df_web_test_dif_time['total_seg'], kde=True, bins=60, color=\"green\")\n",
    "plt.show()"
   ]
  },
  {
   "cell_type": "code",
   "execution_count": null,
   "id": "e20ddca0-8faa-4afb-bb53-9a7592d7a182",
   "metadata": {},
   "outputs": [],
   "source": [
    "sns.boxplot(df_web_test_dif_time['total_seg'], color=\"lightgreen\")\n",
    "plt.show()"
   ]
  },
  {
   "cell_type": "code",
   "execution_count": null,
   "id": "345013c0-a12d-4de5-b858-1af740298fc7",
   "metadata": {},
   "outputs": [],
   "source": [
    "from scipy import stats\n",
    "import statsmodels.api as sm\n",
    "\n",
    "print(sm.__version__)\n",
    "sm.qqplot(df_web_test_dif_time['total_seg'].values, fit=True, line='45')\n",
    "plt.show()"
   ]
  },
  {
   "cell_type": "code",
   "execution_count": null,
   "id": "b754fb91-9316-4651-bd1e-7849848bc10f",
   "metadata": {},
   "outputs": [],
   "source": [
    "log_transformed_total_seg = np.log1p(df_web_test_dif_time['total_seg'])\n",
    "standardized_log_total_seg = (log_transformed_total_seg - log_transformed_total_seg.mean()) / log_transformed_total_seg.std()\n",
    "\n",
    "# Plotting histogram for transformed 'SalePrice'\n",
    "sns.histplot(standardized_log_total_seg, kde=True, bins=50, color=\"skyblue\")\n",
    "plt.show()"
   ]
  },
  {
   "cell_type": "code",
   "execution_count": null,
   "id": "4cd37fca-8cd9-4518-b36c-50b47114282b",
   "metadata": {},
   "outputs": [],
   "source": [
    "stats.probplot(standardized_log_total_seg, plot=plt);\n",
    "plt.show()"
   ]
  },
  {
   "cell_type": "code",
   "execution_count": null,
   "id": "894dafe2-5241-43e4-80e4-966ff735f055",
   "metadata": {},
   "outputs": [],
   "source": [
    "# Conducting the Kolmogorov-Smirnov test on the log-transformed and standardized 'SalePrice'\n",
    "ks_test_statistic_after_transformation, ks_p_value_after_transformation = stats.kstest(standardized_log_total_seg, 'norm')\n",
    "\n",
    "ks_test_statistic_after_transformation, ks_p_value_after_transformation"
   ]
  },
  {
   "cell_type": "code",
   "execution_count": null,
   "id": "400e9fa9-957d-4fd7-bfaf-c36c3bd68f52",
   "metadata": {},
   "outputs": [],
   "source": [
    "if ks_p_value_after_transformation < 0.05:\n",
    "    print('The test results indicate that the distribution of seconds is significantly different from a normal distribution.')\n",
    "else:\n",
    "    print('The test results indicate that the distribution of seconds is not significantly different from a normal distribution.')"
   ]
  },
  {
   "cell_type": "code",
   "execution_count": null,
   "id": "59432e64-9f6b-4427-95e7-15725acd2a7c",
   "metadata": {},
   "outputs": [],
   "source": [
    "shapiro_test_statistic, shapiro_p_value = stats.shapiro(log_transformed_total_seg)\n",
    "\n",
    "shapiro_test_statistic, shapiro_p_value"
   ]
  },
  {
   "cell_type": "markdown",
   "id": "08ba464d-e5bb-448e-a682-908771cd4096",
   "metadata": {},
   "source": [
    "**Analysis**: As there is lot of outliners which we considers clients who did not not close the session and remain the PC open, we are going to use the median instead of mean. \n",
    "The total process, as median, it takes 152 minutes, being the first step the faster one with 10 seconds and the longest is number 2 with 66 seconds."
   ]
  },
  {
   "cell_type": "markdown",
   "id": "2bd357ed-ccd9-4c0d-b1cd-0d4692f6b7b9",
   "metadata": {},
   "source": [
    "## **Time between steps -Control** ##"
   ]
  },
  {
   "cell_type": "code",
   "execution_count": null,
   "id": "554d93bf-4cd7-4377-828e-ffce4d3530b9",
   "metadata": {},
   "outputs": [],
   "source": [
    "#Filter what we want: control condition 1, steps forward 0-1;1-2;2-3;3-4. keep_control=YES\n",
    "condition_control=df_web_control[\"control\"]==1\n",
    "df_web_control_dif_time=df_web_control[condition_control]\n",
    "condition_step=(df_web_control_dif_time[\"step_jump\"]==\"0-1\") | (df_web_control_dif_time[\"step_jump\"]==\"1-2\") | (df_web_control_dif_time[\"step_jump\"]==\"2-3\") | (df_web_control_dif_time[\"step_jump\"]==\"3-4\")\n",
    "df_web_control_dif_time=df_web_control_dif_time[condition_step]\n",
    "condition_keep=df_web_control_dif_time[\"keep_contol\"]==\"YES\"\n",
    "df_web_control_dif_time=df_web_control_dif_time[condition_keep]\n",
    "df_web_control_dif_time\n",
    "df_web_control_dif_time"
   ]
  },
  {
   "cell_type": "code",
   "execution_count": null,
   "id": "e08daaa5-10e9-43d5-aa0a-856786f5d4f8",
   "metadata": {},
   "outputs": [],
   "source": [
    "df_web_control_dif_time[\"total_seg\"].describe()"
   ]
  },
  {
   "cell_type": "code",
   "execution_count": null,
   "id": "a70dd1a5-4054-4f0e-a0f2-68a441283a11",
   "metadata": {},
   "outputs": [],
   "source": [
    "time_stat=df_web_control_dif_time.groupby(\"step_jump\")[\"total_seg\"].agg([\"count\",\"median\",\"std\"])\n",
    "time_stat"
   ]
  },
  {
   "cell_type": "code",
   "execution_count": null,
   "id": "60e0a978-aded-4e23-bf9e-abfb19e726b2",
   "metadata": {},
   "outputs": [],
   "source": [
    "sns.histplot(df_web_control_dif_time['total_seg'], kde=True, bins=60, color=\"green\")\n",
    "plt.show()"
   ]
  },
  {
   "cell_type": "code",
   "execution_count": null,
   "id": "7a0b8a07-6859-4f8d-8b3c-078f80e0faf6",
   "metadata": {},
   "outputs": [],
   "source": [
    "sns.boxplot(df_web_control_dif_time['total_seg'], color=\"lightgreen\")\n",
    "plt.show()"
   ]
  },
  {
   "cell_type": "code",
   "execution_count": null,
   "id": "2896b579",
   "metadata": {},
   "outputs": [],
   "source": [
    "from scipy import stats\n",
    "import statsmodels.api as sm\n",
    "\n",
    "print(sm.__version__)\n",
    "sm.qqplot(df_web_control_dif_time['total_seg'].values, fit=True, line='45')\n",
    "plt.show()"
   ]
  },
  {
   "cell_type": "code",
   "execution_count": null,
   "id": "022c929d-5086-4a13-9dda-af189c0c8bd8",
   "metadata": {},
   "outputs": [],
   "source": [
    "log_transformed_total_seg_ct = np.log1p(df_web_control_dif_time['total_seg'])\n",
    "standardized_log_total_seg_ct = (log_transformed_total_seg_ct - log_transformed_total_seg_ct.mean()) / log_transformed_total_seg_ct.std()\n",
    "\n",
    "# Plotting histogram for transformed 'SalePrice'\n",
    "sns.histplot(standardized_log_total_seg_ct, kde=True, bins=50, color=\"skyblue\")\n",
    "plt.show()"
   ]
  },
  {
   "cell_type": "code",
   "execution_count": null,
   "id": "e46326e3-db86-42b9-b757-3a7305106cda",
   "metadata": {},
   "outputs": [],
   "source": [
    "stats.probplot(standardized_log_total_seg_ct, plot=plt);\n",
    "plt.show()"
   ]
  },
  {
   "cell_type": "code",
   "execution_count": null,
   "id": "f60fe51b-06bd-4d24-8a51-908d054ea50d",
   "metadata": {},
   "outputs": [],
   "source": [
    "# Conducting the Kolmogorov-Smirnov test on the log-transformed and standardized 'SalePrice'\n",
    "ks_test_statistic_after_transformation, ks_p_value_after_transformation = stats.kstest(standardized_log_total_seg_ct, 'norm')\n",
    "\n",
    "ks_test_statistic_after_transformation, ks_p_value_after_transformation"
   ]
  },
  {
   "cell_type": "code",
   "execution_count": null,
   "id": "75036dd2-ca7c-4be8-8253-cd637bfe4d9a",
   "metadata": {},
   "outputs": [],
   "source": [
    "if ks_p_value_after_transformation < 0.05:\n",
    "    print('The test results indicate that the distribution of seconds is significantly different from a normal distribution.')\n",
    "else:\n",
    "    print('The test results indicate that the distribution of seconds is not significantly different from a normal distribution.')"
   ]
  },
  {
   "cell_type": "code",
   "execution_count": null,
   "id": "5e9b75d9-6ee7-4dd9-b8d1-f90cea7d8b64",
   "metadata": {},
   "outputs": [],
   "source": [
    "shapiro_test_statistic, shapiro_p_value = stats.shapiro(log_transformed_total_seg_ct)\n",
    "\n",
    "shapiro_test_statistic, shapiro_p_value"
   ]
  },
  {
   "cell_type": "markdown",
   "id": "678671de-c068-4a4a-be53-2f6a87232005",
   "metadata": {},
   "source": [
    "## **Hypotesis test** \n",
    "**Total Completion Time**"
   ]
  },
  {
   "cell_type": "code",
   "execution_count": null,
   "id": "1f5654b1-0c92-407c-b0da-52981da454c7",
   "metadata": {},
   "outputs": [],
   "source": [
    "#Two-sample t-test (one-tailed, \"less\").\n",
    "# 0.05 significance level\n",
    "# “The mean completion time for the test group is lower than the control.”\n",
    "# Null Hypothesis: mean completion time, control =< mean completion time, test\n",
    "# Alternative Hypothesis: mean completion time, control > mean completion time, test\n",
    "\n",
    "from scipy.stats import ttest_ind\n",
    "\n",
    "t_stat, p_value = ttest_ind(log_transformed_total_seg, log_transformed_total_seg_ct, alternative=\"less\")\n",
    "\n",
    "print(f\"T-statistic: {t_stat:.4f}\")\n",
    "print(f\"P-value: {p_value:.10f}\")\n",
    "\n",
    "if p_value < 0.05:\n",
    "    print(\"Reject the null hypothesis: The test group has a significantly lower mean log-transformed value.\")\n",
    "else:\n",
    "    print(\"Fail to reject the null hypothesis: No significant difference in means.\")"
   ]
  },
  {
   "cell_type": "code",
   "execution_count": null,
   "id": "5a7126f3-d9c6-47cb-9e6b-669e0b458649",
   "metadata": {},
   "outputs": [],
   "source": []
  }
 ],
 "metadata": {
  "kernelspec": {
   "display_name": "Python [conda env:base] *",
   "language": "python",
   "name": "conda-base-py"
  },
  "language_info": {
   "codemirror_mode": {
    "name": "ipython",
    "version": 3
   },
   "file_extension": ".py",
   "mimetype": "text/x-python",
   "name": "python",
   "nbconvert_exporter": "python",
   "pygments_lexer": "ipython3",
   "version": "3.12.7"
  }
 },
 "nbformat": 4,
 "nbformat_minor": 5
}
