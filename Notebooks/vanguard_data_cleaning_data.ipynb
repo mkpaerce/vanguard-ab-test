{
 "cells": [
  {
   "cell_type": "markdown",
   "id": "4214cac0-cb94-448c-9f5c-be7318681f83",
   "metadata": {},
   "source": [
    "## **Import the libraries** ##"
   ]
  },
  {
   "cell_type": "code",
   "execution_count": null,
   "id": "b5bfbaf4-5e7f-4242-8752-8c142c1260e0",
   "metadata": {},
   "outputs": [],
   "source": [
    "import pandas as pd\n",
    "import matplotlib.pyplot as plt\n",
    "import seaborn as sns\n",
    "import numpy as np\n",
    "\n",
    "%matplotlib inline"
   ]
  },
  {
   "cell_type": "markdown",
   "id": "e0c6ecfc-5219-4590-b037-3bd7472b4ff5",
   "metadata": {},
   "source": [
    "## **Create the files** ##\n",
    "Dont need to run this part again"
   ]
  },
  {
   "cell_type": "code",
   "execution_count": null,
   "id": "2383d4ad-be01-4056-a3e0-4062e7e7f8b7",
   "metadata": {},
   "outputs": [],
   "source": [
    "#Create the dataframes\n",
    "df_clients = pd.read_csv(\"../Data/Raw/df_final_experiment_clients.txt\")\n",
    "df_demo = pd.read_csv(\"../Data/Raw/df_final_demo.txt\")\n",
    "df_web1 = pd.read_csv(\"../Data/Raw/df_final_web_data_pt_1.txt\")\n",
    "df_web2 = pd.read_csv(\"../Data/Raw/df_final_web_data_pt_2.txt\")\n",
    "df_clients.head()"
   ]
  },
  {
   "cell_type": "code",
   "execution_count": null,
   "id": "54ec155e-3c88-4f78-89de-549f67d9aa0b",
   "metadata": {},
   "outputs": [],
   "source": [
    "#Concat data_web\n",
    "df_web=pd.concat([df_web1,df_web2], axis=0)\n",
    "df_web=df_web.reset_index(drop=True)\n",
    "df_web"
   ]
  },
  {
   "cell_type": "code",
   "execution_count": null,
   "id": "a5814833-06d8-48b5-ae57-cce769c4a4e2",
   "metadata": {},
   "outputs": [],
   "source": [
    "#Merge demo with clients\n",
    "df_demo=pd.merge(df_demo,df_clients, on=\"client_id\", how=\"left\")\n",
    "\n"
   ]
  },
  {
   "cell_type": "code",
   "execution_count": null,
   "id": "9a388f09-a083-4b68-92ab-e58bddca9d0c",
   "metadata": {},
   "outputs": [],
   "source": [
    "#I create demo_control\n",
    "conditioncontrol=df_demo[\"Variation\"]==\"Control\"\n",
    "df_demo_control=df_demo[conditioncontrol]\n",
    "df_demo_control"
   ]
  },
  {
   "cell_type": "code",
   "execution_count": null,
   "id": "74ba9d74-c0ba-47da-b2c1-21c331dbf762",
   "metadata": {},
   "outputs": [],
   "source": [
    "#I create demo_test\n",
    "conditiontest=df_demo[\"Variation\"]==\"Test\"\n",
    "df_demo_test=df_demo[conditiontest]\n",
    "df_demo_test"
   ]
  },
  {
   "cell_type": "code",
   "execution_count": null,
   "id": "540ee982-a9a6-4e2b-a47c-9e4adc1ff9f5",
   "metadata": {},
   "outputs": [],
   "source": [
    "#I add information about the clientes to data_web\n",
    "df_web=pd.merge(df_web,df_clients, on=\"client_id\", how=\"left\")\n",
    "df_web"
   ]
  },
  {
   "cell_type": "code",
   "execution_count": null,
   "id": "1ae82562-ae48-48d1-b420-e2df90935609",
   "metadata": {},
   "outputs": [],
   "source": [
    "#Create web_test\n",
    "conditiontest=df_web[\"Variation\"]==\"Test\"\n",
    "df_web_test=df_web[conditiontest]\n",
    "df_web_test"
   ]
  },
  {
   "cell_type": "code",
   "execution_count": null,
   "id": "9944e6e6-785c-4a39-bdaa-6067a841ac8c",
   "metadata": {},
   "outputs": [],
   "source": [
    "#Create web_control\n",
    "conditioncontrol=df_web[\"Variation\"]==\"Control\"\n",
    "df_web_control=df_web[conditioncontrol]\n",
    "df_web_control"
   ]
  },
  {
   "cell_type": "code",
   "execution_count": null,
   "id": "ecd062b6",
   "metadata": {},
   "outputs": [],
   "source": [
    "#FINAL RESULT 4 FILES:\n",
    "#df_web_control\n",
    "#df_web_test\n",
    "#df_demo_control\n",
    "#df_demo_test\n",
    "df_web_test.to_csv(\"../Data/Raw/df_final_web_data_test.txt\")\n",
    "df_web_control.to_csv(\"../Data/Raw/df_final_web_data_control.txt\")"
   ]
  },
  {
   "cell_type": "markdown",
   "id": "45abe42b-9f4a-4683-a57d-340e5517e76f",
   "metadata": {},
   "source": [
    "## **Cleaning and columns aggregation** ##"
   ]
  },
  {
   "cell_type": "code",
   "execution_count": null,
   "id": "ff943096-197f-4bf2-b222-f2328b72b38d",
   "metadata": {},
   "outputs": [],
   "source": [
    "#Clean web_data_test 1148 duplicated values\n",
    "df_web_test = pd.read_csv(\"../Data/Raw/df_final_web_data_test.txt\")\n",
    "df_web_test=df_web_test.reset_index(drop=True)\n",
    "df_web_test.duplicated().sum()\n",
    "df_web_test.drop_duplicates(inplace=True)\n",
    "df_web_test.duplicated().sum()"
   ]
  },
  {
   "cell_type": "code",
   "execution_count": null,
   "id": "eb6f0478",
   "metadata": {},
   "outputs": [],
   "source": [
    "#Clean web_data_test 1148 duplicated values\n",
    "df_web_control = pd.read_csv(\"../Data/Raw/df_final_web_data_control.txt\")\n",
    "df_web_control=df_web_control.reset_index(drop=True)\n",
    "df_web_control.duplicated().sum()\n",
    "df_web_control.drop_duplicates(inplace=True)\n",
    "df_web_control.duplicated().sum()"
   ]
  },
  {
   "cell_type": "code",
   "execution_count": null,
   "id": "98428a5c-2edd-4615-8723-046b8d570b60",
   "metadata": {},
   "outputs": [],
   "source": [
    "#Split date and time\n",
    "df_web_test[\"date\"]=df_web_test[\"date_time\"].str.split(\" \", expand=True)[0]\n",
    "df_web_test[\"time\"]=df_web_test[\"date_time\"].str.split(\" \", expand=True)[1]\n",
    "df_web_test[\"hour\"]=df_web_test[\"time\"].str.split(\":\",expand=True)[0]\n",
    "df_web_test[\"hour\"]=df_web_test[\"hour\"].astype(int)\n",
    "df_web_test.head()"
   ]
  },
  {
   "cell_type": "code",
   "execution_count": null,
   "id": "b5aeeeca",
   "metadata": {},
   "outputs": [],
   "source": [
    "#Split date and time\n",
    "df_web_control[\"date\"]=df_web_control[\"date_time\"].str.split(\" \", expand=True)[0]\n",
    "df_web_control[\"time\"]=df_web_control[\"date_time\"].str.split(\" \", expand=True)[1]\n",
    "df_web_control[\"hour\"]=df_web_control[\"time\"].str.split(\":\",expand=True)[0]\n",
    "df_web_control[\"hour\"]=df_web_control[\"hour\"].astype(int)\n",
    "df_web_control.head()"
   ]
  },
  {
   "cell_type": "code",
   "execution_count": null,
   "id": "56f1c4b6-e7eb-4525-bf79-9ee8b92cc136",
   "metadata": {},
   "outputs": [],
   "source": [
    "#Change the dtypes of the column time %H,%M,%S format\n",
    "df_web_test['time'] = (pd.to_datetime(df_web_test['time'], format='%H:%M:%S'))\n",
    "df_web_test"
   ]
  },
  {
   "cell_type": "code",
   "execution_count": null,
   "id": "790d0c46",
   "metadata": {},
   "outputs": [],
   "source": [
    "#Change the dtypes of the column time %H,%M,%S format\n",
    "df_web_control['time'] = (pd.to_datetime(df_web_control['time'], format='%H:%M:%S'))\n",
    "df_web_control"
   ]
  },
  {
   "cell_type": "code",
   "execution_count": null,
   "id": "20274081-57ec-4a3d-85e8-6d94b3557e99",
   "metadata": {},
   "outputs": [],
   "source": [
    "#Change the values of process_step\n",
    "df_web_test[\"process_step\"]=df_web_test[\"process_step\"].map({\"start\":0,\"step_1\":1,\"step_2\":2,\"step_3\":3,\"confirm\":4})\n",
    "df_web_test[\"process_step\"].unique()"
   ]
  },
  {
   "cell_type": "code",
   "execution_count": null,
   "id": "d381a2b8",
   "metadata": {},
   "outputs": [],
   "source": [
    "#Change the values of process_step\n",
    "df_web_control[\"process_step\"]=df_web_control[\"process_step\"].map({\"start\":0,\"step_1\":1,\"step_2\":2,\"step_3\":3,\"confirm\":4})\n",
    "df_web_control[\"process_step\"].unique()"
   ]
  },
  {
   "cell_type": "code",
   "execution_count": null,
   "id": "7167a110-9886-4c81-852a-0c8cb23c6181",
   "metadata": {},
   "outputs": [],
   "source": [
    "#Create two new columns in order to have the step_jump and one column \"control\" to filter when the data is not from the same visit_id.\n",
    "df_web_test=df_web_test.sort_values([\"visit_id\",\"date\", \"time\", \"process_step\"])\n",
    "df_web_test[\"step_jump\"]=df_web_test[\"process_step\"].astype(str).shift(+1)+\"-\"+df_web_test[\"process_step\"].astype(str)\n",
    "#Create column control which help me to determine, later, is the steps follows a orded sense.\n",
    "df_web_test[\"control\"]=(df_web_test[\"process_step\"]-df_web_test[\"process_step\"].shift(+1)).abs()\n",
    "df_web_test[\"dif_time\"]=(df_web_test[\"time\"])-(df_web_test[\"time\"].shift(+1))\n",
    "df_web_test"
   ]
  },
  {
   "cell_type": "code",
   "execution_count": null,
   "id": "c04af195",
   "metadata": {},
   "outputs": [],
   "source": [
    "#Create two new columns in order to have the step_jump and one column \"control\" to filter when the data is not from the same visit_id.\n",
    "df_web_control=df_web_control.sort_values([\"visit_id\",\"date\", \"time\", \"process_step\"])\n",
    "df_web_control[\"step_jump\"]=df_web_control[\"process_step\"].astype(str).shift(+1)+\"-\"+df_web_control[\"process_step\"].astype(str)\n",
    "#Create column control which help me to determine, later, is the steps follows a orded sense.\n",
    "df_web_control[\"control\"]=(df_web_control[\"process_step\"]-df_web_control[\"process_step\"].shift(+1)).abs()\n",
    "df_web_control[\"dif_time\"]=(df_web_control[\"time\"])-(df_web_control[\"time\"].shift(+1))\n",
    "df_web_control"
   ]
  },
  {
   "cell_type": "code",
   "execution_count": null,
   "id": "cc3957a0-dcef-4a6d-bf84-5f712b3ef007",
   "metadata": {},
   "outputs": [],
   "source": [
    "#Create a column for the total of segs spend between steps\n",
    "df_web_test=df_web_test.dropna(subset=[\"control\"])\n",
    "df_web_test[\"dif_time\"] = (df_web_test['dif_time'].astype(str))\n",
    "df_web_test[\"dif_time\"]=(df_web_test[\"dif_time\"].str.split(\" \")).str[-1]\n",
    "df_web_test[\"dif_hour\"]=((df_web_test[\"dif_time\"].str.split(\":\")).str[0])\n",
    "df_web_test[\"dif_hour\"]=df_web_test[\"dif_hour\"].astype(int)\n",
    "df_web_test[\"dif_min\"]=((df_web_test[\"dif_time\"].str.split(\":\")).str[1]).astype(int)\n",
    "df_web_test[\"dif_seg\"]=((df_web_test[\"dif_time\"].str.split(\":\")).str[2]).astype(int)\n",
    "df_web_test[\"total_seg\"]=df_web_test[\"dif_hour\"]*3600 + df_web_test[\"dif_min\"]*60 + df_web_test[\"dif_seg\"]\n",
    "df_web_test"
   ]
  },
  {
   "cell_type": "code",
   "execution_count": null,
   "id": "ecbb4e91",
   "metadata": {},
   "outputs": [],
   "source": [
    "#Create a column for the total of segs spend between steps\n",
    "df_web_control=df_web_control.dropna(subset=[\"control\"])\n",
    "df_web_control[\"dif_time\"] = (df_web_control['dif_time'].astype(str))\n",
    "df_web_control[\"dif_time\"]=(df_web_control[\"dif_time\"].str.split(\" \")).str[-1]\n",
    "df_web_control[\"dif_hour\"]=((df_web_control[\"dif_time\"].str.split(\":\")).str[0])\n",
    "df_web_control[\"dif_hour\"]=df_web_control[\"dif_hour\"].astype(int)\n",
    "df_web_control[\"dif_min\"]=((df_web_control[\"dif_time\"].str.split(\":\")).str[1]).astype(int)\n",
    "df_web_control[\"dif_seg\"]=((df_web_control[\"dif_time\"].str.split(\":\")).str[2]).astype(int)\n",
    "df_web_control[\"total_seg\"]=df_web_control[\"dif_hour\"]*3600 + df_web_control[\"dif_min\"]*60 + df_web_control[\"dif_seg\"]\n",
    "df_web_control"
   ]
  },
  {
   "cell_type": "code",
   "execution_count": null,
   "id": "51bedccf-5952-4fd9-b8d3-72489aa9b4bc",
   "metadata": {},
   "outputs": [],
   "source": [
    "#Function for the keep_control column. It is only going to be used in terms of TIME BETWEEN STEPS\n",
    "def row_count(df):\n",
    "    df['next_visit'] = df['visit_id'].shift(+1) \n",
    "    df['keep_contol'] = df.apply(lambda row: \"YES\" if row['visit_id'] == row['next_visit'] else \"NO\", axis=1)\n",
    "    df.drop(columns=['next_visit'], inplace=True)\n",
    "    return df"
   ]
  },
  {
   "cell_type": "code",
   "execution_count": null,
   "id": "3fe7e2f2",
   "metadata": {},
   "outputs": [],
   "source": [
    "#Function for the keep_control column. It is only going to be used in terms of TIME BETWEEN STEPS\n",
    "def row_count(df):\n",
    "    df['next_visit'] = df['visit_id'].shift(+1) \n",
    "    df['keep_contol'] = df.apply(lambda row: \"YES\" if row['visit_id'] == row['next_visit'] else \"NO\", axis=1)\n",
    "    df.drop(columns=['next_visit'], inplace=True)\n",
    "    return df"
   ]
  },
  {
   "cell_type": "code",
   "execution_count": null,
   "id": "978d445e-1cd9-4a73-8ea0-e3fa56cfa21f",
   "metadata": {},
   "outputs": [],
   "source": [
    "#Add the column keep_control to my DataFrame\n",
    "df_web_test=row_count(df_web_test)\n",
    "df_web_test\n",
    "df_web_test.to_csv(\"../Data/Clean/df_final_web_data_test_clean.txt\")\n",
    "#FINAL DATA FRAME TO USE: df_web_test"
   ]
  },
  {
   "cell_type": "code",
   "execution_count": null,
   "id": "51d2f6b4",
   "metadata": {},
   "outputs": [],
   "source": [
    "#Add the column keep_control to my DataFrame\n",
    "df_web_control=row_count(df_web_control)\n",
    "df_web_control\n",
    "df_web_control.to_csv(\"../Data/Clean/df_final_web_data_control_clean.txt\")\n",
    "#FINAL DATA FRAME TO USE: df_web_control"
   ]
  }
 ],
 "metadata": {
  "kernelspec": {
   "display_name": "Python [conda env:base] *",
   "language": "python",
   "name": "conda-base-py"
  },
  "language_info": {
   "codemirror_mode": {
    "name": "ipython",
    "version": 3
   },
   "file_extension": ".py",
   "mimetype": "text/x-python",
   "name": "python",
   "nbconvert_exporter": "python",
   "pygments_lexer": "ipython3",
   "version": "3.12.7"
  }
 },
 "nbformat": 4,
 "nbformat_minor": 5
}
